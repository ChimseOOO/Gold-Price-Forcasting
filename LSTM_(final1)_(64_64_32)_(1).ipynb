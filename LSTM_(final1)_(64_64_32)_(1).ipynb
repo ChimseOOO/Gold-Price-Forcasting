{
  "cells": [
    {
      "cell_type": "markdown",
      "metadata": {
        "id": "rzl4T4MqPLEV"
      },
      "source": [
        "**Tổng Quan**\n",
        "---\n",
        "---\n",
        "*Đề Tài (Topic)*\n",
        "  - Xây dựng mô hình dự đoán giá vàng\n",
        "\n",
        "*Dữ liệu (Dataset)*\n",
        "  - Dataset giá vàng Việt Nam được lấy từ Kaggle đây là một trong những cộng đồng, một nền tảng lớn uy tín về Dataset.\n",
        "  - Dữ liệu ban đầu: 19 Cột,\n",
        "  - Quá trình xử lí dữ liệu:\n",
        "    + Tách Cột 'Date','Price (VND)' ra khỏi bảng dữ liệu chính sau đó chọn lọc data trong khoảng thời gian từ ngày 01-01-2002 đến ngày 08-04-2022.\n",
        "\n",
        "*Mô hình (Model)*\n",
        "  - Mô hình sử dụng thuật toán học sâu có giám sát LSTM (Long Short-Term Memory) đây là dạng đặc biệt của RNN, cũng có thể nói là một mô hình cải tiến từ RNN nhằm giải quyết các bước nhớ dài của RNN.\n"
      ]
    },
    {
      "cell_type": "markdown",
      "metadata": {
        "id": "DeE7h21RDPMv"
      },
      "source": [
        "**IMPORT LIBRARY**\n",
        "---\n",
        "---\n"
      ]
    },
    {
      "cell_type": "code",
      "execution_count": null,
      "metadata": {
        "id": "RHFQB5isB0vv"
      },
      "outputs": [],
      "source": [
        "#Prepare and process data\n",
        "import math\n",
        "import pandas as pd #read data file csv\n",
        "import matplotlib.pyplot as plt #draw chart\n",
        "import matplotlib.ticker as ticker #Format\n",
        "import numpy as np #data processing\n",
        "from keras.callbacks import ModelCheckpoint #keep good training\n",
        "from tensorflow.keras.models import load_model #download model\n",
        "from sklearn.preprocessing import MinMaxScaler #normalize data 0->1\n",
        "#Training, model building\n",
        "from keras.models import Sequential #input\n",
        "from keras.layers import Dropout #avoid overfitting\n",
        "from keras.layers import LSTM #dependent learning\n",
        "from keras.layers import Dense #output\n",
        "#Phân tích chỉ số\n",
        "from sklearn.metrics import r2_score #measure suitability\n",
        "from sklearn.metrics import mean_squared_error #measure MSE and RMSE = sqrt(MSE)\n",
        "from sklearn. metrics import mean_absolute_error #measure mean absolute error\n",
        "from sklearn.metrics import mean_absolute_percentage_error #measure the mean percent absolute error"
      ]
    },
    {
      "cell_type": "markdown",
      "metadata": {
        "id": "rlmiFHO6Es9_"
      },
      "source": [
        "**READ DATA**\n",
        "---\n",
        "---"
      ]
    },
    {
      "cell_type": "code",
      "execution_count": null,
      "metadata": {
        "colab": {
          "base_uri": "https://localhost:8080/"
        },
        "id": "5MVvuxifErws",
        "outputId": "4e818dd7-96f2-4f87-fcbd-cc89e0f75393"
      },
      "outputs": [
        {
          "output_type": "stream",
          "name": "stdout",
          "text": [
            "Drive already mounted at /content/drive; to attempt to forcibly remount, call drive.mount(\"/content/drive\", force_remount=True).\n"
          ]
        }
      ],
      "source": [
        "#Kết nội google colab với drive\n",
        "from google.colab import drive\n",
        "drive.mount('/content/drive')"
      ]
    },
    {
      "cell_type": "code",
      "execution_count": null,
      "metadata": {
        "colab": {
          "base_uri": "https://localhost:8080/",
          "height": 424
        },
        "id": "eOIzI3XqHA4w",
        "outputId": "1c89a896-6cbc-46b6-d2f0-6afcf53861e8"
      },
      "outputs": [
        {
          "output_type": "execute_result",
          "data": {
            "text/plain": [
              "            Date       Prices\n",
              "0     2002-01-01   4170449.50\n",
              "1     2002-01-02   4198629.19\n",
              "2     2002-01-03   4206113.25\n",
              "3     2002-01-04   4190692.00\n",
              "4     2002-01-07   4203514.59\n",
              "...          ...          ...\n",
              "5284  2022-04-04  44102530.37\n",
              "5285  2022-04-05  44470144.87\n",
              "5286  2022-04-06  44137702.89\n",
              "5287  2022-04-07  44176594.17\n",
              "5288  2022-04-08  44384284.57\n",
              "\n",
              "[5289 rows x 2 columns]"
            ],
            "text/html": [
              "\n",
              "  <div id=\"df-fd117142-ed1f-471d-bd1b-43212e422d2b\">\n",
              "    <div class=\"colab-df-container\">\n",
              "      <div>\n",
              "<style scoped>\n",
              "    .dataframe tbody tr th:only-of-type {\n",
              "        vertical-align: middle;\n",
              "    }\n",
              "\n",
              "    .dataframe tbody tr th {\n",
              "        vertical-align: top;\n",
              "    }\n",
              "\n",
              "    .dataframe thead th {\n",
              "        text-align: right;\n",
              "    }\n",
              "</style>\n",
              "<table border=\"1\" class=\"dataframe\">\n",
              "  <thead>\n",
              "    <tr style=\"text-align: right;\">\n",
              "      <th></th>\n",
              "      <th>Date</th>\n",
              "      <th>Prices</th>\n",
              "    </tr>\n",
              "  </thead>\n",
              "  <tbody>\n",
              "    <tr>\n",
              "      <th>0</th>\n",
              "      <td>2002-01-01</td>\n",
              "      <td>4170449.50</td>\n",
              "    </tr>\n",
              "    <tr>\n",
              "      <th>1</th>\n",
              "      <td>2002-01-02</td>\n",
              "      <td>4198629.19</td>\n",
              "    </tr>\n",
              "    <tr>\n",
              "      <th>2</th>\n",
              "      <td>2002-01-03</td>\n",
              "      <td>4206113.25</td>\n",
              "    </tr>\n",
              "    <tr>\n",
              "      <th>3</th>\n",
              "      <td>2002-01-04</td>\n",
              "      <td>4190692.00</td>\n",
              "    </tr>\n",
              "    <tr>\n",
              "      <th>4</th>\n",
              "      <td>2002-01-07</td>\n",
              "      <td>4203514.59</td>\n",
              "    </tr>\n",
              "    <tr>\n",
              "      <th>...</th>\n",
              "      <td>...</td>\n",
              "      <td>...</td>\n",
              "    </tr>\n",
              "    <tr>\n",
              "      <th>5284</th>\n",
              "      <td>2022-04-04</td>\n",
              "      <td>44102530.37</td>\n",
              "    </tr>\n",
              "    <tr>\n",
              "      <th>5285</th>\n",
              "      <td>2022-04-05</td>\n",
              "      <td>44470144.87</td>\n",
              "    </tr>\n",
              "    <tr>\n",
              "      <th>5286</th>\n",
              "      <td>2022-04-06</td>\n",
              "      <td>44137702.89</td>\n",
              "    </tr>\n",
              "    <tr>\n",
              "      <th>5287</th>\n",
              "      <td>2022-04-07</td>\n",
              "      <td>44176594.17</td>\n",
              "    </tr>\n",
              "    <tr>\n",
              "      <th>5288</th>\n",
              "      <td>2022-04-08</td>\n",
              "      <td>44384284.57</td>\n",
              "    </tr>\n",
              "  </tbody>\n",
              "</table>\n",
              "<p>5289 rows × 2 columns</p>\n",
              "</div>\n",
              "      <button class=\"colab-df-convert\" onclick=\"convertToInteractive('df-fd117142-ed1f-471d-bd1b-43212e422d2b')\"\n",
              "              title=\"Convert this dataframe to an interactive table.\"\n",
              "              style=\"display:none;\">\n",
              "        \n",
              "  <svg xmlns=\"http://www.w3.org/2000/svg\" height=\"24px\"viewBox=\"0 0 24 24\"\n",
              "       width=\"24px\">\n",
              "    <path d=\"M0 0h24v24H0V0z\" fill=\"none\"/>\n",
              "    <path d=\"M18.56 5.44l.94 2.06.94-2.06 2.06-.94-2.06-.94-.94-2.06-.94 2.06-2.06.94zm-11 1L8.5 8.5l.94-2.06 2.06-.94-2.06-.94L8.5 2.5l-.94 2.06-2.06.94zm10 10l.94 2.06.94-2.06 2.06-.94-2.06-.94-.94-2.06-.94 2.06-2.06.94z\"/><path d=\"M17.41 7.96l-1.37-1.37c-.4-.4-.92-.59-1.43-.59-.52 0-1.04.2-1.43.59L10.3 9.45l-7.72 7.72c-.78.78-.78 2.05 0 2.83L4 21.41c.39.39.9.59 1.41.59.51 0 1.02-.2 1.41-.59l7.78-7.78 2.81-2.81c.8-.78.8-2.07 0-2.86zM5.41 20L4 18.59l7.72-7.72 1.47 1.35L5.41 20z\"/>\n",
              "  </svg>\n",
              "      </button>\n",
              "      \n",
              "  <style>\n",
              "    .colab-df-container {\n",
              "      display:flex;\n",
              "      flex-wrap:wrap;\n",
              "      gap: 12px;\n",
              "    }\n",
              "\n",
              "    .colab-df-convert {\n",
              "      background-color: #E8F0FE;\n",
              "      border: none;\n",
              "      border-radius: 50%;\n",
              "      cursor: pointer;\n",
              "      display: none;\n",
              "      fill: #1967D2;\n",
              "      height: 32px;\n",
              "      padding: 0 0 0 0;\n",
              "      width: 32px;\n",
              "    }\n",
              "\n",
              "    .colab-df-convert:hover {\n",
              "      background-color: #E2EBFA;\n",
              "      box-shadow: 0px 1px 2px rgba(60, 64, 67, 0.3), 0px 1px 3px 1px rgba(60, 64, 67, 0.15);\n",
              "      fill: #174EA6;\n",
              "    }\n",
              "\n",
              "    [theme=dark] .colab-df-convert {\n",
              "      background-color: #3B4455;\n",
              "      fill: #D2E3FC;\n",
              "    }\n",
              "\n",
              "    [theme=dark] .colab-df-convert:hover {\n",
              "      background-color: #434B5C;\n",
              "      box-shadow: 0px 1px 3px 1px rgba(0, 0, 0, 0.15);\n",
              "      filter: drop-shadow(0px 1px 2px rgba(0, 0, 0, 0.3));\n",
              "      fill: #FFFFFF;\n",
              "    }\n",
              "  </style>\n",
              "\n",
              "      <script>\n",
              "        const buttonEl =\n",
              "          document.querySelector('#df-fd117142-ed1f-471d-bd1b-43212e422d2b button.colab-df-convert');\n",
              "        buttonEl.style.display =\n",
              "          google.colab.kernel.accessAllowed ? 'block' : 'none';\n",
              "\n",
              "        async function convertToInteractive(key) {\n",
              "          const element = document.querySelector('#df-fd117142-ed1f-471d-bd1b-43212e422d2b');\n",
              "          const dataTable =\n",
              "            await google.colab.kernel.invokeFunction('convertToInteractive',\n",
              "                                                     [key], {});\n",
              "          if (!dataTable) return;\n",
              "\n",
              "          const docLinkHtml = 'Like what you see? Visit the ' +\n",
              "            '<a target=\"_blank\" href=https://colab.research.google.com/notebooks/data_table.ipynb>data table notebook</a>'\n",
              "            + ' to learn more about interactive tables.';\n",
              "          element.innerHTML = '';\n",
              "          dataTable['output_type'] = 'display_data';\n",
              "          await google.colab.output.renderOutput(dataTable, element);\n",
              "          const docLink = document.createElement('div');\n",
              "          docLink.innerHTML = docLinkHtml;\n",
              "          element.appendChild(docLink);\n",
              "        }\n",
              "      </script>\n",
              "    </div>\n",
              "  </div>\n",
              "  "
            ]
          },
          "metadata": {},
          "execution_count": 3
        }
      ],
      "source": [
        "#Proceed to read csv data using pandas library with the command pd.read_csv\n",
        "df=pd.read_csv('/content/drive/MyDrive/Probability-Statistic/LAB3/Team5-PAPERREPORT/Data/DATA(2002-2022).csv')\n",
        "df"
      ]
    },
    {
      "cell_type": "code",
      "execution_count": null,
      "metadata": {
        "colab": {
          "base_uri": "https://localhost:8080/"
        },
        "id": "aXMfI8UTD1-Q",
        "outputId": "7a8178b3-41ea-4b92-81ad-107da654912f"
      },
      "outputs": [
        {
          "output_type": "stream",
          "name": "stdout",
          "text": [
            "<class 'pandas.core.frame.DataFrame'>\n",
            "RangeIndex: 5289 entries, 0 to 5288\n",
            "Data columns (total 2 columns):\n",
            " #   Column  Non-Null Count  Dtype  \n",
            "---  ------  --------------  -----  \n",
            " 0   Date    5289 non-null   object \n",
            " 1   Prices  5289 non-null   float64\n",
            "dtypes: float64(1), object(1)\n",
            "memory usage: 82.8+ KB\n"
          ]
        }
      ],
      "source": [
        "df.info() #check formatted data"
      ]
    },
    {
      "cell_type": "markdown",
      "metadata": {
        "id": "_tRZ1sW54PRC"
      },
      "source": [
        "**ĐỊNH DẠNG CẤU TRÚC DỮ LIỆU**\n",
        "---\n",
        "---\n"
      ]
    },
    {
      "cell_type": "code",
      "execution_count": null,
      "metadata": {
        "id": "8CBsH3gXDf_n"
      },
      "outputs": [],
      "source": [
        "#Reformat the structure of the Date column (year-month-day format)\n",
        "df[\"Date\"]=pd.to_datetime(df.Date,format=\"%Y/%m/%d\")"
      ]
    },
    {
      "cell_type": "code",
      "execution_count": null,
      "metadata": {
        "colab": {
          "base_uri": "https://localhost:8080/"
        },
        "id": "yuW_dclCD_Wi",
        "outputId": "ce7d5e2a-2792-4dd3-cb5a-574b362cb59d"
      },
      "outputs": [
        {
          "output_type": "stream",
          "name": "stdout",
          "text": [
            "<class 'pandas.core.frame.DataFrame'>\n",
            "RangeIndex: 5289 entries, 0 to 5288\n",
            "Data columns (total 2 columns):\n",
            " #   Column  Non-Null Count  Dtype         \n",
            "---  ------  --------------  -----         \n",
            " 0   Date    5289 non-null   datetime64[ns]\n",
            " 1   Prices  5289 non-null   float64       \n",
            "dtypes: datetime64[ns](1), float64(1)\n",
            "memory usage: 82.8 KB\n"
          ]
        }
      ],
      "source": [
        "df.info()"
      ]
    },
    {
      "cell_type": "code",
      "execution_count": null,
      "metadata": {
        "id": "Mv5E5ijAI7Sc"
      },
      "outputs": [],
      "source": [
        "df=pd.DataFrame(df,columns=['Date','Prices'])\n",
        "df.index=df.Date\n",
        "df.drop(\"Date\",axis=1, inplace=True)"
      ]
    },
    {
      "cell_type": "code",
      "execution_count": null,
      "metadata": {
        "colab": {
          "base_uri": "https://localhost:8080/",
          "height": 300
        },
        "id": "ADLfiMeJ6AcF",
        "outputId": "3e0193b1-d79f-4b0e-d003-49cab21c177c"
      },
      "outputs": [
        {
          "output_type": "execute_result",
          "data": {
            "text/plain": [
              "                Prices\n",
              "Date                  \n",
              "2002-01-01  4170449.50\n",
              "2002-01-02  4198629.19\n",
              "2002-01-03  4206113.25\n",
              "2002-01-04  4190692.00\n",
              "2002-01-07  4203514.59\n",
              "2002-01-08  4204907.59\n",
              "2002-01-09  4244045.59"
            ],
            "text/html": [
              "\n",
              "  <div id=\"df-da65372f-46ce-446a-a25c-d5725e7aec4a\">\n",
              "    <div class=\"colab-df-container\">\n",
              "      <div>\n",
              "<style scoped>\n",
              "    .dataframe tbody tr th:only-of-type {\n",
              "        vertical-align: middle;\n",
              "    }\n",
              "\n",
              "    .dataframe tbody tr th {\n",
              "        vertical-align: top;\n",
              "    }\n",
              "\n",
              "    .dataframe thead th {\n",
              "        text-align: right;\n",
              "    }\n",
              "</style>\n",
              "<table border=\"1\" class=\"dataframe\">\n",
              "  <thead>\n",
              "    <tr style=\"text-align: right;\">\n",
              "      <th></th>\n",
              "      <th>Prices</th>\n",
              "    </tr>\n",
              "    <tr>\n",
              "      <th>Date</th>\n",
              "      <th></th>\n",
              "    </tr>\n",
              "  </thead>\n",
              "  <tbody>\n",
              "    <tr>\n",
              "      <th>2002-01-01</th>\n",
              "      <td>4170449.50</td>\n",
              "    </tr>\n",
              "    <tr>\n",
              "      <th>2002-01-02</th>\n",
              "      <td>4198629.19</td>\n",
              "    </tr>\n",
              "    <tr>\n",
              "      <th>2002-01-03</th>\n",
              "      <td>4206113.25</td>\n",
              "    </tr>\n",
              "    <tr>\n",
              "      <th>2002-01-04</th>\n",
              "      <td>4190692.00</td>\n",
              "    </tr>\n",
              "    <tr>\n",
              "      <th>2002-01-07</th>\n",
              "      <td>4203514.59</td>\n",
              "    </tr>\n",
              "    <tr>\n",
              "      <th>2002-01-08</th>\n",
              "      <td>4204907.59</td>\n",
              "    </tr>\n",
              "    <tr>\n",
              "      <th>2002-01-09</th>\n",
              "      <td>4244045.59</td>\n",
              "    </tr>\n",
              "  </tbody>\n",
              "</table>\n",
              "</div>\n",
              "      <button class=\"colab-df-convert\" onclick=\"convertToInteractive('df-da65372f-46ce-446a-a25c-d5725e7aec4a')\"\n",
              "              title=\"Convert this dataframe to an interactive table.\"\n",
              "              style=\"display:none;\">\n",
              "        \n",
              "  <svg xmlns=\"http://www.w3.org/2000/svg\" height=\"24px\"viewBox=\"0 0 24 24\"\n",
              "       width=\"24px\">\n",
              "    <path d=\"M0 0h24v24H0V0z\" fill=\"none\"/>\n",
              "    <path d=\"M18.56 5.44l.94 2.06.94-2.06 2.06-.94-2.06-.94-.94-2.06-.94 2.06-2.06.94zm-11 1L8.5 8.5l.94-2.06 2.06-.94-2.06-.94L8.5 2.5l-.94 2.06-2.06.94zm10 10l.94 2.06.94-2.06 2.06-.94-2.06-.94-.94-2.06-.94 2.06-2.06.94z\"/><path d=\"M17.41 7.96l-1.37-1.37c-.4-.4-.92-.59-1.43-.59-.52 0-1.04.2-1.43.59L10.3 9.45l-7.72 7.72c-.78.78-.78 2.05 0 2.83L4 21.41c.39.39.9.59 1.41.59.51 0 1.02-.2 1.41-.59l7.78-7.78 2.81-2.81c.8-.78.8-2.07 0-2.86zM5.41 20L4 18.59l7.72-7.72 1.47 1.35L5.41 20z\"/>\n",
              "  </svg>\n",
              "      </button>\n",
              "      \n",
              "  <style>\n",
              "    .colab-df-container {\n",
              "      display:flex;\n",
              "      flex-wrap:wrap;\n",
              "      gap: 12px;\n",
              "    }\n",
              "\n",
              "    .colab-df-convert {\n",
              "      background-color: #E8F0FE;\n",
              "      border: none;\n",
              "      border-radius: 50%;\n",
              "      cursor: pointer;\n",
              "      display: none;\n",
              "      fill: #1967D2;\n",
              "      height: 32px;\n",
              "      padding: 0 0 0 0;\n",
              "      width: 32px;\n",
              "    }\n",
              "\n",
              "    .colab-df-convert:hover {\n",
              "      background-color: #E2EBFA;\n",
              "      box-shadow: 0px 1px 2px rgba(60, 64, 67, 0.3), 0px 1px 3px 1px rgba(60, 64, 67, 0.15);\n",
              "      fill: #174EA6;\n",
              "    }\n",
              "\n",
              "    [theme=dark] .colab-df-convert {\n",
              "      background-color: #3B4455;\n",
              "      fill: #D2E3FC;\n",
              "    }\n",
              "\n",
              "    [theme=dark] .colab-df-convert:hover {\n",
              "      background-color: #434B5C;\n",
              "      box-shadow: 0px 1px 3px 1px rgba(0, 0, 0, 0.15);\n",
              "      filter: drop-shadow(0px 1px 2px rgba(0, 0, 0, 0.3));\n",
              "      fill: #FFFFFF;\n",
              "    }\n",
              "  </style>\n",
              "\n",
              "      <script>\n",
              "        const buttonEl =\n",
              "          document.querySelector('#df-da65372f-46ce-446a-a25c-d5725e7aec4a button.colab-df-convert');\n",
              "        buttonEl.style.display =\n",
              "          google.colab.kernel.accessAllowed ? 'block' : 'none';\n",
              "\n",
              "        async function convertToInteractive(key) {\n",
              "          const element = document.querySelector('#df-da65372f-46ce-446a-a25c-d5725e7aec4a');\n",
              "          const dataTable =\n",
              "            await google.colab.kernel.invokeFunction('convertToInteractive',\n",
              "                                                     [key], {});\n",
              "          if (!dataTable) return;\n",
              "\n",
              "          const docLinkHtml = 'Like what you see? Visit the ' +\n",
              "            '<a target=\"_blank\" href=https://colab.research.google.com/notebooks/data_table.ipynb>data table notebook</a>'\n",
              "            + ' to learn more about interactive tables.';\n",
              "          element.innerHTML = '';\n",
              "          dataTable['output_type'] = 'display_data';\n",
              "          await google.colab.output.renderOutput(dataTable, element);\n",
              "          const docLink = document.createElement('div');\n",
              "          docLink.innerHTML = docLinkHtml;\n",
              "          element.appendChild(docLink);\n",
              "        }\n",
              "      </script>\n",
              "    </div>\n",
              "  </div>\n",
              "  "
            ]
          },
          "metadata": {},
          "execution_count": 8
        }
      ],
      "source": [
        "df.head(7) # kiểm tra 7 dòng đầu tiên"
      ]
    },
    {
      "cell_type": "markdown",
      "metadata": {
        "id": "5NQFjFDwE1tL"
      },
      "source": [
        "**SƠ ĐỒ DỮ LIỆU SAU KHI XỬ LÍ VÀ ĐỊNH DẠNG**\n",
        "---\n",
        "---\n",
        "* Vẽ dựa theo giá vàng trong quá khứ\n",
        "---"
      ]
    },
    {
      "cell_type": "code",
      "execution_count": null,
      "metadata": {
        "id": "XAIWvj5asR5T"
      },
      "outputs": [],
      "source": [
        "\n",
        "# #Kích thước biểu đồ với chiều ngang là 17 và dọc là 5\n",
        "# plt.figure(figsize=(17,5))\n",
        "# #Lập biểu đồ với dữ liệu là Prices đặt tên nhãn là Gold Prices và màu line là đỏ\n",
        "# plot = plt.plot(df['Prices'], label='Gold Prices', color='red')\n",
        "# #Đặt tên biểu đồ là Plot Gold Prices\n",
        "# plt.title('Plot Gold Prices')\n",
        "# #Đặt tên cột x là Days\n",
        "# plt.xlabel('Days')\n",
        "# #Đặt tên cột y là Price(VND)\n",
        "# plt.ylabel('Prices (VND)')\n",
        "# #Thêm chú thích\n",
        "# plt.legend()\n",
        "# #Hiển thị sơ đồ\n",
        "# # plot.set_major_formatter(format)\n"
      ]
    },
    {
      "cell_type": "code",
      "execution_count": null,
      "metadata": {
        "colab": {
          "base_uri": "https://localhost:8080/",
          "height": 350
        },
        "id": "ItRg5H2mIwCF",
        "outputId": "48ff6f86-29ff-44ca-c84f-2cf63098e6c8"
      },
      "outputs": [
        {
          "output_type": "display_data",
          "data": {
            "text/plain": [
              "<Figure size 1440x360 with 1 Axes>"
            ],
            "image/png": "[encoded data removed]"
          },
          "metadata": {
            "needs_background": "light"
          }
        }
      ],
      "source": [
        "#Draw plot\n",
        "format = ticker.StrMethodFormatter('{x:,.0f}')\n",
        "title = 'Gold Price'\n",
        "ylabel = 'Prices (VND)'\n",
        "xlabel = 'Date'\n",
        "plot = df['Prices'].plot(figsize=(20, 5), title=title)\n",
        "plot.autoscale(axis='x', tight=True)\n",
        "plot.set(xlabel=xlabel, ylabel=ylabel)\n",
        "plot.yaxis.set_major_formatter(format)\n",
        "plot.grid(True)\n",
        "plt.show()\n"
      ]
    },
    {
      "cell_type": "markdown",
      "metadata": {
        "id": "vXZM86sEEtx4"
      },
      "source": [
        "**CHỌN VÙNG DỮ LIỆU TRAIN VÀ TEST**\n",
        "---\n",
        "---\n",
        "  - Lần 1\n",
        "* 80% Dữ liệu đầu tiên dùng train\n",
        "* 20% dữ liệu sau đó dùng test\n",
        "  - Lần 2\n",
        "* 70% Dữ liệu đầu tiên dùng train\n",
        "* 30% dữ liệu sau đó dùng test\n",
        "  - Lần 3\n",
        "* 90% Dữ liệu đầu tiên dùng train\n",
        "* 10% dữ liệu sau đó dùng test"
      ]
    },
    {
      "cell_type": "code",
      "execution_count": null,
      "metadata": {
        "colab": {
          "base_uri": "https://localhost:8080/"
        },
        "id": "CoHR56sSFHDG",
        "outputId": "a4fd683e-dd14-4cb7-ba7f-37c21237e094"
      },
      "outputs": [
        {
          "output_type": "execute_result",
          "data": {
            "text/plain": [
              "(5289, 1)"
            ]
          },
          "metadata": {},
          "execution_count": 11
        }
      ],
      "source": [
        "df.shape #kiểm tra số dòng của dữ liệu"
      ]
    },
    {
      "cell_type": "code",
      "execution_count": null,
      "metadata": {
        "colab": {
          "base_uri": "https://localhost:8080/"
        },
        "id": "v4qi-cySOJkZ",
        "outputId": "62324d9e-7c14-4f52-af54-7108de433e89"
      },
      "outputs": [
        {
          "output_type": "execute_result",
          "data": {
            "text/plain": [
              "array([[ 4170449.5 ],\n",
              "       [ 4198629.19],\n",
              "       [ 4206113.25],\n",
              "       ...,\n",
              "       [44137702.89],\n",
              "       [44176594.17],\n",
              "       [44384284.57]])"
            ]
          },
          "metadata": {},
          "execution_count": 12
        }
      ],
      "source": [
        "#.values\n",
        "# Return a Numpy representation of the DataFrame.\n",
        "# Only the values in the DataFrame will be returned, the axes labels will be removed.\n",
        "df.values"
      ]
    },
    {
      "cell_type": "code",
      "execution_count": null,
      "metadata": {
        "id": "yp180q9WLIMH"
      },
      "outputs": [],
      "source": [
        "#train 8 - 2\n",
        "# data=df.values\n",
        "# train_data=data[:2979]\n",
        "# test_data=data[2979:]\n",
        "#2002-2022\n",
        "#Tiến hành chia dữ liệu train / test\n",
        "# data=df.values\n",
        "# #Tập train sẽ lấy 80%\n",
        "# train_data=data[:4231]\n",
        "# #Tập test sẽ lấy 20%\n",
        "# test_data=data[4231:]\n"
      ]
    },
    {
      "cell_type": "code",
      "execution_count": null,
      "metadata": {
        "colab": {
          "base_uri": "https://localhost:8080/"
        },
        "id": "V8bWVCz5GZBi",
        "outputId": "160c2da4-237c-4d04-8ebd-8349b0432acc"
      },
      "outputs": [
        {
          "output_type": "execute_result",
          "data": {
            "text/plain": [
              "(1057, 1)"
            ]
          },
          "metadata": {},
          "execution_count": 14
        }
      ],
      "source": [
        "# divided dataste 80% train - 20% test\n",
        "data=df.values\n",
        "training_data_len = math.ceil(len(data)* 0.8)\n",
        "train_data = data[0: training_data_len, :]\n",
        "train_data.shape\n",
        "test_data=data[training_data_len:]\n",
        "test_data.shape"
      ]
    },
    {
      "cell_type": "code",
      "execution_count": null,
      "metadata": {
        "id": "0EcjjcjviZQX"
      },
      "outputs": [],
      "source": [
        "#train 7 - 3\n",
        "# train_data73=data[:2606]\n",
        "# test_data73=data[2606:]\n",
        "#2002-2022\n",
        "#Tập train sẽ lấy 70%\n",
        "# train_data73=data[:3702]\n",
        "# #Tập test sẽ lấy 30%\n",
        "# test_data73=data[3702:]"
      ]
    },
    {
      "cell_type": "code",
      "execution_count": null,
      "metadata": {
        "colab": {
          "base_uri": "https://localhost:8080/"
        },
        "id": "YZSeHuqWJT0X",
        "outputId": "44a53f84-153a-44a8-a031-0316f577cf0b"
      },
      "outputs": [
        {
          "output_type": "execute_result",
          "data": {
            "text/plain": [
              "(1586, 1)"
            ]
          },
          "metadata": {},
          "execution_count": 16
        }
      ],
      "source": [
        "# divided dataste 70% train - 30% test\n",
        "training_data_len73 = math.ceil(len(data)* 0.7)\n",
        "train_data73 = data[0: training_data_len73, :]\n",
        "train_data73.shape\n",
        "test_data73=data[training_data_len73:]\n",
        "test_data73.shape"
      ]
    },
    {
      "cell_type": "code",
      "execution_count": null,
      "metadata": {
        "id": "RJZLIrVtjDvp"
      },
      "outputs": [],
      "source": [
        "#train 9 - 1\n",
        "# train_data91=data[:3351]\n",
        "# test_data91=data[3351:]\n",
        "#2002-2022\n",
        "#Tập train sẽ lấy 90%\n",
        "# train_data91=data[:4760]\n",
        "# #Tập test sẽ lấy 10%\n",
        "# test_data91=data[4760:]"
      ]
    },
    {
      "cell_type": "code",
      "execution_count": null,
      "metadata": {
        "colab": {
          "base_uri": "https://localhost:8080/"
        },
        "id": "Uh5uvFnKJiMq",
        "outputId": "40dd7580-6d77-4ac9-e98e-aab7acf5e5b2"
      },
      "outputs": [
        {
          "output_type": "execute_result",
          "data": {
            "text/plain": [
              "(528, 1)"
            ]
          },
          "metadata": {},
          "execution_count": 18
        }
      ],
      "source": [
        "# divided dataste 90% train - 10% test\n",
        "training_data_len91 = math.ceil(len(data)* 0.9)\n",
        "train_data91 = data[0: training_data_len91, :]\n",
        "train_data91.shape\n",
        "test_data91=data[training_data_len91:]\n",
        "test_data91.shape"
      ]
    },
    {
      "cell_type": "markdown",
      "metadata": {
        "id": "Kdcx-q5SEDuR"
      },
      "source": [
        "**CHUẨN HOÁ DỮ LIỆU**\n",
        "---\n",
        "---"
      ]
    },
    {
      "cell_type": "code",
      "execution_count": null,
      "metadata": {
        "id": "j55HHkmDL_E4"
      },
      "outputs": [],
      "source": [
        "#Re-normalize the data with the values ​​returned from 0-1\n",
        "sc=MinMaxScaler(feature_range=(0,1))\n",
        "#Normalize data named data\n",
        "sc_train=sc.fit_transform(data)"
      ]
    },
    {
      "cell_type": "code",
      "execution_count": null,
      "metadata": {
        "colab": {
          "base_uri": "https://localhost:8080/"
        },
        "id": "CB4eggCij0tL",
        "outputId": "b9eb0a43-8fc0-48ed-9ddc-65b31f62fcf8"
      },
      "outputs": [
        {
          "output_type": "execute_result",
          "data": {
            "text/plain": [
              "array([[0.00000000e+00],\n",
              "       [6.44347526e-04],\n",
              "       [8.15475581e-04],\n",
              "       ...,\n",
              "       [9.13878074e-01],\n",
              "       [9.14767349e-01],\n",
              "       [9.19516330e-01]])"
            ]
          },
          "metadata": {},
          "execution_count": 20
        }
      ],
      "source": [
        "#Check data after normalization\n",
        "sc_train"
      ]
    },
    {
      "cell_type": "markdown",
      "metadata": {
        "id": "2z-0tTHnEQ0t"
      },
      "source": [
        "**XỬ LÍ DỮ LIỆU TẬP TRAIN**\n",
        "---\n",
        "---"
      ]
    },
    {
      "cell_type": "code",
      "execution_count": null,
      "metadata": {
        "id": "9vSmnZ-5MNVI",
        "colab": {
          "base_uri": "https://localhost:8080/",
          "height": 258
        },
        "outputId": "2fe7bb17-dc2c-4107-afbf-4addc636565a"
      },
      "outputs": [
        {
          "output_type": "error",
          "ename": "NameError",
          "evalue": "ignored",
          "traceback": [
            "\u001b[0;31m---------------------------------------------------------------------------\u001b[0m",
            "\u001b[0;31mNameError\u001b[0m                                 Traceback (most recent call last)",
            "\u001b[0;32m<ipython-input-1-4e99128178c0>\u001b[0m in \u001b[0;36m<module>\u001b[0;34m\u001b[0m\n\u001b[1;32m      2\u001b[0m \u001b[0;31m#Tiến hành kahi báo 2 mảng dử liệu x_train và y_train\u001b[0m\u001b[0;34m\u001b[0m\u001b[0;34m\u001b[0m\u001b[0;34m\u001b[0m\u001b[0m\n\u001b[1;32m      3\u001b[0m \u001b[0mx_train\u001b[0m\u001b[0;34m,\u001b[0m\u001b[0my_train\u001b[0m\u001b[0;34m=\u001b[0m\u001b[0;34m[\u001b[0m\u001b[0;34m]\u001b[0m\u001b[0;34m,\u001b[0m\u001b[0;34m[\u001b[0m\u001b[0;34m]\u001b[0m\u001b[0;34m\u001b[0m\u001b[0;34m\u001b[0m\u001b[0m\n\u001b[0;32m----> 4\u001b[0;31m \u001b[0;32mfor\u001b[0m \u001b[0mi\u001b[0m \u001b[0;32min\u001b[0m \u001b[0mrange\u001b[0m\u001b[0;34m(\u001b[0m\u001b[0;36m15\u001b[0m\u001b[0;34m,\u001b[0m\u001b[0mlen\u001b[0m\u001b[0;34m(\u001b[0m\u001b[0mtrain_data\u001b[0m\u001b[0;34m)\u001b[0m\u001b[0;34m)\u001b[0m\u001b[0;34m:\u001b[0m \u001b[0;31m#tạo vòng lặp\u001b[0m\u001b[0;34m\u001b[0m\u001b[0;34m\u001b[0m\u001b[0m\n\u001b[0m\u001b[1;32m      5\u001b[0m   \u001b[0mx_train\u001b[0m\u001b[0;34m.\u001b[0m\u001b[0mappend\u001b[0m\u001b[0;34m(\u001b[0m\u001b[0msc_train\u001b[0m\u001b[0;34m[\u001b[0m\u001b[0mi\u001b[0m\u001b[0;34m-\u001b[0m\u001b[0;36m15\u001b[0m\u001b[0;34m:\u001b[0m\u001b[0mi\u001b[0m\u001b[0;34m,\u001b[0m\u001b[0;36m0\u001b[0m\u001b[0;34m]\u001b[0m\u001b[0;34m)\u001b[0m \u001b[0;31m#.append assign the element to the end of the array, because the number of days it will learn to predict the next 1 day is 60 so -60 (each array includes 60 days price)\u001b[0m\u001b[0;34m\u001b[0m\u001b[0;34m\u001b[0m\u001b[0m\n\u001b[1;32m      6\u001b[0m   \u001b[0my_train\u001b[0m\u001b[0;34m.\u001b[0m\u001b[0mappend\u001b[0m\u001b[0;34m(\u001b[0m\u001b[0msc_train\u001b[0m\u001b[0;34m[\u001b[0m\u001b[0mi\u001b[0m\u001b[0;34m,\u001b[0m\u001b[0;36m0\u001b[0m\u001b[0;34m]\u001b[0m\u001b[0;34m)\u001b[0m\u001b[0;34m\u001b[0m\u001b[0;34m\u001b[0m\u001b[0m\n",
            "\u001b[0;31mNameError\u001b[0m: name 'train_data' is not defined"
          ]
        }
      ],
      "source": [
        "# 8-2\n",
        "#Declare 2 data arrays x_train and y_train\n",
        "x_train,y_train=[],[]\n",
        "for i in range(15,len(train_data)):\n",
        "  x_train.append(sc_train[i-15:i,0]) #.append assign the element to the end of the array,\n",
        "  #because the number of days it will learn to predict the next 1 day is 15 so -15\n",
        "  #(each array includes 6 days price)\n",
        "  y_train.append(sc_train[i,0])\n"
      ]
    },
    {
      "cell_type": "code",
      "execution_count": null,
      "metadata": {
        "id": "SwOeXSqukUNV"
      },
      "outputs": [],
      "source": [
        "x_train=np.array(x_train) # sort data into an array\n",
        "y_train=np.array(y_train)\n",
        "x_train=np.reshape(x_train,(x_train.shape[0], x_train.shape[1],1)) # Process data into a one-dimensional array\n",
        "y_train=np.reshape(y_train,(y_train.shape[0],1))"
      ]
    },
    {
      "cell_type": "code",
      "execution_count": null,
      "metadata": {
        "id": "t5enjCycj_6Y"
      },
      "outputs": [],
      "source": [
        "# 7-3\n",
        "x_train73,y_train73=[],[]\n",
        "for i in range(15,len(train_data73)):\n",
        "  x_train73.append(sc_train[i-15:i,0])\n",
        "  y_train73.append(sc_train[i,0])"
      ]
    },
    {
      "cell_type": "code",
      "execution_count": null,
      "metadata": {
        "id": "rphb712GkXeM"
      },
      "outputs": [],
      "source": [
        "x_train73=np.array(x_train73)\n",
        "y_train73=np.array(y_train73)\n",
        "\n",
        "x_train73=np.reshape(x_train73,(x_train73.shape[0], x_train73.shape[1],1))\n",
        "y_train73=np.reshape(y_train73,(y_train73.shape[0],1))"
      ]
    },
    {
      "cell_type": "code",
      "execution_count": null,
      "metadata": {
        "id": "9UVSJIzukLWa"
      },
      "outputs": [],
      "source": [
        "# 9-1\n",
        "x_train91,y_train91=[],[]\n",
        "for i in range(15,len(train_data91)):\n",
        "  x_train91.append(sc_train[i-15:i,0])\n",
        "  y_train91.append(sc_train[i,0])"
      ]
    },
    {
      "cell_type": "code",
      "execution_count": null,
      "metadata": {
        "id": "X4gRAr4mM63y"
      },
      "outputs": [],
      "source": [
        "x_train91=np.array(x_train91)\n",
        "y_train91=np.array(y_train91)\n",
        "\n",
        "x_train91=np.reshape(x_train91,(x_train91.shape[0], x_train91.shape[1],1))\n",
        "y_train91=np.reshape(y_train91,(y_train91.shape[0],1))"
      ]
    },
    {
      "cell_type": "markdown",
      "metadata": {
        "id": "hFg7XLJ9NWWK"
      },
      "source": [
        "**HUẤN LUYỆN MÔ HÌNH**\n",
        "---\n",
        "---\n"
      ]
    },
    {
      "cell_type": "code",
      "execution_count": null,
      "metadata": {
        "colab": {
          "base_uri": "https://localhost:8080/"
        },
        "id": "EdqzUihVNUWQ",
        "outputId": "e57c3478-95ec-41d9-a063-c583dd7e4fb8"
      },
      "outputs": [
        {
          "output_type": "stream",
          "name": "stdout",
          "text": [
            "Model: \"sequential\"\n",
            "_________________________________________________________________\n",
            " Layer (type)                Output Shape              Param #   \n",
            "=================================================================\n",
            " lstm (LSTM)                 (None, 15, 64)            16896     \n",
            "                                                                 \n",
            " dropout (Dropout)           (None, 15, 64)            0         \n",
            "                                                                 \n",
            " lstm_1 (LSTM)               (None, 15, 64)            33024     \n",
            "                                                                 \n",
            " dropout_1 (Dropout)         (None, 15, 64)            0         \n",
            "                                                                 \n",
            " lstm_2 (LSTM)               (None, 32)                12416     \n",
            "                                                                 \n",
            " dropout_2 (Dropout)         (None, 32)                0         \n",
            "                                                                 \n",
            " dense (Dense)               (None, 25)                825       \n",
            "                                                                 \n",
            " dropout_3 (Dropout)         (None, 25)                0         \n",
            "                                                                 \n",
            " dense_1 (Dense)             (None, 1)                 26        \n",
            "                                                                 \n",
            "=================================================================\n",
            "Total params: 63,187\n",
            "Trainable params: 63,187\n",
            "Non-trainable params: 0\n",
            "_________________________________________________________________\n"
          ]
        }
      ],
      "source": [
        "# 8-2\n",
        "#Xây dựng mô hình\n",
        "model=Sequential() #input, create a list that stores lists (list)\n",
        "model.add(LSTM(units=64, input_shape=(x_train.shape[1],1) ,return_sequences=True))\n",
        "# create LSTM layer - describe input information\n",
        "model.add(Dropout(0.2))\n",
        "model.add(LSTM(units=64, return_sequences=True))\n",
        "model.add(Dropout(0.5))\n",
        "model.add(LSTM(units=32))\n",
        "model.add(Dropout(0.2))\n",
        "model.add(Dense(25))\n",
        "model.add(Dropout(0.5)) #Avoid memorization\n",
        "#(used to assume that part of the units is hidden during training, thereby reducing the blending product)\n",
        "model.add(Dense(1)) #One-way output for forecasting a value (output direction)\n",
        "model.compile(loss='mean_absolute_error', optimizer='adam')\n",
        "# mean_absolute_error: used to evaluate the difference between the predictive model and the testing dataset.\n",
        "# adam: used to optimize the learning speed\n",
        "model.summary()"
      ]
    },
    {
      "cell_type": "markdown",
      "metadata": {
        "id": "5iUFMf5jJa4_"
      },
      "source": [
        "![The-structure-of-LSTM-model-It-has-a-different-internal-structure-from-RNN-Where-t-f-is.png](data:image/png;base64,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)"
      ]
    },
    {
      "cell_type": "code",
      "execution_count": null,
      "metadata": {
        "colab": {
          "base_uri": "https://localhost:8080/"
        },
        "id": "7B_fD9rpOUVz",
        "outputId": "0677b0e9-0475-4e93-ab77-8d028d6b0c7d"
      },
      "outputs": [
        {
          "output_type": "stream",
          "name": "stdout",
          "text": [
            "Epoch 1/100\n",
            "\n",
            "Epoch 1: loss improved from inf to 0.10634, saving model to save_model.h5\n",
            "132/132 - 17s - loss: 0.1063 - 17s/epoch - 128ms/step\n",
            "Epoch 2/100\n",
            "\n",
            "Epoch 2: loss improved from 0.10634 to 0.07602, saving model to save_model.h5\n",
            "132/132 - 7s - loss: 0.0760 - 7s/epoch - 52ms/step\n",
            "Epoch 3/100\n",
            "\n",
            "Epoch 3: loss improved from 0.07602 to 0.07131, saving model to save_model.h5\n",
            "132/132 - 5s - loss: 0.0713 - 5s/epoch - 41ms/step\n",
            "Epoch 4/100\n",
            "\n",
            "Epoch 4: loss improved from 0.07131 to 0.06815, saving model to save_model.h5\n",
            "132/132 - 3s - loss: 0.0681 - 3s/epoch - 24ms/step\n",
            "Epoch 5/100\n",
            "\n",
            "Epoch 5: loss improved from 0.06815 to 0.06357, saving model to save_model.h5\n",
            "132/132 - 3s - loss: 0.0636 - 3s/epoch - 24ms/step\n",
            "Epoch 6/100\n",
            "\n",
            "Epoch 6: loss improved from 0.06357 to 0.06134, saving model to save_model.h5\n",
            "132/132 - 3s - loss: 0.0613 - 3s/epoch - 25ms/step\n",
            "Epoch 7/100\n",
            "\n",
            "Epoch 7: loss improved from 0.06134 to 0.06059, saving model to save_model.h5\n",
            "132/132 - 3s - loss: 0.0606 - 3s/epoch - 24ms/step\n",
            "Epoch 8/100\n",
            "\n",
            "Epoch 8: loss improved from 0.06059 to 0.05920, saving model to save_model.h5\n",
            "132/132 - 3s - loss: 0.0592 - 3s/epoch - 25ms/step\n",
            "Epoch 9/100\n",
            "\n",
            "Epoch 9: loss improved from 0.05920 to 0.05763, saving model to save_model.h5\n",
            "132/132 - 4s - loss: 0.0576 - 4s/epoch - 27ms/step\n",
            "Epoch 10/100\n",
            "\n",
            "Epoch 10: loss improved from 0.05763 to 0.05703, saving model to save_model.h5\n",
            "132/132 - 4s - loss: 0.0570 - 4s/epoch - 27ms/step\n",
            "Epoch 11/100\n",
            "\n",
            "Epoch 11: loss improved from 0.05703 to 0.05688, saving model to save_model.h5\n",
            "132/132 - 3s - loss: 0.0569 - 3s/epoch - 25ms/step\n",
            "Epoch 12/100\n",
            "\n",
            "Epoch 12: loss improved from 0.05688 to 0.05661, saving model to save_model.h5\n",
            "132/132 - 3s - loss: 0.0566 - 3s/epoch - 24ms/step\n",
            "Epoch 13/100\n",
            "\n",
            "Epoch 13: loss improved from 0.05661 to 0.05470, saving model to save_model.h5\n",
            "132/132 - 3s - loss: 0.0547 - 3s/epoch - 26ms/step\n",
            "Epoch 14/100\n",
            "\n",
            "Epoch 14: loss did not improve from 0.05470\n",
            "132/132 - 3s - loss: 0.0553 - 3s/epoch - 24ms/step\n",
            "Epoch 15/100\n",
            "\n",
            "Epoch 15: loss improved from 0.05470 to 0.05397, saving model to save_model.h5\n",
            "132/132 - 3s - loss: 0.0540 - 3s/epoch - 24ms/step\n",
            "Epoch 16/100\n",
            "\n",
            "Epoch 16: loss did not improve from 0.05397\n",
            "132/132 - 3s - loss: 0.0550 - 3s/epoch - 26ms/step\n",
            "Epoch 17/100\n",
            "\n",
            "Epoch 17: loss did not improve from 0.05397\n",
            "132/132 - 3s - loss: 0.0545 - 3s/epoch - 25ms/step\n",
            "Epoch 18/100\n",
            "\n",
            "Epoch 18: loss did not improve from 0.05397\n",
            "132/132 - 3s - loss: 0.0543 - 3s/epoch - 25ms/step\n",
            "Epoch 19/100\n",
            "\n",
            "Epoch 19: loss improved from 0.05397 to 0.05180, saving model to save_model.h5\n",
            "132/132 - 3s - loss: 0.0518 - 3s/epoch - 25ms/step\n",
            "Epoch 20/100\n",
            "\n",
            "Epoch 20: loss did not improve from 0.05180\n",
            "132/132 - 3s - loss: 0.0541 - 3s/epoch - 26ms/step\n",
            "Epoch 21/100\n",
            "\n",
            "Epoch 21: loss did not improve from 0.05180\n",
            "132/132 - 3s - loss: 0.0547 - 3s/epoch - 23ms/step\n",
            "Epoch 22/100\n",
            "\n",
            "Epoch 22: loss did not improve from 0.05180\n",
            "132/132 - 3s - loss: 0.0529 - 3s/epoch - 24ms/step\n",
            "Epoch 23/100\n",
            "\n",
            "Epoch 23: loss did not improve from 0.05180\n",
            "132/132 - 4s - loss: 0.0536 - 4s/epoch - 30ms/step\n",
            "Epoch 24/100\n",
            "\n",
            "Epoch 24: loss did not improve from 0.05180\n",
            "132/132 - 4s - loss: 0.0527 - 4s/epoch - 32ms/step\n",
            "Epoch 25/100\n",
            "\n",
            "Epoch 25: loss improved from 0.05180 to 0.05176, saving model to save_model.h5\n",
            "132/132 - 3s - loss: 0.0518 - 3s/epoch - 24ms/step\n",
            "Epoch 26/100\n",
            "\n",
            "Epoch 26: loss did not improve from 0.05176\n",
            "132/132 - 3s - loss: 0.0532 - 3s/epoch - 24ms/step\n",
            "Epoch 27/100\n",
            "\n",
            "Epoch 27: loss improved from 0.05176 to 0.05111, saving model to save_model.h5\n",
            "132/132 - 3s - loss: 0.0511 - 3s/epoch - 24ms/step\n",
            "Epoch 28/100\n",
            "\n",
            "Epoch 28: loss did not improve from 0.05111\n",
            "132/132 - 3s - loss: 0.0514 - 3s/epoch - 24ms/step\n",
            "Epoch 29/100\n",
            "\n",
            "Epoch 29: loss improved from 0.05111 to 0.05073, saving model to save_model.h5\n",
            "132/132 - 3s - loss: 0.0507 - 3s/epoch - 25ms/step\n",
            "Epoch 30/100\n",
            "\n",
            "Epoch 30: loss did not improve from 0.05073\n",
            "132/132 - 3s - loss: 0.0524 - 3s/epoch - 24ms/step\n",
            "Epoch 31/100\n",
            "\n",
            "Epoch 31: loss did not improve from 0.05073\n",
            "132/132 - 3s - loss: 0.0514 - 3s/epoch - 24ms/step\n",
            "Epoch 32/100\n",
            "\n",
            "Epoch 32: loss did not improve from 0.05073\n",
            "132/132 - 3s - loss: 0.0528 - 3s/epoch - 23ms/step\n",
            "Epoch 33/100\n",
            "\n",
            "Epoch 33: loss did not improve from 0.05073\n",
            "132/132 - 3s - loss: 0.0510 - 3s/epoch - 26ms/step\n",
            "Epoch 34/100\n",
            "\n",
            "Epoch 34: loss improved from 0.05073 to 0.05033, saving model to save_model.h5\n",
            "132/132 - 3s - loss: 0.0503 - 3s/epoch - 26ms/step\n",
            "Epoch 35/100\n",
            "\n",
            "Epoch 35: loss did not improve from 0.05033\n",
            "132/132 - 4s - loss: 0.0527 - 4s/epoch - 30ms/step\n",
            "Epoch 36/100\n",
            "\n",
            "Epoch 36: loss did not improve from 0.05033\n",
            "132/132 - 3s - loss: 0.0511 - 3s/epoch - 24ms/step\n",
            "Epoch 37/100\n",
            "\n",
            "Epoch 37: loss did not improve from 0.05033\n",
            "132/132 - 3s - loss: 0.0509 - 3s/epoch - 25ms/step\n",
            "Epoch 38/100\n",
            "\n",
            "Epoch 38: loss did not improve from 0.05033\n",
            "132/132 - 4s - loss: 0.0513 - 4s/epoch - 34ms/step\n",
            "Epoch 39/100\n",
            "\n",
            "Epoch 39: loss improved from 0.05033 to 0.04966, saving model to save_model.h5\n",
            "132/132 - 3s - loss: 0.0497 - 3s/epoch - 25ms/step\n",
            "Epoch 40/100\n",
            "\n",
            "Epoch 40: loss did not improve from 0.04966\n",
            "132/132 - 3s - loss: 0.0504 - 3s/epoch - 26ms/step\n",
            "Epoch 41/100\n",
            "\n",
            "Epoch 41: loss did not improve from 0.04966\n",
            "132/132 - 3s - loss: 0.0509 - 3s/epoch - 25ms/step\n",
            "Epoch 42/100\n",
            "\n",
            "Epoch 42: loss did not improve from 0.04966\n",
            "132/132 - 3s - loss: 0.0503 - 3s/epoch - 23ms/step\n",
            "Epoch 43/100\n",
            "\n",
            "Epoch 43: loss did not improve from 0.04966\n",
            "132/132 - 3s - loss: 0.0517 - 3s/epoch - 25ms/step\n",
            "Epoch 44/100\n",
            "\n",
            "Epoch 44: loss did not improve from 0.04966\n",
            "132/132 - 3s - loss: 0.0513 - 3s/epoch - 24ms/step\n",
            "Epoch 45/100\n",
            "\n",
            "Epoch 45: loss did not improve from 0.04966\n",
            "132/132 - 3s - loss: 0.0528 - 3s/epoch - 24ms/step\n",
            "Epoch 46/100\n",
            "\n",
            "Epoch 46: loss did not improve from 0.04966\n",
            "132/132 - 3s - loss: 0.0514 - 3s/epoch - 26ms/step\n",
            "Epoch 47/100\n",
            "\n",
            "Epoch 47: loss did not improve from 0.04966\n",
            "132/132 - 3s - loss: 0.0510 - 3s/epoch - 24ms/step\n",
            "Epoch 48/100\n",
            "\n",
            "Epoch 48: loss did not improve from 0.04966\n",
            "132/132 - 3s - loss: 0.0509 - 3s/epoch - 25ms/step\n",
            "Epoch 49/100\n",
            "\n",
            "Epoch 49: loss did not improve from 0.04966\n",
            "132/132 - 3s - loss: 0.0511 - 3s/epoch - 24ms/step\n",
            "Epoch 50/100\n",
            "\n",
            "Epoch 50: loss did not improve from 0.04966\n",
            "132/132 - 3s - loss: 0.0513 - 3s/epoch - 26ms/step\n",
            "Epoch 51/100\n",
            "\n",
            "Epoch 51: loss did not improve from 0.04966\n",
            "132/132 - 3s - loss: 0.0517 - 3s/epoch - 26ms/step\n",
            "Epoch 52/100\n",
            "\n",
            "Epoch 52: loss did not improve from 0.04966\n",
            "132/132 - 3s - loss: 0.0502 - 3s/epoch - 25ms/step\n",
            "Epoch 53/100\n",
            "\n",
            "Epoch 53: loss did not improve from 0.04966\n",
            "132/132 - 3s - loss: 0.0511 - 3s/epoch - 23ms/step\n",
            "Epoch 54/100\n",
            "\n",
            "Epoch 54: loss did not improve from 0.04966\n",
            "132/132 - 3s - loss: 0.0509 - 3s/epoch - 23ms/step\n",
            "Epoch 55/100\n",
            "\n",
            "Epoch 55: loss did not improve from 0.04966\n",
            "132/132 - 3s - loss: 0.0501 - 3s/epoch - 24ms/step\n",
            "Epoch 56/100\n",
            "\n",
            "Epoch 56: loss did not improve from 0.04966\n",
            "132/132 - 3s - loss: 0.0501 - 3s/epoch - 23ms/step\n",
            "Epoch 57/100\n",
            "\n",
            "Epoch 57: loss did not improve from 0.04966\n",
            "132/132 - 3s - loss: 0.0516 - 3s/epoch - 24ms/step\n",
            "Epoch 58/100\n",
            "\n",
            "Epoch 58: loss did not improve from 0.04966\n",
            "132/132 - 3s - loss: 0.0497 - 3s/epoch - 26ms/step\n",
            "Epoch 59/100\n",
            "\n",
            "Epoch 59: loss did not improve from 0.04966\n",
            "132/132 - 3s - loss: 0.0500 - 3s/epoch - 24ms/step\n",
            "Epoch 60/100\n",
            "\n",
            "Epoch 60: loss did not improve from 0.04966\n",
            "132/132 - 3s - loss: 0.0498 - 3s/epoch - 26ms/step\n",
            "Epoch 61/100\n",
            "\n",
            "Epoch 61: loss did not improve from 0.04966\n",
            "132/132 - 3s - loss: 0.0505 - 3s/epoch - 24ms/step\n",
            "Epoch 62/100\n",
            "\n",
            "Epoch 62: loss did not improve from 0.04966\n",
            "132/132 - 3s - loss: 0.0502 - 3s/epoch - 24ms/step\n",
            "Epoch 63/100\n",
            "\n",
            "Epoch 63: loss did not improve from 0.04966\n",
            "132/132 - 3s - loss: 0.0509 - 3s/epoch - 24ms/step\n",
            "Epoch 64/100\n",
            "\n",
            "Epoch 64: loss did not improve from 0.04966\n",
            "132/132 - 3s - loss: 0.0503 - 3s/epoch - 25ms/step\n",
            "Epoch 65/100\n",
            "\n",
            "Epoch 65: loss did not improve from 0.04966\n",
            "132/132 - 3s - loss: 0.0509 - 3s/epoch - 25ms/step\n",
            "Epoch 66/100\n",
            "\n",
            "Epoch 66: loss did not improve from 0.04966\n",
            "132/132 - 3s - loss: 0.0510 - 3s/epoch - 24ms/step\n",
            "Epoch 67/100\n",
            "\n",
            "Epoch 67: loss improved from 0.04966 to 0.04944, saving model to save_model.h5\n",
            "132/132 - 3s - loss: 0.0494 - 3s/epoch - 25ms/step\n",
            "Epoch 68/100\n",
            "\n",
            "Epoch 68: loss did not improve from 0.04944\n",
            "132/132 - 3s - loss: 0.0495 - 3s/epoch - 25ms/step\n",
            "Epoch 69/100\n",
            "\n",
            "Epoch 69: loss did not improve from 0.04944\n",
            "132/132 - 3s - loss: 0.0510 - 3s/epoch - 25ms/step\n",
            "Epoch 70/100\n",
            "\n",
            "Epoch 70: loss did not improve from 0.04944\n",
            "132/132 - 3s - loss: 0.0505 - 3s/epoch - 26ms/step\n",
            "Epoch 71/100\n",
            "\n",
            "Epoch 71: loss did not improve from 0.04944\n",
            "132/132 - 3s - loss: 0.0510 - 3s/epoch - 24ms/step\n",
            "Epoch 72/100\n",
            "\n",
            "Epoch 72: loss did not improve from 0.04944\n",
            "132/132 - 3s - loss: 0.0517 - 3s/epoch - 26ms/step\n",
            "Epoch 73/100\n",
            "\n",
            "Epoch 73: loss did not improve from 0.04944\n",
            "132/132 - 3s - loss: 0.0503 - 3s/epoch - 24ms/step\n",
            "Epoch 74/100\n",
            "\n",
            "Epoch 74: loss did not improve from 0.04944\n",
            "132/132 - 3s - loss: 0.0511 - 3s/epoch - 24ms/step\n",
            "Epoch 75/100\n",
            "\n",
            "Epoch 75: loss did not improve from 0.04944\n",
            "132/132 - 3s - loss: 0.0502 - 3s/epoch - 24ms/step\n",
            "Epoch 76/100\n",
            "\n",
            "Epoch 76: loss did not improve from 0.04944\n",
            "132/132 - 5s - loss: 0.0505 - 5s/epoch - 39ms/step\n",
            "Epoch 77/100\n",
            "\n",
            "Epoch 77: loss did not improve from 0.04944\n",
            "132/132 - 4s - loss: 0.0498 - 4s/epoch - 27ms/step\n",
            "Epoch 78/100\n",
            "\n",
            "Epoch 78: loss did not improve from 0.04944\n",
            "132/132 - 3s - loss: 0.0508 - 3s/epoch - 26ms/step\n",
            "Epoch 79/100\n",
            "\n",
            "Epoch 79: loss did not improve from 0.04944\n",
            "132/132 - 3s - loss: 0.0498 - 3s/epoch - 24ms/step\n",
            "Epoch 80/100\n",
            "\n",
            "Epoch 80: loss did not improve from 0.04944\n",
            "132/132 - 3s - loss: 0.0502 - 3s/epoch - 24ms/step\n",
            "Epoch 81/100\n",
            "\n",
            "Epoch 81: loss did not improve from 0.04944\n",
            "132/132 - 3s - loss: 0.0503 - 3s/epoch - 26ms/step\n",
            "Epoch 82/100\n",
            "\n",
            "Epoch 82: loss did not improve from 0.04944\n",
            "132/132 - 3s - loss: 0.0495 - 3s/epoch - 25ms/step\n",
            "Epoch 83/100\n",
            "\n",
            "Epoch 83: loss did not improve from 0.04944\n",
            "132/132 - 3s - loss: 0.0501 - 3s/epoch - 26ms/step\n",
            "Epoch 84/100\n",
            "\n",
            "Epoch 84: loss did not improve from 0.04944\n",
            "132/132 - 3s - loss: 0.0494 - 3s/epoch - 24ms/step\n",
            "Epoch 85/100\n",
            "\n",
            "Epoch 85: loss improved from 0.04944 to 0.04905, saving model to save_model.h5\n",
            "132/132 - 3s - loss: 0.0490 - 3s/epoch - 25ms/step\n",
            "Epoch 86/100\n",
            "\n",
            "Epoch 86: loss did not improve from 0.04905\n",
            "132/132 - 3s - loss: 0.0503 - 3s/epoch - 24ms/step\n",
            "Epoch 87/100\n",
            "\n",
            "Epoch 87: loss did not improve from 0.04905\n",
            "132/132 - 3s - loss: 0.0495 - 3s/epoch - 25ms/step\n",
            "Epoch 88/100\n",
            "\n",
            "Epoch 88: loss improved from 0.04905 to 0.04835, saving model to save_model.h5\n",
            "132/132 - 3s - loss: 0.0484 - 3s/epoch - 25ms/step\n",
            "Epoch 89/100\n",
            "\n",
            "Epoch 89: loss did not improve from 0.04835\n",
            "132/132 - 3s - loss: 0.0496 - 3s/epoch - 25ms/step\n",
            "Epoch 90/100\n",
            "\n",
            "Epoch 90: loss did not improve from 0.04835\n",
            "132/132 - 3s - loss: 0.0495 - 3s/epoch - 25ms/step\n",
            "Epoch 91/100\n",
            "\n",
            "Epoch 91: loss did not improve from 0.04835\n",
            "132/132 - 3s - loss: 0.0500 - 3s/epoch - 25ms/step\n",
            "Epoch 92/100\n",
            "\n",
            "Epoch 92: loss did not improve from 0.04835\n",
            "132/132 - 3s - loss: 0.0506 - 3s/epoch - 25ms/step\n",
            "Epoch 93/100\n",
            "\n",
            "Epoch 93: loss did not improve from 0.04835\n",
            "132/132 - 3s - loss: 0.0502 - 3s/epoch - 25ms/step\n",
            "Epoch 94/100\n",
            "\n",
            "Epoch 94: loss did not improve from 0.04835\n",
            "132/132 - 3s - loss: 0.0489 - 3s/epoch - 25ms/step\n",
            "Epoch 95/100\n",
            "\n",
            "Epoch 95: loss did not improve from 0.04835\n",
            "132/132 - 3s - loss: 0.0509 - 3s/epoch - 25ms/step\n",
            "Epoch 96/100\n",
            "\n",
            "Epoch 96: loss did not improve from 0.04835\n",
            "132/132 - 3s - loss: 0.0498 - 3s/epoch - 25ms/step\n",
            "Epoch 97/100\n",
            "\n",
            "Epoch 97: loss did not improve from 0.04835\n",
            "132/132 - 3s - loss: 0.0498 - 3s/epoch - 23ms/step\n",
            "Epoch 98/100\n",
            "\n",
            "Epoch 98: loss did not improve from 0.04835\n",
            "132/132 - 3s - loss: 0.0509 - 3s/epoch - 24ms/step\n",
            "Epoch 99/100\n",
            "\n",
            "Epoch 99: loss did not improve from 0.04835\n",
            "132/132 - 3s - loss: 0.0496 - 3s/epoch - 24ms/step\n",
            "Epoch 100/100\n",
            "\n",
            "Epoch 100: loss did not improve from 0.04835\n",
            "132/132 - 3s - loss: 0.0503 - 3s/epoch - 24ms/step\n"
          ]
        },
        {
          "output_type": "execute_result",
          "data": {
            "text/plain": [
              "<keras.callbacks.History at 0x7ff757cfafd0>"
            ]
          },
          "metadata": {},
          "execution_count": 28
        }
      ],
      "source": [
        "\n",
        "# model model training\n",
        "save_model=\"save_model.h5\" #save the model as file .h5\n",
        "best_model=ModelCheckpoint(save_model,monitor='loss',verbose=2,save_best_only=True, mode='auto')\n",
        "# find the best model, save_best_only: save the best model\n",
        "model.fit(x_train,y_train, epochs=100,verbose=2,callbacks=best_model)"
      ]
    },
    {
      "cell_type": "code",
      "execution_count": null,
      "metadata": {
        "colab": {
          "base_uri": "https://localhost:8080/",
          "height": 283
        },
        "id": "pPEUBv65srFE",
        "outputId": "554bd2bf-bf14-4941-9538-4e5ee9fb8112"
      },
      "outputs": [
        {
          "output_type": "execute_result",
          "data": {
            "text/plain": [
              "[<matplotlib.lines.Line2D at 0x7ff753b0aa30>]"
            ]
          },
          "metadata": {},
          "execution_count": 29
        },
        {
          "output_type": "display_data",
          "data": {
            "text/plain": [
              "<Figure size 432x288 with 1 Axes>"
            ],
            "image/png": "[encoded data removed]"
          },
          "metadata": {
            "needs_background": "light"
          }
        }
      ],
      "source": [
        "loss_per_epoch = model.history.history['loss']\n",
        "plt.plot(loss_per_epoch)"
      ]
    },
    {
      "cell_type": "code",
      "execution_count": null,
      "metadata": {
        "id": "aojl2hGzlLox"
      },
      "outputs": [],
      "source": [
        "# 7-3\n",
        "#Xây dựng mô hình\n",
        "model73=Sequential()\n",
        "#128\n",
        "model73.add(LSTM(units=64, input_shape=(x_train73.shape[1],1),return_sequences=True))\n",
        "model73.add(Dropout(0.5))\n",
        "model73.add(LSTM(units=64, return_sequences=True))\n",
        "model73.add(Dropout(0.5))\n",
        "model73.add(LSTM(units=32))\n",
        "model73.add(Dropout(0.5))\n",
        "model73.add(Dense(25))\n",
        "model73.add(Dropout(0.5))\n",
        "# Tránh việc học thuộc\n",
        "model73.add(Dense(1))\n",
        "model73.compile(loss='mean_absolute_error', optimizer='adam')"
      ]
    },
    {
      "cell_type": "code",
      "execution_count": null,
      "metadata": {
        "colab": {
          "base_uri": "https://localhost:8080/"
        },
        "id": "_Utv7jRSlQ1l",
        "outputId": "fdf830ed-e2e2-4e86-8d31-16f55a60345e"
      },
      "outputs": [
        {
          "output_type": "stream",
          "name": "stdout",
          "text": [
            "Epoch 1/100\n",
            "\n",
            "Epoch 1: loss improved from inf to 0.09990, saving model to save_model73.h5\n",
            "116/116 - 9s - loss: 0.0999 - 9s/epoch - 77ms/step\n",
            "Epoch 2/100\n",
            "\n",
            "Epoch 2: loss improved from 0.09990 to 0.07445, saving model to save_model73.h5\n",
            "116/116 - 3s - loss: 0.0744 - 3s/epoch - 26ms/step\n",
            "Epoch 3/100\n",
            "\n",
            "Epoch 3: loss improved from 0.07445 to 0.06514, saving model to save_model73.h5\n",
            "116/116 - 3s - loss: 0.0651 - 3s/epoch - 25ms/step\n",
            "Epoch 4/100\n",
            "\n",
            "Epoch 4: loss improved from 0.06514 to 0.06324, saving model to save_model73.h5\n",
            "116/116 - 3s - loss: 0.0632 - 3s/epoch - 26ms/step\n",
            "Epoch 5/100\n",
            "\n",
            "Epoch 5: loss improved from 0.06324 to 0.06033, saving model to save_model73.h5\n",
            "116/116 - 3s - loss: 0.0603 - 3s/epoch - 26ms/step\n",
            "Epoch 6/100\n",
            "\n",
            "Epoch 6: loss improved from 0.06033 to 0.05928, saving model to save_model73.h5\n",
            "116/116 - 3s - loss: 0.0593 - 3s/epoch - 26ms/step\n",
            "Epoch 7/100\n",
            "\n",
            "Epoch 7: loss improved from 0.05928 to 0.05776, saving model to save_model73.h5\n",
            "116/116 - 3s - loss: 0.0578 - 3s/epoch - 25ms/step\n",
            "Epoch 8/100\n",
            "\n",
            "Epoch 8: loss improved from 0.05776 to 0.05631, saving model to save_model73.h5\n",
            "116/116 - 3s - loss: 0.0563 - 3s/epoch - 26ms/step\n",
            "Epoch 9/100\n",
            "\n",
            "Epoch 9: loss improved from 0.05631 to 0.05584, saving model to save_model73.h5\n",
            "116/116 - 3s - loss: 0.0558 - 3s/epoch - 25ms/step\n",
            "Epoch 10/100\n",
            "\n",
            "Epoch 10: loss did not improve from 0.05584\n",
            "116/116 - 3s - loss: 0.0564 - 3s/epoch - 26ms/step\n",
            "Epoch 11/100\n",
            "\n",
            "Epoch 11: loss did not improve from 0.05584\n",
            "116/116 - 3s - loss: 0.0567 - 3s/epoch - 26ms/step\n",
            "Epoch 12/100\n",
            "\n",
            "Epoch 12: loss improved from 0.05584 to 0.05520, saving model to save_model73.h5\n",
            "116/116 - 3s - loss: 0.0552 - 3s/epoch - 26ms/step\n",
            "Epoch 13/100\n",
            "\n",
            "Epoch 13: loss improved from 0.05520 to 0.05478, saving model to save_model73.h5\n",
            "116/116 - 3s - loss: 0.0548 - 3s/epoch - 25ms/step\n",
            "Epoch 14/100\n",
            "\n",
            "Epoch 14: loss improved from 0.05478 to 0.05230, saving model to save_model73.h5\n",
            "116/116 - 3s - loss: 0.0523 - 3s/epoch - 25ms/step\n",
            "Epoch 15/100\n",
            "\n",
            "Epoch 15: loss did not improve from 0.05230\n",
            "116/116 - 4s - loss: 0.0533 - 4s/epoch - 33ms/step\n",
            "Epoch 16/100\n",
            "\n",
            "Epoch 16: loss did not improve from 0.05230\n",
            "116/116 - 4s - loss: 0.0525 - 4s/epoch - 31ms/step\n",
            "Epoch 17/100\n",
            "\n",
            "Epoch 17: loss improved from 0.05230 to 0.05218, saving model to save_model73.h5\n",
            "116/116 - 3s - loss: 0.0522 - 3s/epoch - 26ms/step\n",
            "Epoch 18/100\n",
            "\n",
            "Epoch 18: loss did not improve from 0.05218\n",
            "116/116 - 3s - loss: 0.0522 - 3s/epoch - 25ms/step\n",
            "Epoch 19/100\n",
            "\n",
            "Epoch 19: loss improved from 0.05218 to 0.05173, saving model to save_model73.h5\n",
            "116/116 - 3s - loss: 0.0517 - 3s/epoch - 24ms/step\n",
            "Epoch 20/100\n",
            "\n",
            "Epoch 20: loss did not improve from 0.05173\n",
            "116/116 - 3s - loss: 0.0532 - 3s/epoch - 26ms/step\n",
            "Epoch 21/100\n",
            "\n",
            "Epoch 21: loss did not improve from 0.05173\n",
            "116/116 - 3s - loss: 0.0531 - 3s/epoch - 25ms/step\n",
            "Epoch 22/100\n",
            "\n",
            "Epoch 22: loss improved from 0.05173 to 0.05167, saving model to save_model73.h5\n",
            "116/116 - 3s - loss: 0.0517 - 3s/epoch - 25ms/step\n",
            "Epoch 23/100\n",
            "\n",
            "Epoch 23: loss did not improve from 0.05167\n",
            "116/116 - 3s - loss: 0.0530 - 3s/epoch - 25ms/step\n",
            "Epoch 24/100\n",
            "\n",
            "Epoch 24: loss did not improve from 0.05167\n",
            "116/116 - 3s - loss: 0.0521 - 3s/epoch - 23ms/step\n",
            "Epoch 25/100\n",
            "\n",
            "Epoch 25: loss did not improve from 0.05167\n",
            "116/116 - 3s - loss: 0.0520 - 3s/epoch - 23ms/step\n",
            "Epoch 26/100\n",
            "\n",
            "Epoch 26: loss improved from 0.05167 to 0.04948, saving model to save_model73.h5\n",
            "116/116 - 3s - loss: 0.0495 - 3s/epoch - 25ms/step\n",
            "Epoch 27/100\n",
            "\n",
            "Epoch 27: loss did not improve from 0.04948\n",
            "116/116 - 3s - loss: 0.0504 - 3s/epoch - 24ms/step\n",
            "Epoch 28/100\n",
            "\n",
            "Epoch 28: loss did not improve from 0.04948\n",
            "116/116 - 3s - loss: 0.0523 - 3s/epoch - 23ms/step\n",
            "Epoch 29/100\n",
            "\n",
            "Epoch 29: loss did not improve from 0.04948\n",
            "116/116 - 3s - loss: 0.0523 - 3s/epoch - 23ms/step\n",
            "Epoch 30/100\n",
            "\n",
            "Epoch 30: loss did not improve from 0.04948\n",
            "116/116 - 3s - loss: 0.0502 - 3s/epoch - 25ms/step\n",
            "Epoch 31/100\n",
            "\n",
            "Epoch 31: loss improved from 0.04948 to 0.04887, saving model to save_model73.h5\n",
            "116/116 - 3s - loss: 0.0489 - 3s/epoch - 24ms/step\n",
            "Epoch 32/100\n",
            "\n",
            "Epoch 32: loss did not improve from 0.04887\n",
            "116/116 - 3s - loss: 0.0497 - 3s/epoch - 23ms/step\n",
            "Epoch 33/100\n",
            "\n",
            "Epoch 33: loss did not improve from 0.04887\n",
            "116/116 - 3s - loss: 0.0513 - 3s/epoch - 23ms/step\n",
            "Epoch 34/100\n",
            "\n",
            "Epoch 34: loss did not improve from 0.04887\n",
            "116/116 - 3s - loss: 0.0510 - 3s/epoch - 26ms/step\n",
            "Epoch 35/100\n",
            "\n",
            "Epoch 35: loss did not improve from 0.04887\n",
            "116/116 - 3s - loss: 0.0503 - 3s/epoch - 26ms/step\n",
            "Epoch 36/100\n",
            "\n",
            "Epoch 36: loss did not improve from 0.04887\n",
            "116/116 - 3s - loss: 0.0504 - 3s/epoch - 25ms/step\n",
            "Epoch 37/100\n",
            "\n",
            "Epoch 37: loss did not improve from 0.04887\n",
            "116/116 - 3s - loss: 0.0508 - 3s/epoch - 26ms/step\n",
            "Epoch 38/100\n",
            "\n",
            "Epoch 38: loss did not improve from 0.04887\n",
            "116/116 - 3s - loss: 0.0507 - 3s/epoch - 25ms/step\n",
            "Epoch 39/100\n",
            "\n",
            "Epoch 39: loss did not improve from 0.04887\n",
            "116/116 - 3s - loss: 0.0498 - 3s/epoch - 25ms/step\n",
            "Epoch 40/100\n",
            "\n",
            "Epoch 40: loss did not improve from 0.04887\n",
            "116/116 - 3s - loss: 0.0515 - 3s/epoch - 25ms/step\n",
            "Epoch 41/100\n",
            "\n",
            "Epoch 41: loss did not improve from 0.04887\n",
            "116/116 - 3s - loss: 0.0496 - 3s/epoch - 24ms/step\n",
            "Epoch 42/100\n",
            "\n",
            "Epoch 42: loss did not improve from 0.04887\n",
            "116/116 - 3s - loss: 0.0501 - 3s/epoch - 25ms/step\n",
            "Epoch 43/100\n",
            "\n",
            "Epoch 43: loss did not improve from 0.04887\n",
            "116/116 - 3s - loss: 0.0517 - 3s/epoch - 26ms/step\n",
            "Epoch 44/100\n",
            "\n",
            "Epoch 44: loss did not improve from 0.04887\n",
            "116/116 - 3s - loss: 0.0503 - 3s/epoch - 25ms/step\n",
            "Epoch 45/100\n",
            "\n",
            "Epoch 45: loss did not improve from 0.04887\n",
            "116/116 - 3s - loss: 0.0507 - 3s/epoch - 25ms/step\n",
            "Epoch 46/100\n",
            "\n",
            "Epoch 46: loss did not improve from 0.04887\n",
            "116/116 - 3s - loss: 0.0500 - 3s/epoch - 25ms/step\n",
            "Epoch 47/100\n",
            "\n",
            "Epoch 47: loss did not improve from 0.04887\n",
            "116/116 - 7s - loss: 0.0512 - 7s/epoch - 61ms/step\n",
            "Epoch 48/100\n",
            "\n",
            "Epoch 48: loss did not improve from 0.04887\n",
            "116/116 - 4s - loss: 0.0495 - 4s/epoch - 35ms/step\n",
            "Epoch 49/100\n",
            "\n",
            "Epoch 49: loss did not improve from 0.04887\n",
            "116/116 - 3s - loss: 0.0504 - 3s/epoch - 25ms/step\n",
            "Epoch 50/100\n",
            "\n",
            "Epoch 50: loss did not improve from 0.04887\n",
            "116/116 - 3s - loss: 0.0507 - 3s/epoch - 24ms/step\n",
            "Epoch 51/100\n",
            "\n",
            "Epoch 51: loss did not improve from 0.04887\n",
            "116/116 - 3s - loss: 0.0511 - 3s/epoch - 23ms/step\n",
            "Epoch 52/100\n",
            "\n",
            "Epoch 52: loss did not improve from 0.04887\n",
            "116/116 - 3s - loss: 0.0504 - 3s/epoch - 25ms/step\n",
            "Epoch 53/100\n",
            "\n",
            "Epoch 53: loss did not improve from 0.04887\n",
            "116/116 - 3s - loss: 0.0502 - 3s/epoch - 26ms/step\n",
            "Epoch 54/100\n",
            "\n",
            "Epoch 54: loss did not improve from 0.04887\n",
            "116/116 - 3s - loss: 0.0493 - 3s/epoch - 23ms/step\n",
            "Epoch 55/100\n",
            "\n",
            "Epoch 55: loss did not improve from 0.04887\n",
            "116/116 - 3s - loss: 0.0509 - 3s/epoch - 23ms/step\n",
            "Epoch 56/100\n",
            "\n",
            "Epoch 56: loss did not improve from 0.04887\n",
            "116/116 - 3s - loss: 0.0497 - 3s/epoch - 25ms/step\n",
            "Epoch 57/100\n",
            "\n",
            "Epoch 57: loss did not improve from 0.04887\n",
            "116/116 - 3s - loss: 0.0501 - 3s/epoch - 24ms/step\n",
            "Epoch 58/100\n",
            "\n",
            "Epoch 58: loss did not improve from 0.04887\n",
            "116/116 - 3s - loss: 0.0501 - 3s/epoch - 26ms/step\n",
            "Epoch 59/100\n",
            "\n",
            "Epoch 59: loss did not improve from 0.04887\n",
            "116/116 - 3s - loss: 0.0495 - 3s/epoch - 24ms/step\n",
            "Epoch 60/100\n",
            "\n",
            "Epoch 60: loss improved from 0.04887 to 0.04861, saving model to save_model73.h5\n",
            "116/116 - 3s - loss: 0.0486 - 3s/epoch - 26ms/step\n",
            "Epoch 61/100\n",
            "\n",
            "Epoch 61: loss did not improve from 0.04861\n",
            "116/116 - 3s - loss: 0.0492 - 3s/epoch - 25ms/step\n",
            "Epoch 62/100\n",
            "\n",
            "Epoch 62: loss did not improve from 0.04861\n",
            "116/116 - 3s - loss: 0.0509 - 3s/epoch - 26ms/step\n",
            "Epoch 63/100\n",
            "\n",
            "Epoch 63: loss did not improve from 0.04861\n",
            "116/116 - 3s - loss: 0.0496 - 3s/epoch - 24ms/step\n",
            "Epoch 64/100\n",
            "\n",
            "Epoch 64: loss did not improve from 0.04861\n",
            "116/116 - 3s - loss: 0.0505 - 3s/epoch - 26ms/step\n",
            "Epoch 65/100\n",
            "\n",
            "Epoch 65: loss did not improve from 0.04861\n",
            "116/116 - 3s - loss: 0.0495 - 3s/epoch - 26ms/step\n",
            "Epoch 66/100\n",
            "\n",
            "Epoch 66: loss did not improve from 0.04861\n",
            "116/116 - 3s - loss: 0.0503 - 3s/epoch - 25ms/step\n",
            "Epoch 67/100\n",
            "\n",
            "Epoch 67: loss did not improve from 0.04861\n",
            "116/116 - 3s - loss: 0.0495 - 3s/epoch - 23ms/step\n",
            "Epoch 68/100\n",
            "\n",
            "Epoch 68: loss did not improve from 0.04861\n",
            "116/116 - 3s - loss: 0.0499 - 3s/epoch - 24ms/step\n",
            "Epoch 69/100\n",
            "\n",
            "Epoch 69: loss did not improve from 0.04861\n",
            "116/116 - 3s - loss: 0.0503 - 3s/epoch - 24ms/step\n",
            "Epoch 70/100\n",
            "\n",
            "Epoch 70: loss did not improve from 0.04861\n",
            "116/116 - 3s - loss: 0.0495 - 3s/epoch - 25ms/step\n",
            "Epoch 71/100\n",
            "\n",
            "Epoch 71: loss did not improve from 0.04861\n",
            "116/116 - 3s - loss: 0.0505 - 3s/epoch - 24ms/step\n",
            "Epoch 72/100\n",
            "\n",
            "Epoch 72: loss did not improve from 0.04861\n",
            "116/116 - 3s - loss: 0.0516 - 3s/epoch - 25ms/step\n",
            "Epoch 73/100\n",
            "\n",
            "Epoch 73: loss did not improve from 0.04861\n",
            "116/116 - 4s - loss: 0.0507 - 4s/epoch - 38ms/step\n",
            "Epoch 74/100\n",
            "\n",
            "Epoch 74: loss did not improve from 0.04861\n",
            "116/116 - 3s - loss: 0.0499 - 3s/epoch - 27ms/step\n",
            "Epoch 75/100\n",
            "\n",
            "Epoch 75: loss did not improve from 0.04861\n",
            "116/116 - 3s - loss: 0.0487 - 3s/epoch - 24ms/step\n",
            "Epoch 76/100\n",
            "\n",
            "Epoch 76: loss did not improve from 0.04861\n",
            "116/116 - 3s - loss: 0.0491 - 3s/epoch - 27ms/step\n",
            "Epoch 77/100\n",
            "\n",
            "Epoch 77: loss did not improve from 0.04861\n",
            "116/116 - 3s - loss: 0.0509 - 3s/epoch - 26ms/step\n",
            "Epoch 78/100\n",
            "\n",
            "Epoch 78: loss did not improve from 0.04861\n",
            "116/116 - 3s - loss: 0.0508 - 3s/epoch - 25ms/step\n",
            "Epoch 79/100\n",
            "\n",
            "Epoch 79: loss did not improve from 0.04861\n",
            "116/116 - 3s - loss: 0.0493 - 3s/epoch - 25ms/step\n",
            "Epoch 80/100\n",
            "\n",
            "Epoch 80: loss did not improve from 0.04861\n",
            "116/116 - 3s - loss: 0.0492 - 3s/epoch - 26ms/step\n",
            "Epoch 81/100\n",
            "\n",
            "Epoch 81: loss did not improve from 0.04861\n",
            "116/116 - 3s - loss: 0.0499 - 3s/epoch - 24ms/step\n",
            "Epoch 82/100\n",
            "\n",
            "Epoch 82: loss did not improve from 0.04861\n",
            "116/116 - 3s - loss: 0.0497 - 3s/epoch - 24ms/step\n",
            "Epoch 83/100\n",
            "\n",
            "Epoch 83: loss did not improve from 0.04861\n",
            "116/116 - 3s - loss: 0.0507 - 3s/epoch - 23ms/step\n",
            "Epoch 84/100\n",
            "\n",
            "Epoch 84: loss did not improve from 0.04861\n",
            "116/116 - 3s - loss: 0.0503 - 3s/epoch - 24ms/step\n",
            "Epoch 85/100\n",
            "\n",
            "Epoch 85: loss did not improve from 0.04861\n",
            "116/116 - 3s - loss: 0.0490 - 3s/epoch - 26ms/step\n",
            "Epoch 86/100\n",
            "\n",
            "Epoch 86: loss did not improve from 0.04861\n",
            "116/116 - 3s - loss: 0.0500 - 3s/epoch - 26ms/step\n",
            "Epoch 87/100\n",
            "\n",
            "Epoch 87: loss did not improve from 0.04861\n",
            "116/116 - 3s - loss: 0.0493 - 3s/epoch - 26ms/step\n",
            "Epoch 88/100\n",
            "\n",
            "Epoch 88: loss did not improve from 0.04861\n",
            "116/116 - 3s - loss: 0.0498 - 3s/epoch - 24ms/step\n",
            "Epoch 89/100\n",
            "\n",
            "Epoch 89: loss did not improve from 0.04861\n",
            "116/116 - 3s - loss: 0.0504 - 3s/epoch - 25ms/step\n",
            "Epoch 90/100\n",
            "\n",
            "Epoch 90: loss did not improve from 0.04861\n",
            "116/116 - 3s - loss: 0.0493 - 3s/epoch - 25ms/step\n",
            "Epoch 91/100\n",
            "\n",
            "Epoch 91: loss did not improve from 0.04861\n",
            "116/116 - 3s - loss: 0.0503 - 3s/epoch - 24ms/step\n",
            "Epoch 92/100\n",
            "\n",
            "Epoch 92: loss did not improve from 0.04861\n",
            "116/116 - 3s - loss: 0.0489 - 3s/epoch - 26ms/step\n",
            "Epoch 93/100\n",
            "\n",
            "Epoch 93: loss did not improve from 0.04861\n",
            "116/116 - 3s - loss: 0.0487 - 3s/epoch - 25ms/step\n",
            "Epoch 94/100\n",
            "\n",
            "Epoch 94: loss did not improve from 0.04861\n",
            "116/116 - 3s - loss: 0.0508 - 3s/epoch - 24ms/step\n",
            "Epoch 95/100\n",
            "\n",
            "Epoch 95: loss did not improve from 0.04861\n",
            "116/116 - 3s - loss: 0.0494 - 3s/epoch - 26ms/step\n",
            "Epoch 96/100\n",
            "\n",
            "Epoch 96: loss improved from 0.04861 to 0.04838, saving model to save_model73.h5\n",
            "116/116 - 3s - loss: 0.0484 - 3s/epoch - 26ms/step\n",
            "Epoch 97/100\n",
            "\n",
            "Epoch 97: loss did not improve from 0.04838\n",
            "116/116 - 3s - loss: 0.0502 - 3s/epoch - 26ms/step\n",
            "Epoch 98/100\n",
            "\n",
            "Epoch 98: loss did not improve from 0.04838\n",
            "116/116 - 3s - loss: 0.0512 - 3s/epoch - 25ms/step\n",
            "Epoch 99/100\n",
            "\n",
            "Epoch 99: loss did not improve from 0.04838\n",
            "116/116 - 3s - loss: 0.0491 - 3s/epoch - 24ms/step\n",
            "Epoch 100/100\n",
            "\n",
            "Epoch 100: loss did not improve from 0.04838\n",
            "116/116 - 3s - loss: 0.0497 - 3s/epoch - 26ms/step\n"
          ]
        },
        {
          "output_type": "execute_result",
          "data": {
            "text/plain": [
              "<keras.callbacks.History at 0x7ff757b7d700>"
            ]
          },
          "metadata": {},
          "execution_count": 31
        }
      ],
      "source": [
        "#thực thi mô hình\n",
        "save_model73=\"save_model73.h5\"\n",
        "best_model73=ModelCheckpoint(save_model73,monitor='loss',verbose=2,save_best_only=True, mode='auto')\n",
        "model73.fit(x_train73,y_train73, epochs=100,verbose=2,callbacks=best_model73) # callbacks lưu dữ liệu phần epochs có loss thấp nhất\n",
        "# model.fit(x_train, y_train, batch_size= 32, epochs=30)"
      ]
    },
    {
      "cell_type": "code",
      "execution_count": null,
      "metadata": {
        "colab": {
          "base_uri": "https://localhost:8080/",
          "height": 283
        },
        "id": "f9bo9lu0tBS-",
        "outputId": "3b60ef8a-86b4-4fa0-aee1-bd736b88c4eb"
      },
      "outputs": [
        {
          "output_type": "execute_result",
          "data": {
            "text/plain": [
              "[<matplotlib.lines.Line2D at 0x7ff754818eb0>]"
            ]
          },
          "metadata": {},
          "execution_count": 32
        },
        {
          "output_type": "display_data",
          "data": {
            "text/plain": [
              "<Figure size 432x288 with 1 Axes>"
            ],
            "image/png": "[encoded data removed]"
          },
          "metadata": {
            "needs_background": "light"
          }
        }
      ],
      "source": [
        "loss_per_epoch = model73.history.history['loss']\n",
        "plt.plot(loss_per_epoch)"
      ]
    },
    {
      "cell_type": "code",
      "execution_count": null,
      "metadata": {
        "id": "2fqU82TglYuB"
      },
      "outputs": [],
      "source": [
        "# 9-1\n",
        "#Xây dựng mô hình\n",
        "model91=Sequential()\n",
        "#unit Số nguyên dương, chiều của không gian đầu ra.\n",
        "model91.add(LSTM(units=64, input_shape=(x_train91.shape[1],1),return_sequences=True))\n",
        "model91.add(Dropout(0.5))\n",
        "model91.add(LSTM(units=64, return_sequences=True))\n",
        "model91.add(Dropout(0.5))\n",
        "model91.add(LSTM(units=32))\n",
        "model91.add(Dropout(0.5))\n",
        "model91.add(Dense(25))\n",
        "model91.add(Dropout(0.5))\n",
        "model91.add(Dense(1))\n",
        "model91.compile(loss='mean_absolute_error', optimizer='adam')"
      ]
    },
    {
      "cell_type": "code",
      "execution_count": null,
      "metadata": {
        "colab": {
          "base_uri": "https://localhost:8080/"
        },
        "id": "_QCP6K_Jlhq8",
        "outputId": "3ec9d2ba-9130-45a1-e468-f7f38f568829"
      },
      "outputs": [
        {
          "output_type": "stream",
          "name": "stdout",
          "text": [
            "Epoch 1/100\n",
            "\n",
            "Epoch 1: loss improved from inf to 0.11233, saving model to save_model91.h5\n",
            "149/149 - 10s - loss: 0.1123 - 10s/epoch - 69ms/step\n",
            "Epoch 2/100\n",
            "\n",
            "Epoch 2: loss improved from 0.11233 to 0.07710, saving model to save_model91.h5\n",
            "149/149 - 4s - loss: 0.0771 - 4s/epoch - 26ms/step\n",
            "Epoch 3/100\n",
            "\n",
            "Epoch 3: loss improved from 0.07710 to 0.07321, saving model to save_model91.h5\n",
            "149/149 - 4s - loss: 0.0732 - 4s/epoch - 26ms/step\n",
            "Epoch 4/100\n",
            "\n",
            "Epoch 4: loss improved from 0.07321 to 0.06846, saving model to save_model91.h5\n",
            "149/149 - 4s - loss: 0.0685 - 4s/epoch - 25ms/step\n",
            "Epoch 5/100\n",
            "\n",
            "Epoch 5: loss improved from 0.06846 to 0.06478, saving model to save_model91.h5\n",
            "149/149 - 4s - loss: 0.0648 - 4s/epoch - 25ms/step\n",
            "Epoch 6/100\n",
            "\n",
            "Epoch 6: loss improved from 0.06478 to 0.06306, saving model to save_model91.h5\n",
            "149/149 - 4s - loss: 0.0631 - 4s/epoch - 26ms/step\n",
            "Epoch 7/100\n",
            "\n",
            "Epoch 7: loss improved from 0.06306 to 0.06081, saving model to save_model91.h5\n",
            "149/149 - 4s - loss: 0.0608 - 4s/epoch - 25ms/step\n",
            "Epoch 8/100\n",
            "\n",
            "Epoch 8: loss improved from 0.06081 to 0.05763, saving model to save_model91.h5\n",
            "149/149 - 4s - loss: 0.0576 - 4s/epoch - 25ms/step\n",
            "Epoch 9/100\n",
            "\n",
            "Epoch 9: loss did not improve from 0.05763\n",
            "149/149 - 4s - loss: 0.0580 - 4s/epoch - 25ms/step\n",
            "Epoch 10/100\n",
            "\n",
            "Epoch 10: loss improved from 0.05763 to 0.05683, saving model to save_model91.h5\n",
            "149/149 - 4s - loss: 0.0568 - 4s/epoch - 23ms/step\n",
            "Epoch 11/100\n",
            "\n",
            "Epoch 11: loss improved from 0.05683 to 0.05646, saving model to save_model91.h5\n",
            "149/149 - 4s - loss: 0.0565 - 4s/epoch - 24ms/step\n",
            "Epoch 12/100\n",
            "\n",
            "Epoch 12: loss did not improve from 0.05646\n",
            "149/149 - 4s - loss: 0.0570 - 4s/epoch - 26ms/step\n",
            "Epoch 13/100\n",
            "\n",
            "Epoch 13: loss improved from 0.05646 to 0.05591, saving model to save_model91.h5\n",
            "149/149 - 4s - loss: 0.0559 - 4s/epoch - 24ms/step\n",
            "Epoch 14/100\n",
            "\n",
            "Epoch 14: loss improved from 0.05591 to 0.05402, saving model to save_model91.h5\n",
            "149/149 - 4s - loss: 0.0540 - 4s/epoch - 26ms/step\n",
            "Epoch 15/100\n",
            "\n",
            "Epoch 15: loss improved from 0.05402 to 0.05283, saving model to save_model91.h5\n",
            "149/149 - 4s - loss: 0.0528 - 4s/epoch - 25ms/step\n",
            "Epoch 16/100\n",
            "\n",
            "Epoch 16: loss did not improve from 0.05283\n",
            "149/149 - 4s - loss: 0.0543 - 4s/epoch - 30ms/step\n",
            "Epoch 17/100\n",
            "\n",
            "Epoch 17: loss did not improve from 0.05283\n",
            "149/149 - 4s - loss: 0.0545 - 4s/epoch - 28ms/step\n",
            "Epoch 18/100\n",
            "\n",
            "Epoch 18: loss did not improve from 0.05283\n",
            "149/149 - 4s - loss: 0.0531 - 4s/epoch - 24ms/step\n",
            "Epoch 19/100\n",
            "\n",
            "Epoch 19: loss improved from 0.05283 to 0.05259, saving model to save_model91.h5\n",
            "149/149 - 4s - loss: 0.0526 - 4s/epoch - 24ms/step\n",
            "Epoch 20/100\n",
            "\n",
            "Epoch 20: loss improved from 0.05259 to 0.05227, saving model to save_model91.h5\n",
            "149/149 - 4s - loss: 0.0523 - 4s/epoch - 25ms/step\n",
            "Epoch 21/100\n",
            "\n",
            "Epoch 21: loss did not improve from 0.05227\n",
            "149/149 - 4s - loss: 0.0524 - 4s/epoch - 24ms/step\n",
            "Epoch 22/100\n",
            "\n",
            "Epoch 22: loss did not improve from 0.05227\n",
            "149/149 - 4s - loss: 0.0530 - 4s/epoch - 25ms/step\n",
            "Epoch 23/100\n",
            "\n",
            "Epoch 23: loss improved from 0.05227 to 0.05216, saving model to save_model91.h5\n",
            "149/149 - 4s - loss: 0.0522 - 4s/epoch - 24ms/step\n",
            "Epoch 24/100\n",
            "\n",
            "Epoch 24: loss improved from 0.05216 to 0.05201, saving model to save_model91.h5\n",
            "149/149 - 4s - loss: 0.0520 - 4s/epoch - 24ms/step\n",
            "Epoch 25/100\n",
            "\n",
            "Epoch 25: loss improved from 0.05201 to 0.05159, saving model to save_model91.h5\n",
            "149/149 - 4s - loss: 0.0516 - 4s/epoch - 24ms/step\n",
            "Epoch 26/100\n",
            "\n",
            "Epoch 26: loss improved from 0.05159 to 0.05074, saving model to save_model91.h5\n",
            "149/149 - 4s - loss: 0.0507 - 4s/epoch - 25ms/step\n",
            "Epoch 27/100\n",
            "\n",
            "Epoch 27: loss did not improve from 0.05074\n",
            "149/149 - 4s - loss: 0.0519 - 4s/epoch - 25ms/step\n",
            "Epoch 28/100\n",
            "\n",
            "Epoch 28: loss did not improve from 0.05074\n",
            "149/149 - 4s - loss: 0.0512 - 4s/epoch - 24ms/step\n",
            "Epoch 29/100\n",
            "\n",
            "Epoch 29: loss did not improve from 0.05074\n",
            "149/149 - 3s - loss: 0.0523 - 3s/epoch - 23ms/step\n",
            "Epoch 30/100\n",
            "\n",
            "Epoch 30: loss improved from 0.05074 to 0.05019, saving model to save_model91.h5\n",
            "149/149 - 4s - loss: 0.0502 - 4s/epoch - 24ms/step\n",
            "Epoch 31/100\n",
            "\n",
            "Epoch 31: loss did not improve from 0.05019\n",
            "149/149 - 4s - loss: 0.0518 - 4s/epoch - 25ms/step\n",
            "Epoch 32/100\n",
            "\n",
            "Epoch 32: loss did not improve from 0.05019\n",
            "149/149 - 4s - loss: 0.0515 - 4s/epoch - 26ms/step\n",
            "Epoch 33/100\n",
            "\n",
            "Epoch 33: loss did not improve from 0.05019\n",
            "149/149 - 4s - loss: 0.0516 - 4s/epoch - 24ms/step\n",
            "Epoch 34/100\n",
            "\n",
            "Epoch 34: loss did not improve from 0.05019\n",
            "149/149 - 4s - loss: 0.0520 - 4s/epoch - 24ms/step\n",
            "Epoch 35/100\n",
            "\n",
            "Epoch 35: loss did not improve from 0.05019\n",
            "149/149 - 4s - loss: 0.0511 - 4s/epoch - 24ms/step\n",
            "Epoch 36/100\n",
            "\n",
            "Epoch 36: loss did not improve from 0.05019\n",
            "149/149 - 4s - loss: 0.0510 - 4s/epoch - 25ms/step\n",
            "Epoch 37/100\n",
            "\n",
            "Epoch 37: loss did not improve from 0.05019\n",
            "149/149 - 4s - loss: 0.0515 - 4s/epoch - 24ms/step\n",
            "Epoch 38/100\n",
            "\n",
            "Epoch 38: loss improved from 0.05019 to 0.05015, saving model to save_model91.h5\n",
            "149/149 - 4s - loss: 0.0502 - 4s/epoch - 24ms/step\n",
            "Epoch 39/100\n",
            "\n",
            "Epoch 39: loss did not improve from 0.05015\n",
            "149/149 - 4s - loss: 0.0512 - 4s/epoch - 24ms/step\n",
            "Epoch 40/100\n",
            "\n",
            "Epoch 40: loss did not improve from 0.05015\n",
            "149/149 - 4s - loss: 0.0521 - 4s/epoch - 24ms/step\n",
            "Epoch 41/100\n",
            "\n",
            "Epoch 41: loss did not improve from 0.05015\n",
            "149/149 - 4s - loss: 0.0512 - 4s/epoch - 25ms/step\n",
            "Epoch 42/100\n",
            "\n",
            "Epoch 42: loss improved from 0.05015 to 0.04857, saving model to save_model91.h5\n",
            "149/149 - 4s - loss: 0.0486 - 4s/epoch - 26ms/step\n",
            "Epoch 43/100\n",
            "\n",
            "Epoch 43: loss did not improve from 0.04857\n",
            "149/149 - 4s - loss: 0.0501 - 4s/epoch - 25ms/step\n",
            "Epoch 44/100\n",
            "\n",
            "Epoch 44: loss did not improve from 0.04857\n",
            "149/149 - 4s - loss: 0.0501 - 4s/epoch - 24ms/step\n",
            "Epoch 45/100\n",
            "\n",
            "Epoch 45: loss did not improve from 0.04857\n",
            "149/149 - 4s - loss: 0.0522 - 4s/epoch - 24ms/step\n",
            "Epoch 46/100\n",
            "\n",
            "Epoch 46: loss did not improve from 0.04857\n",
            "149/149 - 4s - loss: 0.0507 - 4s/epoch - 26ms/step\n",
            "Epoch 47/100\n",
            "\n",
            "Epoch 47: loss did not improve from 0.04857\n",
            "149/149 - 4s - loss: 0.0503 - 4s/epoch - 24ms/step\n",
            "Epoch 48/100\n",
            "\n",
            "Epoch 48: loss did not improve from 0.04857\n",
            "149/149 - 4s - loss: 0.0498 - 4s/epoch - 25ms/step\n",
            "Epoch 49/100\n",
            "\n",
            "Epoch 49: loss did not improve from 0.04857\n",
            "149/149 - 4s - loss: 0.0500 - 4s/epoch - 24ms/step\n",
            "Epoch 50/100\n",
            "\n",
            "Epoch 50: loss did not improve from 0.04857\n",
            "149/149 - 4s - loss: 0.0490 - 4s/epoch - 23ms/step\n",
            "Epoch 51/100\n",
            "\n",
            "Epoch 51: loss did not improve from 0.04857\n",
            "149/149 - 4s - loss: 0.0504 - 4s/epoch - 24ms/step\n",
            "Epoch 52/100\n",
            "\n",
            "Epoch 52: loss did not improve from 0.04857\n",
            "149/149 - 4s - loss: 0.0514 - 4s/epoch - 24ms/step\n",
            "Epoch 53/100\n",
            "\n",
            "Epoch 53: loss did not improve from 0.04857\n",
            "149/149 - 4s - loss: 0.0492 - 4s/epoch - 26ms/step\n",
            "Epoch 54/100\n",
            "\n",
            "Epoch 54: loss did not improve from 0.04857\n",
            "149/149 - 4s - loss: 0.0497 - 4s/epoch - 26ms/step\n",
            "Epoch 55/100\n",
            "\n",
            "Epoch 55: loss did not improve from 0.04857\n",
            "149/149 - 4s - loss: 0.0519 - 4s/epoch - 25ms/step\n",
            "Epoch 56/100\n",
            "\n",
            "Epoch 56: loss did not improve from 0.04857\n",
            "149/149 - 4s - loss: 0.0509 - 4s/epoch - 24ms/step\n",
            "Epoch 57/100\n",
            "\n",
            "Epoch 57: loss did not improve from 0.04857\n",
            "149/149 - 4s - loss: 0.0499 - 4s/epoch - 24ms/step\n",
            "Epoch 58/100\n",
            "\n",
            "Epoch 58: loss did not improve from 0.04857\n",
            "149/149 - 3s - loss: 0.0497 - 3s/epoch - 23ms/step\n",
            "Epoch 59/100\n",
            "\n",
            "Epoch 59: loss did not improve from 0.04857\n",
            "149/149 - 4s - loss: 0.0503 - 4s/epoch - 24ms/step\n",
            "Epoch 60/100\n",
            "\n",
            "Epoch 60: loss did not improve from 0.04857\n",
            "149/149 - 4s - loss: 0.0503 - 4s/epoch - 25ms/step\n",
            "Epoch 61/100\n",
            "\n",
            "Epoch 61: loss did not improve from 0.04857\n",
            "149/149 - 3s - loss: 0.0500 - 3s/epoch - 23ms/step\n",
            "Epoch 62/100\n",
            "\n",
            "Epoch 62: loss did not improve from 0.04857\n",
            "149/149 - 4s - loss: 0.0499 - 4s/epoch - 25ms/step\n",
            "Epoch 63/100\n",
            "\n",
            "Epoch 63: loss did not improve from 0.04857\n",
            "149/149 - 5s - loss: 0.0496 - 5s/epoch - 34ms/step\n",
            "Epoch 64/100\n",
            "\n",
            "Epoch 64: loss did not improve from 0.04857\n",
            "149/149 - 4s - loss: 0.0503 - 4s/epoch - 26ms/step\n",
            "Epoch 65/100\n",
            "\n",
            "Epoch 65: loss did not improve from 0.04857\n",
            "149/149 - 4s - loss: 0.0509 - 4s/epoch - 27ms/step\n",
            "Epoch 66/100\n",
            "\n",
            "Epoch 66: loss did not improve from 0.04857\n",
            "149/149 - 4s - loss: 0.0492 - 4s/epoch - 26ms/step\n",
            "Epoch 67/100\n",
            "\n",
            "Epoch 67: loss did not improve from 0.04857\n",
            "149/149 - 4s - loss: 0.0504 - 4s/epoch - 25ms/step\n",
            "Epoch 68/100\n",
            "\n",
            "Epoch 68: loss did not improve from 0.04857\n",
            "149/149 - 4s - loss: 0.0488 - 4s/epoch - 24ms/step\n",
            "Epoch 69/100\n",
            "\n",
            "Epoch 69: loss did not improve from 0.04857\n",
            "149/149 - 4s - loss: 0.0503 - 4s/epoch - 26ms/step\n",
            "Epoch 70/100\n",
            "\n",
            "Epoch 70: loss did not improve from 0.04857\n",
            "149/149 - 4s - loss: 0.0502 - 4s/epoch - 24ms/step\n",
            "Epoch 71/100\n",
            "\n",
            "Epoch 71: loss did not improve from 0.04857\n",
            "149/149 - 4s - loss: 0.0501 - 4s/epoch - 24ms/step\n",
            "Epoch 72/100\n",
            "\n",
            "Epoch 72: loss did not improve from 0.04857\n",
            "149/149 - 4s - loss: 0.0490 - 4s/epoch - 25ms/step\n",
            "Epoch 73/100\n",
            "\n",
            "Epoch 73: loss did not improve from 0.04857\n",
            "149/149 - 4s - loss: 0.0508 - 4s/epoch - 24ms/step\n",
            "Epoch 74/100\n",
            "\n",
            "Epoch 74: loss did not improve from 0.04857\n",
            "149/149 - 4s - loss: 0.0505 - 4s/epoch - 26ms/step\n",
            "Epoch 75/100\n",
            "\n",
            "Epoch 75: loss did not improve from 0.04857\n",
            "149/149 - 4s - loss: 0.0505 - 4s/epoch - 26ms/step\n",
            "Epoch 76/100\n",
            "\n",
            "Epoch 76: loss did not improve from 0.04857\n",
            "149/149 - 4s - loss: 0.0496 - 4s/epoch - 25ms/step\n",
            "Epoch 77/100\n",
            "\n",
            "Epoch 77: loss did not improve from 0.04857\n",
            "149/149 - 4s - loss: 0.0496 - 4s/epoch - 25ms/step\n",
            "Epoch 78/100\n",
            "\n",
            "Epoch 78: loss improved from 0.04857 to 0.04847, saving model to save_model91.h5\n",
            "149/149 - 4s - loss: 0.0485 - 4s/epoch - 26ms/step\n",
            "Epoch 79/100\n",
            "\n",
            "Epoch 79: loss did not improve from 0.04847\n",
            "149/149 - 4s - loss: 0.0494 - 4s/epoch - 25ms/step\n",
            "Epoch 80/100\n",
            "\n",
            "Epoch 80: loss did not improve from 0.04847\n",
            "149/149 - 3s - loss: 0.0504 - 3s/epoch - 23ms/step\n",
            "Epoch 81/100\n",
            "\n",
            "Epoch 81: loss did not improve from 0.04847\n",
            "149/149 - 4s - loss: 0.0488 - 4s/epoch - 25ms/step\n",
            "Epoch 82/100\n",
            "\n",
            "Epoch 82: loss did not improve from 0.04847\n",
            "149/149 - 4s - loss: 0.0493 - 4s/epoch - 25ms/step\n",
            "Epoch 83/100\n",
            "\n",
            "Epoch 83: loss did not improve from 0.04847\n",
            "149/149 - 4s - loss: 0.0495 - 4s/epoch - 26ms/step\n",
            "Epoch 84/100\n",
            "\n",
            "Epoch 84: loss did not improve from 0.04847\n",
            "149/149 - 4s - loss: 0.0503 - 4s/epoch - 25ms/step\n",
            "Epoch 85/100\n",
            "\n",
            "Epoch 85: loss did not improve from 0.04847\n",
            "149/149 - 4s - loss: 0.0501 - 4s/epoch - 24ms/step\n",
            "Epoch 86/100\n",
            "\n",
            "Epoch 86: loss did not improve from 0.04847\n",
            "149/149 - 4s - loss: 0.0497 - 4s/epoch - 26ms/step\n",
            "Epoch 87/100\n",
            "\n",
            "Epoch 87: loss did not improve from 0.04847\n",
            "149/149 - 4s - loss: 0.0498 - 4s/epoch - 24ms/step\n",
            "Epoch 88/100\n",
            "\n",
            "Epoch 88: loss did not improve from 0.04847\n",
            "149/149 - 4s - loss: 0.0491 - 4s/epoch - 25ms/step\n",
            "Epoch 89/100\n",
            "\n",
            "Epoch 89: loss did not improve from 0.04847\n",
            "149/149 - 4s - loss: 0.0502 - 4s/epoch - 25ms/step\n",
            "Epoch 90/100\n",
            "\n",
            "Epoch 90: loss improved from 0.04847 to 0.04802, saving model to save_model91.h5\n",
            "149/149 - 4s - loss: 0.0480 - 4s/epoch - 25ms/step\n",
            "Epoch 91/100\n",
            "\n",
            "Epoch 91: loss did not improve from 0.04802\n",
            "149/149 - 4s - loss: 0.0498 - 4s/epoch - 25ms/step\n",
            "Epoch 92/100\n",
            "\n",
            "Epoch 92: loss did not improve from 0.04802\n",
            "149/149 - 4s - loss: 0.0499 - 4s/epoch - 24ms/step\n",
            "Epoch 93/100\n",
            "\n",
            "Epoch 93: loss did not improve from 0.04802\n",
            "149/149 - 4s - loss: 0.0500 - 4s/epoch - 25ms/step\n",
            "Epoch 94/100\n",
            "\n",
            "Epoch 94: loss did not improve from 0.04802\n",
            "149/149 - 4s - loss: 0.0488 - 4s/epoch - 25ms/step\n",
            "Epoch 95/100\n",
            "\n",
            "Epoch 95: loss did not improve from 0.04802\n",
            "149/149 - 4s - loss: 0.0481 - 4s/epoch - 25ms/step\n",
            "Epoch 96/100\n",
            "\n",
            "Epoch 96: loss did not improve from 0.04802\n",
            "149/149 - 4s - loss: 0.0495 - 4s/epoch - 24ms/step\n",
            "Epoch 97/100\n",
            "\n",
            "Epoch 97: loss did not improve from 0.04802\n",
            "149/149 - 4s - loss: 0.0508 - 4s/epoch - 24ms/step\n",
            "Epoch 98/100\n",
            "\n",
            "Epoch 98: loss did not improve from 0.04802\n",
            "149/149 - 4s - loss: 0.0491 - 4s/epoch - 26ms/step\n",
            "Epoch 99/100\n",
            "\n",
            "Epoch 99: loss did not improve from 0.04802\n",
            "149/149 - 4s - loss: 0.0505 - 4s/epoch - 24ms/step\n",
            "Epoch 100/100\n",
            "\n",
            "Epoch 100: loss did not improve from 0.04802\n",
            "149/149 - 3s - loss: 0.0492 - 3s/epoch - 23ms/step\n"
          ]
        },
        {
          "output_type": "execute_result",
          "data": {
            "text/plain": [
              "<keras.callbacks.History at 0x7ff7546caee0>"
            ]
          },
          "metadata": {},
          "execution_count": 34
        }
      ],
      "source": [
        "#thực thi mô hình\n",
        "save_model91=\"save_model91.h5\"\n",
        "best_model91=ModelCheckpoint(save_model91,monitor='loss',verbose=2,save_best_only=True, mode='auto')\n",
        "model91.fit(x_train91,y_train91, epochs=100,verbose=2,callbacks=best_model91) #lưu dữ liệu phần epochs có loss thấp nhất\n",
        "# model.fit(x_train, y_train, batch_size= 32, epochs=30)"
      ]
    },
    {
      "cell_type": "code",
      "execution_count": null,
      "metadata": {
        "colab": {
          "base_uri": "https://localhost:8080/",
          "height": 283
        },
        "id": "CO07COtYtCZh",
        "outputId": "2d5633ba-1430-4bed-b5ab-f6d695947904"
      },
      "outputs": [
        {
          "output_type": "execute_result",
          "data": {
            "text/plain": [
              "[<matplotlib.lines.Line2D at 0x7ff751749eb0>]"
            ]
          },
          "metadata": {},
          "execution_count": 35
        },
        {
          "output_type": "display_data",
          "data": {
            "text/plain": [
              "<Figure size 432x288 with 1 Axes>"
            ],
            "image/png": "[encoded data removed]"
          },
          "metadata": {
            "needs_background": "light"
          }
        }
      ],
      "source": [
        "loss_per_epoch = model91.history.history['loss']\n",
        "plt.plot(loss_per_epoch)"
      ]
    },
    {
      "cell_type": "markdown",
      "metadata": {
        "id": "aPjHIltADEPq"
      },
      "source": [
        "**ĐIỀU CHỈNH ĐỊNH DẠNG DỮ LIỆU TỪ DỮ LIỆU ĐÃ CHUẨN HOÁ SANG (0->1) SANG VND**\n",
        "\n",
        "\n",
        "\n",
        "\n",
        "---\n"
      ]
    },
    {
      "cell_type": "code",
      "execution_count": null,
      "metadata": {
        "colab": {
          "base_uri": "https://localhost:8080/"
        },
        "id": "l0ibO28uQA0X",
        "outputId": "804b5467-2879-41a5-deb8-efe0c4a091fb"
      },
      "outputs": [
        {
          "output_type": "stream",
          "name": "stdout",
          "text": [
            "132/132 [==============================] - 3s 9ms/step\n"
          ]
        }
      ],
      "source": [
        "y_train=sc.inverse_transform(y_train) #Proceed to process the normalized number 0-1 into the price of gold VND\n",
        "final_model=load_model('save_model.h5') #reload the best model saved\n",
        "y_train_predict=final_model.predict(x_train) #predicted price\n",
        "y_train_predict=sc.inverse_transform(y_train_predict)\n",
        "#proceed to process the normalized number 0-1 into the predicted gold price VND"
      ]
    },
    {
      "cell_type": "code",
      "execution_count": null,
      "metadata": {
        "colab": {
          "base_uri": "https://localhost:8080/"
        },
        "id": "y-4Gi5jElmHT",
        "outputId": "7cfe43d5-b5e8-4c99-a11a-b07ac76cdb8b"
      },
      "outputs": [
        {
          "output_type": "stream",
          "name": "stdout",
          "text": [
            "116/116 [==============================] - 2s 9ms/step\n"
          ]
        }
      ],
      "source": [
        "# 7-3\n",
        "y_train73=sc.inverse_transform(y_train73)\n",
        "final_model73=load_model('save_model73.h5')\n",
        "y_train_predict73=final_model73.predict(x_train73)\n",
        "y_train_predict73=sc.inverse_transform(y_train_predict73)"
      ]
    },
    {
      "cell_type": "code",
      "execution_count": null,
      "metadata": {
        "colab": {
          "base_uri": "https://localhost:8080/"
        },
        "id": "mM9F61kRll2Z",
        "outputId": "42d84995-48db-454b-ae45-42c7be94676a"
      },
      "outputs": [
        {
          "output_type": "stream",
          "name": "stdout",
          "text": [
            "149/149 [==============================] - 2s 8ms/step\n"
          ]
        }
      ],
      "source": [
        "# 9-1\n",
        "y_train91=sc.inverse_transform(y_train91)\n",
        "final_model91=load_model('save_model91.h5')\n",
        "y_train_predict91=final_model91.predict(x_train91)\n",
        "y_train_predict91=sc.inverse_transform(y_train_predict91)"
      ]
    },
    {
      "cell_type": "markdown",
      "metadata": {
        "id": "sF8hSYb3DYX9"
      },
      "source": [
        "**XỬ LÍ DỮ LIỆU TẬP TEST**\n",
        "---\n",
        "---"
      ]
    },
    {
      "cell_type": "code",
      "execution_count": null,
      "metadata": {
        "colab": {
          "base_uri": "https://localhost:8080/"
        },
        "id": "zkeivNuhRNpG",
        "outputId": "4927499d-a940-455d-8035-15283c8021d6"
      },
      "outputs": [
        {
          "output_type": "stream",
          "name": "stdout",
          "text": [
            "34/34 [==============================] - 0s 9ms/step\n"
          ]
        }
      ],
      "source": [
        "test=df[len(train_data)-15:].values\n",
        "test=test.reshape(-1,1)\n",
        "sc_test=sc.transform(test)\n",
        "\n",
        "x_test=[]\n",
        "for i in range(15,test.shape[0]):\n",
        "  x_test.append(sc_test[i-15:i,0])\n",
        "x_test=np.array(x_test)\n",
        "x_test=np.reshape(x_test,(x_test.shape[0],x_test.shape[1],1))\n",
        "\n",
        "y_test=data[training_data_len:]\n",
        "y_test_predict=final_model.predict(x_test)\n",
        "y_test_predict=sc.inverse_transform(y_test_predict)"
      ]
    },
    {
      "cell_type": "code",
      "execution_count": null,
      "metadata": {
        "colab": {
          "base_uri": "https://localhost:8080/"
        },
        "id": "tiFTvAGqmMhZ",
        "outputId": "ea3281c9-434f-4854-9510-8b0bc59b73c3"
      },
      "outputs": [
        {
          "output_type": "stream",
          "name": "stdout",
          "text": [
            "50/50 [==============================] - 0s 9ms/step\n"
          ]
        }
      ],
      "source": [
        "# 7-3\n",
        "test73=df[len(train_data73)-15:].values\n",
        "test73=test73.reshape(-1,1)\n",
        "sc_test73=sc.transform(test73)\n",
        "\n",
        "x_test73=[]\n",
        "for i in range(15,test73.shape[0]):\n",
        "  x_test73.append(sc_test73[i-15:i,0])\n",
        "x_test73=np.array(x_test73)\n",
        "x_test73=np.reshape(x_test73,(x_test73.shape[0],x_test73.shape[1],1))\n",
        "\n",
        "# y_test73=data[2606:]\n",
        "#2002-2022\n",
        "# y_test73=data[3702:]\n",
        "y_test73=data[training_data_len73:]\n",
        "y_test_predict73=final_model73.predict(x_test73)\n",
        "y_test_predict73=sc.inverse_transform(y_test_predict73)"
      ]
    },
    {
      "cell_type": "code",
      "execution_count": null,
      "metadata": {
        "colab": {
          "base_uri": "https://localhost:8080/"
        },
        "id": "LEXkzUERmMS0",
        "outputId": "8cc4c5ad-3628-44c1-bc36-32b909b5215d"
      },
      "outputs": [
        {
          "output_type": "stream",
          "name": "stdout",
          "text": [
            "17/17 [==============================] - 0s 9ms/step\n"
          ]
        }
      ],
      "source": [
        "# 9-1\n",
        "test91=df[len(train_data91)-15:].values\n",
        "test91=test91.reshape(-1,1)\n",
        "sc_test91=sc.transform(test91)\n",
        "\n",
        "x_test91=[]\n",
        "for i in range(15,test91.shape[0]):\n",
        "  x_test91.append(sc_test91[i-15:i,0])\n",
        "x_test91=np.array(x_test91)\n",
        "x_test91=np.reshape(x_test91,(x_test91.shape[0],x_test91.shape[1],1))\n",
        "\n",
        "# y_test91=data[3351:]\n",
        "#2002-2022\n",
        "# y_test91=data[4760:]\n",
        "y_test91=data[training_data_len91:]\n",
        "y_test_predict91=final_model91.predict(x_test91)\n",
        "y_test_predict91=sc.inverse_transform(y_test_predict91)"
      ]
    },
    {
      "cell_type": "markdown",
      "metadata": {
        "id": "gANGoDu8Co7e"
      },
      "source": [
        "**VẼ BIỂU ĐỒ VỚI GIÁ TRỊ DỰ ĐOÁN SAU KHI TRAIN**\n",
        "---\n",
        "---\n",
        "* Dữ liệu train\n",
        "* Dữ liệu test\n",
        "* Dữ liệu dự đoán\n",
        "---"
      ]
    },
    {
      "cell_type": "code",
      "execution_count": null,
      "metadata": {
        "colab": {
          "base_uri": "https://localhost:8080/",
          "height": 551
        },
        "id": "4vmofLQMR1ds",
        "outputId": "2f5b72e0-a21c-4aa7-f823-87d370c0bd20"
      },
      "outputs": [
        {
          "output_type": "stream",
          "name": "stderr",
          "text": [
            "<ipython-input-42-a133aacf949d>:16: SettingWithCopyWarning: \n",
            "A value is trying to be set on a copy of a slice from a DataFrame.\n",
            "Try using .loc[row_indexer,col_indexer] = value instead\n",
            "\n",
            "See the caveats in the documentation: https://pandas.pydata.org/pandas-docs/stable/user_guide/indexing.html#returning-a-view-versus-a-copy\n",
            "  train_datal['prediction']=y_train_predict\n",
            "<ipython-input-42-a133aacf949d>:18: SettingWithCopyWarning: \n",
            "A value is trying to be set on a copy of a slice from a DataFrame.\n",
            "Try using .loc[row_indexer,col_indexer] = value instead\n",
            "\n",
            "See the caveats in the documentation: https://pandas.pydata.org/pandas-docs/stable/user_guide/indexing.html#returning-a-view-versus-a-copy\n",
            "  test_datal['prediction']=y_test_predict\n"
          ]
        },
        {
          "output_type": "display_data",
          "data": {
            "text/plain": [
              "<Figure size 1512x360 with 1 Axes>"
            ],
            "image/png": "[encoded data removed]"
          },
          "metadata": {
            "needs_background": "light"
          }
        }
      ],
      "source": [
        "train_datal=df[15:training_data_len]\n",
        "test_datal=df[training_data_len:]\n",
        "format = ticker.StrMethodFormatter('{x:,.0f}')\n",
        "title = 'Gold Price'\n",
        "ylabel = 'Prices (VND)'\n",
        "xlabel = 'Date'\n",
        "plt.figure(figsize=(21,5))\n",
        "plot = df['Prices'].plot(label=f\"Prices Data\",color='red')\n",
        "train_datal['prediction']=y_train_predict\n",
        "plot_pdtrain = train_datal['prediction'].plot(label=f\"Prediction train\", color='green')\n",
        "test_datal['prediction']=y_test_predict\n",
        "plot_pdtest = test_datal['prediction'].plot(label=f\"Prediction test\", color='blue')\n",
        "\n",
        "plot.autoscale(axis='x', tight=True)\n",
        "plot.set(xlabel=xlabel, ylabel=ylabel)\n",
        "plot.yaxis.set_major_formatter(format)\n",
        "plt.legend()\n",
        "plt.grid(True)\n",
        "plt.show()\n"
      ]
    },
    {
      "cell_type": "code",
      "execution_count": null,
      "metadata": {
        "id": "5UlC6CHAneEW"
      },
      "outputs": [],
      "source": [
        "#7-3\n",
        "# train_datal73=df[60:2606]\n",
        "# test_datal73=df[2606:]\n",
        "#2002-2022\n",
        "# train_datal73=df[30:3702]\n",
        "# test_datal73=df[3702:]\n",
        "\n",
        "# plt.figure(figsize=(17,5))\n",
        "# plt.plot(df,label='Prices Data',color='red')\n",
        "# train_datal73['prediction']=y_train_predict73\n",
        "# plt.plot(train_datal73['prediction'],label='Prediction train', color='green')\n",
        "# test_datal73['prediction']=y_test_predict73\n",
        "# plt.plot(test_datal73['prediction'],label='Prediction test', color='blue')\n",
        "\n",
        "# plt.title('Plot Gold Prices')\n",
        "# plt.xlabel('Year')\n",
        "# plt.ylabel('Prices (VND)')\n",
        "# plt.legend()\n",
        "# plt.show()"
      ]
    },
    {
      "cell_type": "code",
      "execution_count": null,
      "metadata": {
        "colab": {
          "base_uri": "https://localhost:8080/",
          "height": 551
        },
        "id": "T_w4bUh5rO-l",
        "outputId": "20f0eaed-835b-4cce-80b3-481f84e0a030"
      },
      "outputs": [
        {
          "output_type": "stream",
          "name": "stderr",
          "text": [
            "<ipython-input-44-0128eb88f5b2>:13: SettingWithCopyWarning: \n",
            "A value is trying to be set on a copy of a slice from a DataFrame.\n",
            "Try using .loc[row_indexer,col_indexer] = value instead\n",
            "\n",
            "See the caveats in the documentation: https://pandas.pydata.org/pandas-docs/stable/user_guide/indexing.html#returning-a-view-versus-a-copy\n",
            "  train_datal73['prediction']=y_train_predict73\n",
            "<ipython-input-44-0128eb88f5b2>:15: SettingWithCopyWarning: \n",
            "A value is trying to be set on a copy of a slice from a DataFrame.\n",
            "Try using .loc[row_indexer,col_indexer] = value instead\n",
            "\n",
            "See the caveats in the documentation: https://pandas.pydata.org/pandas-docs/stable/user_guide/indexing.html#returning-a-view-versus-a-copy\n",
            "  test_datal73['prediction']=y_test_predict73\n"
          ]
        },
        {
          "output_type": "display_data",
          "data": {
            "text/plain": [
              "<Figure size 1512x360 with 1 Axes>"
            ],
            "image/png": "[encoded data removed]"
          },
          "metadata": {
            "needs_background": "light"
          }
        }
      ],
      "source": [
        "# train_datal73=df[30:3702]\n",
        "# test_datal73=df[3702:]\n",
        "train_datal73=df[15:training_data_len73]\n",
        "test_datal73=df[training_data_len73:]\n",
        "\n",
        "\n",
        "format = ticker.StrMethodFormatter('{x:,.0f}')\n",
        "title = 'Gold Prices Train 7 - Test 3'\n",
        "ylabel = 'Prices (VND)'\n",
        "xlabel = 'Date'\n",
        "plt.figure(figsize=(21,5))\n",
        "plot = df['Prices'].plot(label=f\"Prices Data\",color='red')\n",
        "train_datal73['prediction']=y_train_predict73\n",
        "plot_pdtrain = train_datal73['prediction'].plot(label=f\"Prediction train\", color='green')\n",
        "test_datal73['prediction']=y_test_predict73\n",
        "plot_pdtest = test_datal73['prediction'].plot(label=f\"Prediction test\", color='blue')\n",
        "\n",
        "plot.autoscale(axis='x', tight=True)\n",
        "plot.set(xlabel=xlabel, ylabel=ylabel)\n",
        "plot.yaxis.set_major_formatter(format)\n",
        "plt.legend()\n",
        "plt.grid(True)\n",
        "plt.show()"
      ]
    },
    {
      "cell_type": "code",
      "execution_count": null,
      "metadata": {
        "id": "5p__gKwqusI1"
      },
      "outputs": [],
      "source": []
    },
    {
      "cell_type": "code",
      "execution_count": null,
      "metadata": {
        "id": "bZ1Ut-HIn0tl"
      },
      "outputs": [],
      "source": [
        "#9-1\n",
        "# train_datal91=df[60:3351]\n",
        "# test_datal91=df[3351:]\n",
        "#2002-2022\n",
        "# train_datal91=df[30:4760]\n",
        "# test_datal91=df[4760:]\n",
        "\n",
        "# plt.figure(figsize=(17,5))\n",
        "# plt.plot(df,label='Prices Data',color='red')\n",
        "# train_datal91['prediction']=y_train_predict91\n",
        "# plt.plot(train_datal91['prediction'],label='Prediction train', color='green')\n",
        "# test_datal91['prediction']=y_test_predict91\n",
        "# plt.plot(test_datal91['prediction'],label='Prediction test', color='blue')\n",
        "\n",
        "# plt.title('Plot Gold Prices')\n",
        "# plt.xlabel('Year')\n",
        "# plt.ylabel('Prices (VND)')\n",
        "# plt.legend()\n",
        "# plt.show()"
      ]
    },
    {
      "cell_type": "code",
      "execution_count": null,
      "metadata": {
        "colab": {
          "base_uri": "https://localhost:8080/",
          "height": 551
        },
        "id": "8CykxQvyrwQw",
        "outputId": "a621dfcd-4198-4992-e80e-49ef4d1c2bf7"
      },
      "outputs": [
        {
          "output_type": "stream",
          "name": "stderr",
          "text": [
            "<ipython-input-46-7951b05e3a43>:12: SettingWithCopyWarning: \n",
            "A value is trying to be set on a copy of a slice from a DataFrame.\n",
            "Try using .loc[row_indexer,col_indexer] = value instead\n",
            "\n",
            "See the caveats in the documentation: https://pandas.pydata.org/pandas-docs/stable/user_guide/indexing.html#returning-a-view-versus-a-copy\n",
            "  train_datal91['prediction']=y_train_predict91\n",
            "<ipython-input-46-7951b05e3a43>:14: SettingWithCopyWarning: \n",
            "A value is trying to be set on a copy of a slice from a DataFrame.\n",
            "Try using .loc[row_indexer,col_indexer] = value instead\n",
            "\n",
            "See the caveats in the documentation: https://pandas.pydata.org/pandas-docs/stable/user_guide/indexing.html#returning-a-view-versus-a-copy\n",
            "  test_datal91['prediction']=y_test_predict91\n"
          ]
        },
        {
          "output_type": "display_data",
          "data": {
            "text/plain": [
              "<Figure size 1512x360 with 1 Axes>"
            ],
            "image/png": "[encoded data removed]"
          },
          "metadata": {
            "needs_background": "light"
          }
        }
      ],
      "source": [
        "# train_datal91=df[30:4760]\n",
        "# test_datal91=df[4760:]\n",
        "train_datal91=df[15:training_data_len91]\n",
        "test_datal91=df[training_data_len91:]\n",
        "\n",
        "format = ticker.StrMethodFormatter('{x:,.0f}')\n",
        "title = 'Gold Prices'\n",
        "ylabel = 'Prices (VND)'\n",
        "xlabel = 'Date'\n",
        "plt.figure(figsize=(21,5))\n",
        "plot = df['Prices'].plot(label=f\"Prices Data\",color='red')\n",
        "train_datal91['prediction']=y_train_predict91\n",
        "plot_pdtrain = train_datal91['prediction'].plot(label=f\"Prediction train\", color='green')\n",
        "test_datal91['prediction']=y_test_predict91\n",
        "plot_pdtest = test_datal91['prediction'].plot(label=f\"Prediction test\", color='blue')\n",
        "\n",
        "plot.autoscale(axis='x', tight=True)\n",
        "plot.set(xlabel=xlabel, ylabel=ylabel)\n",
        "plot.yaxis.set_major_formatter(format)\n",
        "plt.legend()\n",
        "plt.grid(True)\n",
        "plt.show()"
      ]
    },
    {
      "cell_type": "markdown",
      "metadata": {
        "id": "75CtChMTCM4K"
      },
      "source": [
        "**PHÂN TÍCH DỮ LIỆU SAU KHI TRAIN MODEL VỚI TRAIN DATA**\n",
        "---\n",
        "---\n",
        "* Dữ liệu phần train và giá dự đoán phần train\n",
        "---"
      ]
    },
    {
      "cell_type": "code",
      "execution_count": null,
      "metadata": {
        "colab": {
          "base_uri": "https://localhost:8080/",
          "height": 455
        },
        "id": "R9gwGShXCOCo",
        "outputId": "5ec9bd69-da1a-44b9-f7ad-fa7efebe2ecf"
      },
      "outputs": [
        {
          "output_type": "execute_result",
          "data": {
            "text/plain": [
              "                 Prices  prediction\n",
              "Date                               \n",
              "2002-01-22   4261490.50   5498038.0\n",
              "2002-01-23   4241851.75   5495252.5\n",
              "2002-01-24   4219409.26   5490444.5\n",
              "2002-01-25   4218340.50   5483462.5\n",
              "2002-01-28   4219850.24   5475814.5\n",
              "...                 ...         ...\n",
              "2018-03-15  30024640.63  29288356.0\n",
              "2018-03-16  29823768.12  29280730.0\n",
              "2018-03-19  29879408.58  29250736.0\n",
              "2018-03-20  29857369.50  29211932.0\n",
              "2018-03-21  30092421.56  29174574.0\n",
              "\n",
              "[4217 rows x 2 columns]"
            ],
            "text/html": [
              "\n",
              "  <div id=\"df-a8a62de1-9238-4799-afbb-fb9fa71a1f1c\">\n",
              "    <div class=\"colab-df-container\">\n",
              "      <div>\n",
              "<style scoped>\n",
              "    .dataframe tbody tr th:only-of-type {\n",
              "        vertical-align: middle;\n",
              "    }\n",
              "\n",
              "    .dataframe tbody tr th {\n",
              "        vertical-align: top;\n",
              "    }\n",
              "\n",
              "    .dataframe thead th {\n",
              "        text-align: right;\n",
              "    }\n",
              "</style>\n",
              "<table border=\"1\" class=\"dataframe\">\n",
              "  <thead>\n",
              "    <tr style=\"text-align: right;\">\n",
              "      <th></th>\n",
              "      <th>Prices</th>\n",
              "      <th>prediction</th>\n",
              "    </tr>\n",
              "    <tr>\n",
              "      <th>Date</th>\n",
              "      <th></th>\n",
              "      <th></th>\n",
              "    </tr>\n",
              "  </thead>\n",
              "  <tbody>\n",
              "    <tr>\n",
              "      <th>2002-01-22</th>\n",
              "      <td>4261490.50</td>\n",
              "      <td>5498038.0</td>\n",
              "    </tr>\n",
              "    <tr>\n",
              "      <th>2002-01-23</th>\n",
              "      <td>4241851.75</td>\n",
              "      <td>5495252.5</td>\n",
              "    </tr>\n",
              "    <tr>\n",
              "      <th>2002-01-24</th>\n",
              "      <td>4219409.26</td>\n",
              "      <td>5490444.5</td>\n",
              "    </tr>\n",
              "    <tr>\n",
              "      <th>2002-01-25</th>\n",
              "      <td>4218340.50</td>\n",
              "      <td>5483462.5</td>\n",
              "    </tr>\n",
              "    <tr>\n",
              "      <th>2002-01-28</th>\n",
              "      <td>4219850.24</td>\n",
              "      <td>5475814.5</td>\n",
              "    </tr>\n",
              "    <tr>\n",
              "      <th>...</th>\n",
              "      <td>...</td>\n",
              "      <td>...</td>\n",
              "    </tr>\n",
              "    <tr>\n",
              "      <th>2018-03-15</th>\n",
              "      <td>30024640.63</td>\n",
              "      <td>29288356.0</td>\n",
              "    </tr>\n",
              "    <tr>\n",
              "      <th>2018-03-16</th>\n",
              "      <td>29823768.12</td>\n",
              "      <td>29280730.0</td>\n",
              "    </tr>\n",
              "    <tr>\n",
              "      <th>2018-03-19</th>\n",
              "      <td>29879408.58</td>\n",
              "      <td>29250736.0</td>\n",
              "    </tr>\n",
              "    <tr>\n",
              "      <th>2018-03-20</th>\n",
              "      <td>29857369.50</td>\n",
              "      <td>29211932.0</td>\n",
              "    </tr>\n",
              "    <tr>\n",
              "      <th>2018-03-21</th>\n",
              "      <td>30092421.56</td>\n",
              "      <td>29174574.0</td>\n",
              "    </tr>\n",
              "  </tbody>\n",
              "</table>\n",
              "<p>4217 rows × 2 columns</p>\n",
              "</div>\n",
              "      <button class=\"colab-df-convert\" onclick=\"convertToInteractive('df-a8a62de1-9238-4799-afbb-fb9fa71a1f1c')\"\n",
              "              title=\"Convert this dataframe to an interactive table.\"\n",
              "              style=\"display:none;\">\n",
              "        \n",
              "  <svg xmlns=\"http://www.w3.org/2000/svg\" height=\"24px\"viewBox=\"0 0 24 24\"\n",
              "       width=\"24px\">\n",
              "    <path d=\"M0 0h24v24H0V0z\" fill=\"none\"/>\n",
              "    <path d=\"M18.56 5.44l.94 2.06.94-2.06 2.06-.94-2.06-.94-.94-2.06-.94 2.06-2.06.94zm-11 1L8.5 8.5l.94-2.06 2.06-.94-2.06-.94L8.5 2.5l-.94 2.06-2.06.94zm10 10l.94 2.06.94-2.06 2.06-.94-2.06-.94-.94-2.06-.94 2.06-2.06.94z\"/><path d=\"M17.41 7.96l-1.37-1.37c-.4-.4-.92-.59-1.43-.59-.52 0-1.04.2-1.43.59L10.3 9.45l-7.72 7.72c-.78.78-.78 2.05 0 2.83L4 21.41c.39.39.9.59 1.41.59.51 0 1.02-.2 1.41-.59l7.78-7.78 2.81-2.81c.8-.78.8-2.07 0-2.86zM5.41 20L4 18.59l7.72-7.72 1.47 1.35L5.41 20z\"/>\n",
              "  </svg>\n",
              "      </button>\n",
              "      \n",
              "  <style>\n",
              "    .colab-df-container {\n",
              "      display:flex;\n",
              "      flex-wrap:wrap;\n",
              "      gap: 12px;\n",
              "    }\n",
              "\n",
              "    .colab-df-convert {\n",
              "      background-color: #E8F0FE;\n",
              "      border: none;\n",
              "      border-radius: 50%;\n",
              "      cursor: pointer;\n",
              "      display: none;\n",
              "      fill: #1967D2;\n",
              "      height: 32px;\n",
              "      padding: 0 0 0 0;\n",
              "      width: 32px;\n",
              "    }\n",
              "\n",
              "    .colab-df-convert:hover {\n",
              "      background-color: #E2EBFA;\n",
              "      box-shadow: 0px 1px 2px rgba(60, 64, 67, 0.3), 0px 1px 3px 1px rgba(60, 64, 67, 0.15);\n",
              "      fill: #174EA6;\n",
              "    }\n",
              "\n",
              "    [theme=dark] .colab-df-convert {\n",
              "      background-color: #3B4455;\n",
              "      fill: #D2E3FC;\n",
              "    }\n",
              "\n",
              "    [theme=dark] .colab-df-convert:hover {\n",
              "      background-color: #434B5C;\n",
              "      box-shadow: 0px 1px 3px 1px rgba(0, 0, 0, 0.15);\n",
              "      filter: drop-shadow(0px 1px 2px rgba(0, 0, 0, 0.3));\n",
              "      fill: #FFFFFF;\n",
              "    }\n",
              "  </style>\n",
              "\n",
              "      <script>\n",
              "        const buttonEl =\n",
              "          document.querySelector('#df-a8a62de1-9238-4799-afbb-fb9fa71a1f1c button.colab-df-convert');\n",
              "        buttonEl.style.display =\n",
              "          google.colab.kernel.accessAllowed ? 'block' : 'none';\n",
              "\n",
              "        async function convertToInteractive(key) {\n",
              "          const element = document.querySelector('#df-a8a62de1-9238-4799-afbb-fb9fa71a1f1c');\n",
              "          const dataTable =\n",
              "            await google.colab.kernel.invokeFunction('convertToInteractive',\n",
              "                                                     [key], {});\n",
              "          if (!dataTable) return;\n",
              "\n",
              "          const docLinkHtml = 'Like what you see? Visit the ' +\n",
              "            '<a target=\"_blank\" href=https://colab.research.google.com/notebooks/data_table.ipynb>data table notebook</a>'\n",
              "            + ' to learn more about interactive tables.';\n",
              "          element.innerHTML = '';\n",
              "          dataTable['output_type'] = 'display_data';\n",
              "          await google.colab.output.renderOutput(dataTable, element);\n",
              "          const docLink = document.createElement('div');\n",
              "          docLink.innerHTML = docLinkHtml;\n",
              "          element.appendChild(docLink);\n",
              "        }\n",
              "      </script>\n",
              "    </div>\n",
              "  </div>\n",
              "  "
            ]
          },
          "metadata": {},
          "execution_count": 47
        }
      ],
      "source": [
        "train_datal"
      ]
    },
    {
      "cell_type": "code",
      "execution_count": null,
      "metadata": {
        "colab": {
          "base_uri": "https://localhost:8080/"
        },
        "id": "4dodTgQHTcsE",
        "outputId": "4ea60c56-89bf-4eb8-990a-5f5560394ca4"
      },
      "outputs": [
        {
          "output_type": "stream",
          "name": "stdout",
          "text": [
            "R_square train:  0.9927978004967334\n",
            "MAE:  744148.4319397676\n",
            "MAPE: 6.33%\n",
            "MSE:  777357074512.7915\n",
            "RMSE:  881678.5550940839\n"
          ]
        }
      ],
      "source": [
        "#8-2 train data\n",
        "print('R_square train: ', r2_score(train_datal['Prices'],train_datal['prediction'])) #R-squared (R2)\n",
        "print('MAE: ',mean_absolute_error(train_datal['Prices'],train_datal['prediction'])) #Mean Absolute Error (MAE) đo độ lớn trung bình của các lỗi trong một tập hợp các dự đoán\n",
        "mape =  mean_absolute_percentage_error(train_datal['Prices'],train_datal['prediction']) #MAPE (Mean absolute percentage error) là phần trăm sai số trung bình tuyệt đối\n",
        "print(f\"MAPE: {mape * 100:.2f}%\")\n",
        "print('MSE: ',mean_squared_error(train_datal['Prices'],train_datal['prediction']))\n",
        "print('RMSE: ',np.sqrt(mean_squared_error(train_datal['Prices'],train_datal['prediction'])))"
      ]
    },
    {
      "cell_type": "code",
      "execution_count": null,
      "metadata": {
        "colab": {
          "base_uri": "https://localhost:8080/",
          "height": 455
        },
        "id": "J2yD6Kho4oW5",
        "outputId": "396d9f4f-02d3-441c-e420-70f38955f83e"
      },
      "outputs": [
        {
          "output_type": "execute_result",
          "data": {
            "text/plain": [
              "                 Prices  prediction\n",
              "Date                               \n",
              "2002-01-22   4261490.50   5367598.0\n",
              "2002-01-23   4241851.75   5364212.5\n",
              "2002-01-24   4219409.26   5358667.0\n",
              "2002-01-25   4218340.50   5350604.5\n",
              "2002-01-28   4219850.24   5342222.0\n",
              "...                 ...         ...\n",
              "2016-03-04  28472281.25  26565726.0\n",
              "2016-03-07  28267828.32  26677166.0\n",
              "2016-03-08  28254100.00  26801202.0\n",
              "2016-03-09  27791601.82  26904192.0\n",
              "2016-03-10  28216353.50  26938810.0\n",
              "\n",
              "[3688 rows x 2 columns]"
            ],
            "text/html": [
              "\n",
              "  <div id=\"df-430092cb-939e-4b2a-b988-ce018b038b32\">\n",
              "    <div class=\"colab-df-container\">\n",
              "      <div>\n",
              "<style scoped>\n",
              "    .dataframe tbody tr th:only-of-type {\n",
              "        vertical-align: middle;\n",
              "    }\n",
              "\n",
              "    .dataframe tbody tr th {\n",
              "        vertical-align: top;\n",
              "    }\n",
              "\n",
              "    .dataframe thead th {\n",
              "        text-align: right;\n",
              "    }\n",
              "</style>\n",
              "<table border=\"1\" class=\"dataframe\">\n",
              "  <thead>\n",
              "    <tr style=\"text-align: right;\">\n",
              "      <th></th>\n",
              "      <th>Prices</th>\n",
              "      <th>prediction</th>\n",
              "    </tr>\n",
              "    <tr>\n",
              "      <th>Date</th>\n",
              "      <th></th>\n",
              "      <th></th>\n",
              "    </tr>\n",
              "  </thead>\n",
              "  <tbody>\n",
              "    <tr>\n",
              "      <th>2002-01-22</th>\n",
              "      <td>4261490.50</td>\n",
              "      <td>5367598.0</td>\n",
              "    </tr>\n",
              "    <tr>\n",
              "      <th>2002-01-23</th>\n",
              "      <td>4241851.75</td>\n",
              "      <td>5364212.5</td>\n",
              "    </tr>\n",
              "    <tr>\n",
              "      <th>2002-01-24</th>\n",
              "      <td>4219409.26</td>\n",
              "      <td>5358667.0</td>\n",
              "    </tr>\n",
              "    <tr>\n",
              "      <th>2002-01-25</th>\n",
              "      <td>4218340.50</td>\n",
              "      <td>5350604.5</td>\n",
              "    </tr>\n",
              "    <tr>\n",
              "      <th>2002-01-28</th>\n",
              "      <td>4219850.24</td>\n",
              "      <td>5342222.0</td>\n",
              "    </tr>\n",
              "    <tr>\n",
              "      <th>...</th>\n",
              "      <td>...</td>\n",
              "      <td>...</td>\n",
              "    </tr>\n",
              "    <tr>\n",
              "      <th>2016-03-04</th>\n",
              "      <td>28472281.25</td>\n",
              "      <td>26565726.0</td>\n",
              "    </tr>\n",
              "    <tr>\n",
              "      <th>2016-03-07</th>\n",
              "      <td>28267828.32</td>\n",
              "      <td>26677166.0</td>\n",
              "    </tr>\n",
              "    <tr>\n",
              "      <th>2016-03-08</th>\n",
              "      <td>28254100.00</td>\n",
              "      <td>26801202.0</td>\n",
              "    </tr>\n",
              "    <tr>\n",
              "      <th>2016-03-09</th>\n",
              "      <td>27791601.82</td>\n",
              "      <td>26904192.0</td>\n",
              "    </tr>\n",
              "    <tr>\n",
              "      <th>2016-03-10</th>\n",
              "      <td>28216353.50</td>\n",
              "      <td>26938810.0</td>\n",
              "    </tr>\n",
              "  </tbody>\n",
              "</table>\n",
              "<p>3688 rows × 2 columns</p>\n",
              "</div>\n",
              "      <button class=\"colab-df-convert\" onclick=\"convertToInteractive('df-430092cb-939e-4b2a-b988-ce018b038b32')\"\n",
              "              title=\"Convert this dataframe to an interactive table.\"\n",
              "              style=\"display:none;\">\n",
              "        \n",
              "  <svg xmlns=\"http://www.w3.org/2000/svg\" height=\"24px\"viewBox=\"0 0 24 24\"\n",
              "       width=\"24px\">\n",
              "    <path d=\"M0 0h24v24H0V0z\" fill=\"none\"/>\n",
              "    <path d=\"M18.56 5.44l.94 2.06.94-2.06 2.06-.94-2.06-.94-.94-2.06-.94 2.06-2.06.94zm-11 1L8.5 8.5l.94-2.06 2.06-.94-2.06-.94L8.5 2.5l-.94 2.06-2.06.94zm10 10l.94 2.06.94-2.06 2.06-.94-2.06-.94-.94-2.06-.94 2.06-2.06.94z\"/><path d=\"M17.41 7.96l-1.37-1.37c-.4-.4-.92-.59-1.43-.59-.52 0-1.04.2-1.43.59L10.3 9.45l-7.72 7.72c-.78.78-.78 2.05 0 2.83L4 21.41c.39.39.9.59 1.41.59.51 0 1.02-.2 1.41-.59l7.78-7.78 2.81-2.81c.8-.78.8-2.07 0-2.86zM5.41 20L4 18.59l7.72-7.72 1.47 1.35L5.41 20z\"/>\n",
              "  </svg>\n",
              "      </button>\n",
              "      \n",
              "  <style>\n",
              "    .colab-df-container {\n",
              "      display:flex;\n",
              "      flex-wrap:wrap;\n",
              "      gap: 12px;\n",
              "    }\n",
              "\n",
              "    .colab-df-convert {\n",
              "      background-color: #E8F0FE;\n",
              "      border: none;\n",
              "      border-radius: 50%;\n",
              "      cursor: pointer;\n",
              "      display: none;\n",
              "      fill: #1967D2;\n",
              "      height: 32px;\n",
              "      padding: 0 0 0 0;\n",
              "      width: 32px;\n",
              "    }\n",
              "\n",
              "    .colab-df-convert:hover {\n",
              "      background-color: #E2EBFA;\n",
              "      box-shadow: 0px 1px 2px rgba(60, 64, 67, 0.3), 0px 1px 3px 1px rgba(60, 64, 67, 0.15);\n",
              "      fill: #174EA6;\n",
              "    }\n",
              "\n",
              "    [theme=dark] .colab-df-convert {\n",
              "      background-color: #3B4455;\n",
              "      fill: #D2E3FC;\n",
              "    }\n",
              "\n",
              "    [theme=dark] .colab-df-convert:hover {\n",
              "      background-color: #434B5C;\n",
              "      box-shadow: 0px 1px 3px 1px rgba(0, 0, 0, 0.15);\n",
              "      filter: drop-shadow(0px 1px 2px rgba(0, 0, 0, 0.3));\n",
              "      fill: #FFFFFF;\n",
              "    }\n",
              "  </style>\n",
              "\n",
              "      <script>\n",
              "        const buttonEl =\n",
              "          document.querySelector('#df-430092cb-939e-4b2a-b988-ce018b038b32 button.colab-df-convert');\n",
              "        buttonEl.style.display =\n",
              "          google.colab.kernel.accessAllowed ? 'block' : 'none';\n",
              "\n",
              "        async function convertToInteractive(key) {\n",
              "          const element = document.querySelector('#df-430092cb-939e-4b2a-b988-ce018b038b32');\n",
              "          const dataTable =\n",
              "            await google.colab.kernel.invokeFunction('convertToInteractive',\n",
              "                                                     [key], {});\n",
              "          if (!dataTable) return;\n",
              "\n",
              "          const docLinkHtml = 'Like what you see? Visit the ' +\n",
              "            '<a target=\"_blank\" href=https://colab.research.google.com/notebooks/data_table.ipynb>data table notebook</a>'\n",
              "            + ' to learn more about interactive tables.';\n",
              "          element.innerHTML = '';\n",
              "          dataTable['output_type'] = 'display_data';\n",
              "          await google.colab.output.renderOutput(dataTable, element);\n",
              "          const docLink = document.createElement('div');\n",
              "          docLink.innerHTML = docLinkHtml;\n",
              "          element.appendChild(docLink);\n",
              "        }\n",
              "      </script>\n",
              "    </div>\n",
              "  </div>\n",
              "  "
            ]
          },
          "metadata": {},
          "execution_count": 49
        }
      ],
      "source": [
        "train_datal73"
      ]
    },
    {
      "cell_type": "code",
      "execution_count": null,
      "metadata": {
        "colab": {
          "base_uri": "https://localhost:8080/"
        },
        "id": "xaA5eHXRoLIg",
        "outputId": "dfe50cda-11ae-4dbb-8221-ffdb1c90dceb"
      },
      "outputs": [
        {
          "output_type": "stream",
          "name": "stdout",
          "text": [
            "R_square train:  0.9894235060489399\n",
            "MAE:  872293.174563449\n",
            "MAPE: 6.65%\n",
            "MSE:  1151411740391.0977\n",
            "RMSE:  1073038.5549415722\n"
          ]
        }
      ],
      "source": [
        "#7-3 train data\n",
        "print('R_square train: ', r2_score(train_datal73['Prices'],train_datal73['prediction']))\n",
        "print('MAE: ',mean_absolute_error(train_datal73['Prices'],train_datal73['prediction']))\n",
        "mape73 = mean_absolute_percentage_error(train_datal73['Prices'],train_datal73['prediction'])\n",
        "print(f\"MAPE: {mape73 * 100:.2f}%\")\n",
        "print('MSE: ',mean_squared_error(train_datal73['Prices'],train_datal73['prediction']))\n",
        "print('RMSE: ',np.sqrt(mean_squared_error(train_datal73['Prices'],train_datal73['prediction'])))\n",
        "\n"
      ]
    },
    {
      "cell_type": "code",
      "execution_count": null,
      "metadata": {
        "colab": {
          "base_uri": "https://localhost:8080/",
          "height": 455
        },
        "id": "eNkXfL2c4pVZ",
        "outputId": "b621b572-9b11-44c6-a0e6-cdd4ac4c483e"
      },
      "outputs": [
        {
          "output_type": "execute_result",
          "data": {
            "text/plain": [
              "                 Prices  prediction\n",
              "Date                               \n",
              "2002-01-22   4261490.50   7775206.0\n",
              "2002-01-23   4241851.75   7773819.5\n",
              "2002-01-24   4219409.26   7770845.0\n",
              "2002-01-25   4218340.50   7766084.0\n",
              "2002-01-28   4219850.24   7760320.5\n",
              "...                 ...         ...\n",
              "2020-03-25  37896646.10  34871840.0\n",
              "2020-03-26  38635229.55  35432284.0\n",
              "2020-03-27  38204670.40  35994708.0\n",
              "2020-03-30  38244475.90  36375772.0\n",
              "2020-03-31  37998571.00  36577472.0\n",
              "\n",
              "[4746 rows x 2 columns]"
            ],
            "text/html": [
              "\n",
              "  <div id=\"df-c1bcfac5-b4d0-4cfa-aaeb-725026d7e90c\">\n",
              "    <div class=\"colab-df-container\">\n",
              "      <div>\n",
              "<style scoped>\n",
              "    .dataframe tbody tr th:only-of-type {\n",
              "        vertical-align: middle;\n",
              "    }\n",
              "\n",
              "    .dataframe tbody tr th {\n",
              "        vertical-align: top;\n",
              "    }\n",
              "\n",
              "    .dataframe thead th {\n",
              "        text-align: right;\n",
              "    }\n",
              "</style>\n",
              "<table border=\"1\" class=\"dataframe\">\n",
              "  <thead>\n",
              "    <tr style=\"text-align: right;\">\n",
              "      <th></th>\n",
              "      <th>Prices</th>\n",
              "      <th>prediction</th>\n",
              "    </tr>\n",
              "    <tr>\n",
              "      <th>Date</th>\n",
              "      <th></th>\n",
              "      <th></th>\n",
              "    </tr>\n",
              "  </thead>\n",
              "  <tbody>\n",
              "    <tr>\n",
              "      <th>2002-01-22</th>\n",
              "      <td>4261490.50</td>\n",
              "      <td>7775206.0</td>\n",
              "    </tr>\n",
              "    <tr>\n",
              "      <th>2002-01-23</th>\n",
              "      <td>4241851.75</td>\n",
              "      <td>7773819.5</td>\n",
              "    </tr>\n",
              "    <tr>\n",
              "      <th>2002-01-24</th>\n",
              "      <td>4219409.26</td>\n",
              "      <td>7770845.0</td>\n",
              "    </tr>\n",
              "    <tr>\n",
              "      <th>2002-01-25</th>\n",
              "      <td>4218340.50</td>\n",
              "      <td>7766084.0</td>\n",
              "    </tr>\n",
              "    <tr>\n",
              "      <th>2002-01-28</th>\n",
              "      <td>4219850.24</td>\n",
              "      <td>7760320.5</td>\n",
              "    </tr>\n",
              "    <tr>\n",
              "      <th>...</th>\n",
              "      <td>...</td>\n",
              "      <td>...</td>\n",
              "    </tr>\n",
              "    <tr>\n",
              "      <th>2020-03-25</th>\n",
              "      <td>37896646.10</td>\n",
              "      <td>34871840.0</td>\n",
              "    </tr>\n",
              "    <tr>\n",
              "      <th>2020-03-26</th>\n",
              "      <td>38635229.55</td>\n",
              "      <td>35432284.0</td>\n",
              "    </tr>\n",
              "    <tr>\n",
              "      <th>2020-03-27</th>\n",
              "      <td>38204670.40</td>\n",
              "      <td>35994708.0</td>\n",
              "    </tr>\n",
              "    <tr>\n",
              "      <th>2020-03-30</th>\n",
              "      <td>38244475.90</td>\n",
              "      <td>36375772.0</td>\n",
              "    </tr>\n",
              "    <tr>\n",
              "      <th>2020-03-31</th>\n",
              "      <td>37998571.00</td>\n",
              "      <td>36577472.0</td>\n",
              "    </tr>\n",
              "  </tbody>\n",
              "</table>\n",
              "<p>4746 rows × 2 columns</p>\n",
              "</div>\n",
              "      <button class=\"colab-df-convert\" onclick=\"convertToInteractive('df-c1bcfac5-b4d0-4cfa-aaeb-725026d7e90c')\"\n",
              "              title=\"Convert this dataframe to an interactive table.\"\n",
              "              style=\"display:none;\">\n",
              "        \n",
              "  <svg xmlns=\"http://www.w3.org/2000/svg\" height=\"24px\"viewBox=\"0 0 24 24\"\n",
              "       width=\"24px\">\n",
              "    <path d=\"M0 0h24v24H0V0z\" fill=\"none\"/>\n",
              "    <path d=\"M18.56 5.44l.94 2.06.94-2.06 2.06-.94-2.06-.94-.94-2.06-.94 2.06-2.06.94zm-11 1L8.5 8.5l.94-2.06 2.06-.94-2.06-.94L8.5 2.5l-.94 2.06-2.06.94zm10 10l.94 2.06.94-2.06 2.06-.94-2.06-.94-.94-2.06-.94 2.06-2.06.94z\"/><path d=\"M17.41 7.96l-1.37-1.37c-.4-.4-.92-.59-1.43-.59-.52 0-1.04.2-1.43.59L10.3 9.45l-7.72 7.72c-.78.78-.78 2.05 0 2.83L4 21.41c.39.39.9.59 1.41.59.51 0 1.02-.2 1.41-.59l7.78-7.78 2.81-2.81c.8-.78.8-2.07 0-2.86zM5.41 20L4 18.59l7.72-7.72 1.47 1.35L5.41 20z\"/>\n",
              "  </svg>\n",
              "      </button>\n",
              "      \n",
              "  <style>\n",
              "    .colab-df-container {\n",
              "      display:flex;\n",
              "      flex-wrap:wrap;\n",
              "      gap: 12px;\n",
              "    }\n",
              "\n",
              "    .colab-df-convert {\n",
              "      background-color: #E8F0FE;\n",
              "      border: none;\n",
              "      border-radius: 50%;\n",
              "      cursor: pointer;\n",
              "      display: none;\n",
              "      fill: #1967D2;\n",
              "      height: 32px;\n",
              "      padding: 0 0 0 0;\n",
              "      width: 32px;\n",
              "    }\n",
              "\n",
              "    .colab-df-convert:hover {\n",
              "      background-color: #E2EBFA;\n",
              "      box-shadow: 0px 1px 2px rgba(60, 64, 67, 0.3), 0px 1px 3px 1px rgba(60, 64, 67, 0.15);\n",
              "      fill: #174EA6;\n",
              "    }\n",
              "\n",
              "    [theme=dark] .colab-df-convert {\n",
              "      background-color: #3B4455;\n",
              "      fill: #D2E3FC;\n",
              "    }\n",
              "\n",
              "    [theme=dark] .colab-df-convert:hover {\n",
              "      background-color: #434B5C;\n",
              "      box-shadow: 0px 1px 3px 1px rgba(0, 0, 0, 0.15);\n",
              "      filter: drop-shadow(0px 1px 2px rgba(0, 0, 0, 0.3));\n",
              "      fill: #FFFFFF;\n",
              "    }\n",
              "  </style>\n",
              "\n",
              "      <script>\n",
              "        const buttonEl =\n",
              "          document.querySelector('#df-c1bcfac5-b4d0-4cfa-aaeb-725026d7e90c button.colab-df-convert');\n",
              "        buttonEl.style.display =\n",
              "          google.colab.kernel.accessAllowed ? 'block' : 'none';\n",
              "\n",
              "        async function convertToInteractive(key) {\n",
              "          const element = document.querySelector('#df-c1bcfac5-b4d0-4cfa-aaeb-725026d7e90c');\n",
              "          const dataTable =\n",
              "            await google.colab.kernel.invokeFunction('convertToInteractive',\n",
              "                                                     [key], {});\n",
              "          if (!dataTable) return;\n",
              "\n",
              "          const docLinkHtml = 'Like what you see? Visit the ' +\n",
              "            '<a target=\"_blank\" href=https://colab.research.google.com/notebooks/data_table.ipynb>data table notebook</a>'\n",
              "            + ' to learn more about interactive tables.';\n",
              "          element.innerHTML = '';\n",
              "          dataTable['output_type'] = 'display_data';\n",
              "          await google.colab.output.renderOutput(dataTable, element);\n",
              "          const docLink = document.createElement('div');\n",
              "          docLink.innerHTML = docLinkHtml;\n",
              "          element.appendChild(docLink);\n",
              "        }\n",
              "      </script>\n",
              "    </div>\n",
              "  </div>\n",
              "  "
            ]
          },
          "metadata": {},
          "execution_count": 51
        }
      ],
      "source": [
        "train_datal91"
      ]
    },
    {
      "cell_type": "code",
      "execution_count": null,
      "metadata": {
        "colab": {
          "base_uri": "https://localhost:8080/"
        },
        "id": "ukBvv7Ikod9M",
        "outputId": "702f53af-dbfa-4c38-8cf2-1213908d9f16"
      },
      "outputs": [
        {
          "output_type": "stream",
          "name": "stdout",
          "text": [
            "MAPE: 15.69%\n",
            "RMSE:  1736855.484679992\n"
          ]
        }
      ],
      "source": [
        "#9-1 train data\n",
        "# print('R_square train: ', r2_score(train_datal91['Prices'],train_datal91['prediction']))\n",
        "# print('MAE: ',mean_absolute_error(train_datal91['Prices'],train_datal91['prediction']))\n",
        "mape91 = mean_absolute_percentage_error(train_datal91['Prices'],train_datal91['prediction'])\n",
        "print(f\"MAPE: {mape91 * 100:.2f}%\")\n",
        "# print('MSE: ',mean_squared_error(train_datal91['Prices'],train_datal91['prediction']))\n",
        "print('RMSE: ',np.sqrt(mean_squared_error(train_datal91['Prices'],train_datal91['prediction'])))"
      ]
    },
    {
      "cell_type": "markdown",
      "metadata": {
        "id": "uzPKZckgB-Fi"
      },
      "source": [
        "**PHÂN TÍCH DỮ LIỆU SAU KHI TRAIN MODEL VỚI TEST DATA**\n",
        "---\n",
        "---\n",
        "* Dữ liệu phần test và giá dự đoán phần test\n",
        "---"
      ]
    },
    {
      "cell_type": "code",
      "execution_count": null,
      "metadata": {
        "colab": {
          "base_uri": "https://localhost:8080/",
          "height": 455
        },
        "id": "v4yWybPPB7Na",
        "outputId": "1929f92a-74cc-4342-d548-eb7e53dffd88"
      },
      "outputs": [
        {
          "output_type": "execute_result",
          "data": {
            "text/plain": [
              "                 Prices  prediction\n",
              "Date                               \n",
              "2018-03-22  30297972.02  29167086.0\n",
              "2018-03-23  30706516.46  29203758.0\n",
              "2018-03-26  30849594.17  29300968.0\n",
              "2018-03-27  30605851.36  29439882.0\n",
              "2018-03-28  30405175.44  29556280.0\n",
              "...                 ...         ...\n",
              "2022-04-04  44102530.37  41033744.0\n",
              "2022-04-05  44470144.87  41015396.0\n",
              "2022-04-06  44137702.89  41039464.0\n",
              "2022-04-07  44176594.17  41057120.0\n",
              "2022-04-08  44384284.57  41059368.0\n",
              "\n",
              "[1057 rows x 2 columns]"
            ],
            "text/html": [
              "\n",
              "  <div id=\"df-a6c8f823-83e2-4223-8ab6-b6908add0745\">\n",
              "    <div class=\"colab-df-container\">\n",
              "      <div>\n",
              "<style scoped>\n",
              "    .dataframe tbody tr th:only-of-type {\n",
              "        vertical-align: middle;\n",
              "    }\n",
              "\n",
              "    .dataframe tbody tr th {\n",
              "        vertical-align: top;\n",
              "    }\n",
              "\n",
              "    .dataframe thead th {\n",
              "        text-align: right;\n",
              "    }\n",
              "</style>\n",
              "<table border=\"1\" class=\"dataframe\">\n",
              "  <thead>\n",
              "    <tr style=\"text-align: right;\">\n",
              "      <th></th>\n",
              "      <th>Prices</th>\n",
              "      <th>prediction</th>\n",
              "    </tr>\n",
              "    <tr>\n",
              "      <th>Date</th>\n",
              "      <th></th>\n",
              "      <th></th>\n",
              "    </tr>\n",
              "  </thead>\n",
              "  <tbody>\n",
              "    <tr>\n",
              "      <th>2018-03-22</th>\n",
              "      <td>30297972.02</td>\n",
              "      <td>29167086.0</td>\n",
              "    </tr>\n",
              "    <tr>\n",
              "      <th>2018-03-23</th>\n",
              "      <td>30706516.46</td>\n",
              "      <td>29203758.0</td>\n",
              "    </tr>\n",
              "    <tr>\n",
              "      <th>2018-03-26</th>\n",
              "      <td>30849594.17</td>\n",
              "      <td>29300968.0</td>\n",
              "    </tr>\n",
              "    <tr>\n",
              "      <th>2018-03-27</th>\n",
              "      <td>30605851.36</td>\n",
              "      <td>29439882.0</td>\n",
              "    </tr>\n",
              "    <tr>\n",
              "      <th>2018-03-28</th>\n",
              "      <td>30405175.44</td>\n",
              "      <td>29556280.0</td>\n",
              "    </tr>\n",
              "    <tr>\n",
              "      <th>...</th>\n",
              "      <td>...</td>\n",
              "      <td>...</td>\n",
              "    </tr>\n",
              "    <tr>\n",
              "      <th>2022-04-04</th>\n",
              "      <td>44102530.37</td>\n",
              "      <td>41033744.0</td>\n",
              "    </tr>\n",
              "    <tr>\n",
              "      <th>2022-04-05</th>\n",
              "      <td>44470144.87</td>\n",
              "      <td>41015396.0</td>\n",
              "    </tr>\n",
              "    <tr>\n",
              "      <th>2022-04-06</th>\n",
              "      <td>44137702.89</td>\n",
              "      <td>41039464.0</td>\n",
              "    </tr>\n",
              "    <tr>\n",
              "      <th>2022-04-07</th>\n",
              "      <td>44176594.17</td>\n",
              "      <td>41057120.0</td>\n",
              "    </tr>\n",
              "    <tr>\n",
              "      <th>2022-04-08</th>\n",
              "      <td>44384284.57</td>\n",
              "      <td>41059368.0</td>\n",
              "    </tr>\n",
              "  </tbody>\n",
              "</table>\n",
              "<p>1057 rows × 2 columns</p>\n",
              "</div>\n",
              "      <button class=\"colab-df-convert\" onclick=\"convertToInteractive('df-a6c8f823-83e2-4223-8ab6-b6908add0745')\"\n",
              "              title=\"Convert this dataframe to an interactive table.\"\n",
              "              style=\"display:none;\">\n",
              "        \n",
              "  <svg xmlns=\"http://www.w3.org/2000/svg\" height=\"24px\"viewBox=\"0 0 24 24\"\n",
              "       width=\"24px\">\n",
              "    <path d=\"M0 0h24v24H0V0z\" fill=\"none\"/>\n",
              "    <path d=\"M18.56 5.44l.94 2.06.94-2.06 2.06-.94-2.06-.94-.94-2.06-.94 2.06-2.06.94zm-11 1L8.5 8.5l.94-2.06 2.06-.94-2.06-.94L8.5 2.5l-.94 2.06-2.06.94zm10 10l.94 2.06.94-2.06 2.06-.94-2.06-.94-.94-2.06-.94 2.06-2.06.94z\"/><path d=\"M17.41 7.96l-1.37-1.37c-.4-.4-.92-.59-1.43-.59-.52 0-1.04.2-1.43.59L10.3 9.45l-7.72 7.72c-.78.78-.78 2.05 0 2.83L4 21.41c.39.39.9.59 1.41.59.51 0 1.02-.2 1.41-.59l7.78-7.78 2.81-2.81c.8-.78.8-2.07 0-2.86zM5.41 20L4 18.59l7.72-7.72 1.47 1.35L5.41 20z\"/>\n",
              "  </svg>\n",
              "      </button>\n",
              "      \n",
              "  <style>\n",
              "    .colab-df-container {\n",
              "      display:flex;\n",
              "      flex-wrap:wrap;\n",
              "      gap: 12px;\n",
              "    }\n",
              "\n",
              "    .colab-df-convert {\n",
              "      background-color: #E8F0FE;\n",
              "      border: none;\n",
              "      border-radius: 50%;\n",
              "      cursor: pointer;\n",
              "      display: none;\n",
              "      fill: #1967D2;\n",
              "      height: 32px;\n",
              "      padding: 0 0 0 0;\n",
              "      width: 32px;\n",
              "    }\n",
              "\n",
              "    .colab-df-convert:hover {\n",
              "      background-color: #E2EBFA;\n",
              "      box-shadow: 0px 1px 2px rgba(60, 64, 67, 0.3), 0px 1px 3px 1px rgba(60, 64, 67, 0.15);\n",
              "      fill: #174EA6;\n",
              "    }\n",
              "\n",
              "    [theme=dark] .colab-df-convert {\n",
              "      background-color: #3B4455;\n",
              "      fill: #D2E3FC;\n",
              "    }\n",
              "\n",
              "    [theme=dark] .colab-df-convert:hover {\n",
              "      background-color: #434B5C;\n",
              "      box-shadow: 0px 1px 3px 1px rgba(0, 0, 0, 0.15);\n",
              "      filter: drop-shadow(0px 1px 2px rgba(0, 0, 0, 0.3));\n",
              "      fill: #FFFFFF;\n",
              "    }\n",
              "  </style>\n",
              "\n",
              "      <script>\n",
              "        const buttonEl =\n",
              "          document.querySelector('#df-a6c8f823-83e2-4223-8ab6-b6908add0745 button.colab-df-convert');\n",
              "        buttonEl.style.display =\n",
              "          google.colab.kernel.accessAllowed ? 'block' : 'none';\n",
              "\n",
              "        async function convertToInteractive(key) {\n",
              "          const element = document.querySelector('#df-a6c8f823-83e2-4223-8ab6-b6908add0745');\n",
              "          const dataTable =\n",
              "            await google.colab.kernel.invokeFunction('convertToInteractive',\n",
              "                                                     [key], {});\n",
              "          if (!dataTable) return;\n",
              "\n",
              "          const docLinkHtml = 'Like what you see? Visit the ' +\n",
              "            '<a target=\"_blank\" href=https://colab.research.google.com/notebooks/data_table.ipynb>data table notebook</a>'\n",
              "            + ' to learn more about interactive tables.';\n",
              "          element.innerHTML = '';\n",
              "          dataTable['output_type'] = 'display_data';\n",
              "          await google.colab.output.renderOutput(dataTable, element);\n",
              "          const docLink = document.createElement('div');\n",
              "          docLink.innerHTML = docLinkHtml;\n",
              "          element.appendChild(docLink);\n",
              "        }\n",
              "      </script>\n",
              "    </div>\n",
              "  </div>\n",
              "  "
            ]
          },
          "metadata": {},
          "execution_count": 53
        }
      ],
      "source": [
        "test_datal"
      ]
    },
    {
      "cell_type": "code",
      "execution_count": null,
      "metadata": {
        "colab": {
          "base_uri": "https://localhost:8080/"
        },
        "id": "FXnwZ-TYU1o2",
        "outputId": "2b53f23e-7903-4c61-f30a-48e7395b76c4"
      },
      "outputs": [
        {
          "output_type": "stream",
          "name": "stdout",
          "text": [
            "MAPE: 4.83%\n",
            "RMSE:  2149828.17438557\n"
          ]
        }
      ],
      "source": [
        "#8-2 test data\n",
        "mape_t82 = mean_absolute_percentage_error(test_datal['Prices'],test_datal['prediction'])\n",
        "print(f\"MAPE: {mape_t82 * 100:.2f}%\")\n",
        "print('RMSE: ',np.sqrt(mean_squared_error(test_datal['Prices'],test_datal['prediction'])))"
      ]
    },
    {
      "cell_type": "code",
      "execution_count": null,
      "metadata": {
        "colab": {
          "base_uri": "https://localhost:8080/",
          "height": 455
        },
        "id": "1spBSJIJrX9M",
        "outputId": "0dfde6bf-09e7-4da2-d49d-c2a6405d1426"
      },
      "outputs": [
        {
          "output_type": "execute_result",
          "data": {
            "text/plain": [
              "                 Prices  prediction\n",
              "Date                               \n",
              "2016-03-11  28187483.25  26967356.0\n",
              "2016-03-14  27707111.25  26996702.0\n",
              "2016-03-15  27457584.00  26985362.0\n",
              "2016-03-16  27389407.50  26921162.0\n",
              "2016-03-17  28220786.25  26827656.0\n",
              "...                 ...         ...\n",
              "2022-04-04  44102530.37  39973836.0\n",
              "2022-04-05  44470144.87  39958364.0\n",
              "2022-04-06  44137702.89  39970640.0\n",
              "2022-04-07  44176594.17  39980868.0\n",
              "2022-04-08  44384284.57  39977812.0\n",
              "\n",
              "[1586 rows x 2 columns]"
            ],
            "text/html": [
              "\n",
              "  <div id=\"df-6e460c9e-a3b3-4952-9d86-329f4cc048c5\">\n",
              "    <div class=\"colab-df-container\">\n",
              "      <div>\n",
              "<style scoped>\n",
              "    .dataframe tbody tr th:only-of-type {\n",
              "        vertical-align: middle;\n",
              "    }\n",
              "\n",
              "    .dataframe tbody tr th {\n",
              "        vertical-align: top;\n",
              "    }\n",
              "\n",
              "    .dataframe thead th {\n",
              "        text-align: right;\n",
              "    }\n",
              "</style>\n",
              "<table border=\"1\" class=\"dataframe\">\n",
              "  <thead>\n",
              "    <tr style=\"text-align: right;\">\n",
              "      <th></th>\n",
              "      <th>Prices</th>\n",
              "      <th>prediction</th>\n",
              "    </tr>\n",
              "    <tr>\n",
              "      <th>Date</th>\n",
              "      <th></th>\n",
              "      <th></th>\n",
              "    </tr>\n",
              "  </thead>\n",
              "  <tbody>\n",
              "    <tr>\n",
              "      <th>2016-03-11</th>\n",
              "      <td>28187483.25</td>\n",
              "      <td>26967356.0</td>\n",
              "    </tr>\n",
              "    <tr>\n",
              "      <th>2016-03-14</th>\n",
              "      <td>27707111.25</td>\n",
              "      <td>26996702.0</td>\n",
              "    </tr>\n",
              "    <tr>\n",
              "      <th>2016-03-15</th>\n",
              "      <td>27457584.00</td>\n",
              "      <td>26985362.0</td>\n",
              "    </tr>\n",
              "    <tr>\n",
              "      <th>2016-03-16</th>\n",
              "      <td>27389407.50</td>\n",
              "      <td>26921162.0</td>\n",
              "    </tr>\n",
              "    <tr>\n",
              "      <th>2016-03-17</th>\n",
              "      <td>28220786.25</td>\n",
              "      <td>26827656.0</td>\n",
              "    </tr>\n",
              "    <tr>\n",
              "      <th>...</th>\n",
              "      <td>...</td>\n",
              "      <td>...</td>\n",
              "    </tr>\n",
              "    <tr>\n",
              "      <th>2022-04-04</th>\n",
              "      <td>44102530.37</td>\n",
              "      <td>39973836.0</td>\n",
              "    </tr>\n",
              "    <tr>\n",
              "      <th>2022-04-05</th>\n",
              "      <td>44470144.87</td>\n",
              "      <td>39958364.0</td>\n",
              "    </tr>\n",
              "    <tr>\n",
              "      <th>2022-04-06</th>\n",
              "      <td>44137702.89</td>\n",
              "      <td>39970640.0</td>\n",
              "    </tr>\n",
              "    <tr>\n",
              "      <th>2022-04-07</th>\n",
              "      <td>44176594.17</td>\n",
              "      <td>39980868.0</td>\n",
              "    </tr>\n",
              "    <tr>\n",
              "      <th>2022-04-08</th>\n",
              "      <td>44384284.57</td>\n",
              "      <td>39977812.0</td>\n",
              "    </tr>\n",
              "  </tbody>\n",
              "</table>\n",
              "<p>1586 rows × 2 columns</p>\n",
              "</div>\n",
              "      <button class=\"colab-df-convert\" onclick=\"convertToInteractive('df-6e460c9e-a3b3-4952-9d86-329f4cc048c5')\"\n",
              "              title=\"Convert this dataframe to an interactive table.\"\n",
              "              style=\"display:none;\">\n",
              "        \n",
              "  <svg xmlns=\"http://www.w3.org/2000/svg\" height=\"24px\"viewBox=\"0 0 24 24\"\n",
              "       width=\"24px\">\n",
              "    <path d=\"M0 0h24v24H0V0z\" fill=\"none\"/>\n",
              "    <path d=\"M18.56 5.44l.94 2.06.94-2.06 2.06-.94-2.06-.94-.94-2.06-.94 2.06-2.06.94zm-11 1L8.5 8.5l.94-2.06 2.06-.94-2.06-.94L8.5 2.5l-.94 2.06-2.06.94zm10 10l.94 2.06.94-2.06 2.06-.94-2.06-.94-.94-2.06-.94 2.06-2.06.94z\"/><path d=\"M17.41 7.96l-1.37-1.37c-.4-.4-.92-.59-1.43-.59-.52 0-1.04.2-1.43.59L10.3 9.45l-7.72 7.72c-.78.78-.78 2.05 0 2.83L4 21.41c.39.39.9.59 1.41.59.51 0 1.02-.2 1.41-.59l7.78-7.78 2.81-2.81c.8-.78.8-2.07 0-2.86zM5.41 20L4 18.59l7.72-7.72 1.47 1.35L5.41 20z\"/>\n",
              "  </svg>\n",
              "      </button>\n",
              "      \n",
              "  <style>\n",
              "    .colab-df-container {\n",
              "      display:flex;\n",
              "      flex-wrap:wrap;\n",
              "      gap: 12px;\n",
              "    }\n",
              "\n",
              "    .colab-df-convert {\n",
              "      background-color: #E8F0FE;\n",
              "      border: none;\n",
              "      border-radius: 50%;\n",
              "      cursor: pointer;\n",
              "      display: none;\n",
              "      fill: #1967D2;\n",
              "      height: 32px;\n",
              "      padding: 0 0 0 0;\n",
              "      width: 32px;\n",
              "    }\n",
              "\n",
              "    .colab-df-convert:hover {\n",
              "      background-color: #E2EBFA;\n",
              "      box-shadow: 0px 1px 2px rgba(60, 64, 67, 0.3), 0px 1px 3px 1px rgba(60, 64, 67, 0.15);\n",
              "      fill: #174EA6;\n",
              "    }\n",
              "\n",
              "    [theme=dark] .colab-df-convert {\n",
              "      background-color: #3B4455;\n",
              "      fill: #D2E3FC;\n",
              "    }\n",
              "\n",
              "    [theme=dark] .colab-df-convert:hover {\n",
              "      background-color: #434B5C;\n",
              "      box-shadow: 0px 1px 3px 1px rgba(0, 0, 0, 0.15);\n",
              "      filter: drop-shadow(0px 1px 2px rgba(0, 0, 0, 0.3));\n",
              "      fill: #FFFFFF;\n",
              "    }\n",
              "  </style>\n",
              "\n",
              "      <script>\n",
              "        const buttonEl =\n",
              "          document.querySelector('#df-6e460c9e-a3b3-4952-9d86-329f4cc048c5 button.colab-df-convert');\n",
              "        buttonEl.style.display =\n",
              "          google.colab.kernel.accessAllowed ? 'block' : 'none';\n",
              "\n",
              "        async function convertToInteractive(key) {\n",
              "          const element = document.querySelector('#df-6e460c9e-a3b3-4952-9d86-329f4cc048c5');\n",
              "          const dataTable =\n",
              "            await google.colab.kernel.invokeFunction('convertToInteractive',\n",
              "                                                     [key], {});\n",
              "          if (!dataTable) return;\n",
              "\n",
              "          const docLinkHtml = 'Like what you see? Visit the ' +\n",
              "            '<a target=\"_blank\" href=https://colab.research.google.com/notebooks/data_table.ipynb>data table notebook</a>'\n",
              "            + ' to learn more about interactive tables.';\n",
              "          element.innerHTML = '';\n",
              "          dataTable['output_type'] = 'display_data';\n",
              "          await google.colab.output.renderOutput(dataTable, element);\n",
              "          const docLink = document.createElement('div');\n",
              "          docLink.innerHTML = docLinkHtml;\n",
              "          element.appendChild(docLink);\n",
              "        }\n",
              "      </script>\n",
              "    </div>\n",
              "  </div>\n",
              "  "
            ]
          },
          "metadata": {},
          "execution_count": 55
        }
      ],
      "source": [
        "test_datal73"
      ]
    },
    {
      "cell_type": "code",
      "execution_count": null,
      "metadata": {
        "colab": {
          "base_uri": "https://localhost:8080/"
        },
        "id": "cy3jTruSopAO",
        "outputId": "61aced1d-c7d8-4116-89a4-76c2a3e70e43"
      },
      "outputs": [
        {
          "output_type": "stream",
          "name": "stdout",
          "text": [
            "MAPE: 5.77%\n",
            "RMSE:  2452811.3028311552\n"
          ]
        }
      ],
      "source": [
        "#7-3 test data\n",
        "mape_t73 = mean_absolute_percentage_error(test_datal73['Prices'],test_datal73['prediction'])\n",
        "print(f\"MAPE: {mape_t73 * 100:.2f}%\")\n",
        "print('RMSE: ',np.sqrt(mean_squared_error(test_datal73['Prices'],test_datal73['prediction'])))"
      ]
    },
    {
      "cell_type": "code",
      "execution_count": null,
      "metadata": {
        "colab": {
          "base_uri": "https://localhost:8080/",
          "height": 455
        },
        "id": "i6KVGvZIrdma",
        "outputId": "ca162a71-d1e2-40c0-ba4d-bda97f1911c8"
      },
      "outputs": [
        {
          "output_type": "execute_result",
          "data": {
            "text/plain": [
              "                 Prices  prediction\n",
              "Date                               \n",
              "2020-04-01  37198698.40  36631136.0\n",
              "2020-04-02  38148397.15  36504680.0\n",
              "2020-04-03  38012703.80  36454420.0\n",
              "2020-04-06  38652636.15  36477776.0\n",
              "2020-04-07  38687281.88  36621532.0\n",
              "...                 ...         ...\n",
              "2022-04-04  44102530.37  41288784.0\n",
              "2022-04-05  44470144.87  41279376.0\n",
              "2022-04-06  44137702.89  41320560.0\n",
              "2022-04-07  44176594.17  41339600.0\n",
              "2022-04-08  44384284.57  41334248.0\n",
              "\n",
              "[528 rows x 2 columns]"
            ],
            "text/html": [
              "\n",
              "  <div id=\"df-28242dbb-3435-43e9-8bb7-a39a14d43ad1\">\n",
              "    <div class=\"colab-df-container\">\n",
              "      <div>\n",
              "<style scoped>\n",
              "    .dataframe tbody tr th:only-of-type {\n",
              "        vertical-align: middle;\n",
              "    }\n",
              "\n",
              "    .dataframe tbody tr th {\n",
              "        vertical-align: top;\n",
              "    }\n",
              "\n",
              "    .dataframe thead th {\n",
              "        text-align: right;\n",
              "    }\n",
              "</style>\n",
              "<table border=\"1\" class=\"dataframe\">\n",
              "  <thead>\n",
              "    <tr style=\"text-align: right;\">\n",
              "      <th></th>\n",
              "      <th>Prices</th>\n",
              "      <th>prediction</th>\n",
              "    </tr>\n",
              "    <tr>\n",
              "      <th>Date</th>\n",
              "      <th></th>\n",
              "      <th></th>\n",
              "    </tr>\n",
              "  </thead>\n",
              "  <tbody>\n",
              "    <tr>\n",
              "      <th>2020-04-01</th>\n",
              "      <td>37198698.40</td>\n",
              "      <td>36631136.0</td>\n",
              "    </tr>\n",
              "    <tr>\n",
              "      <th>2020-04-02</th>\n",
              "      <td>38148397.15</td>\n",
              "      <td>36504680.0</td>\n",
              "    </tr>\n",
              "    <tr>\n",
              "      <th>2020-04-03</th>\n",
              "      <td>38012703.80</td>\n",
              "      <td>36454420.0</td>\n",
              "    </tr>\n",
              "    <tr>\n",
              "      <th>2020-04-06</th>\n",
              "      <td>38652636.15</td>\n",
              "      <td>36477776.0</td>\n",
              "    </tr>\n",
              "    <tr>\n",
              "      <th>2020-04-07</th>\n",
              "      <td>38687281.88</td>\n",
              "      <td>36621532.0</td>\n",
              "    </tr>\n",
              "    <tr>\n",
              "      <th>...</th>\n",
              "      <td>...</td>\n",
              "      <td>...</td>\n",
              "    </tr>\n",
              "    <tr>\n",
              "      <th>2022-04-04</th>\n",
              "      <td>44102530.37</td>\n",
              "      <td>41288784.0</td>\n",
              "    </tr>\n",
              "    <tr>\n",
              "      <th>2022-04-05</th>\n",
              "      <td>44470144.87</td>\n",
              "      <td>41279376.0</td>\n",
              "    </tr>\n",
              "    <tr>\n",
              "      <th>2022-04-06</th>\n",
              "      <td>44137702.89</td>\n",
              "      <td>41320560.0</td>\n",
              "    </tr>\n",
              "    <tr>\n",
              "      <th>2022-04-07</th>\n",
              "      <td>44176594.17</td>\n",
              "      <td>41339600.0</td>\n",
              "    </tr>\n",
              "    <tr>\n",
              "      <th>2022-04-08</th>\n",
              "      <td>44384284.57</td>\n",
              "      <td>41334248.0</td>\n",
              "    </tr>\n",
              "  </tbody>\n",
              "</table>\n",
              "<p>528 rows × 2 columns</p>\n",
              "</div>\n",
              "      <button class=\"colab-df-convert\" onclick=\"convertToInteractive('df-28242dbb-3435-43e9-8bb7-a39a14d43ad1')\"\n",
              "              title=\"Convert this dataframe to an interactive table.\"\n",
              "              style=\"display:none;\">\n",
              "        \n",
              "  <svg xmlns=\"http://www.w3.org/2000/svg\" height=\"24px\"viewBox=\"0 0 24 24\"\n",
              "       width=\"24px\">\n",
              "    <path d=\"M0 0h24v24H0V0z\" fill=\"none\"/>\n",
              "    <path d=\"M18.56 5.44l.94 2.06.94-2.06 2.06-.94-2.06-.94-.94-2.06-.94 2.06-2.06.94zm-11 1L8.5 8.5l.94-2.06 2.06-.94-2.06-.94L8.5 2.5l-.94 2.06-2.06.94zm10 10l.94 2.06.94-2.06 2.06-.94-2.06-.94-.94-2.06-.94 2.06-2.06.94z\"/><path d=\"M17.41 7.96l-1.37-1.37c-.4-.4-.92-.59-1.43-.59-.52 0-1.04.2-1.43.59L10.3 9.45l-7.72 7.72c-.78.78-.78 2.05 0 2.83L4 21.41c.39.39.9.59 1.41.59.51 0 1.02-.2 1.41-.59l7.78-7.78 2.81-2.81c.8-.78.8-2.07 0-2.86zM5.41 20L4 18.59l7.72-7.72 1.47 1.35L5.41 20z\"/>\n",
              "  </svg>\n",
              "      </button>\n",
              "      \n",
              "  <style>\n",
              "    .colab-df-container {\n",
              "      display:flex;\n",
              "      flex-wrap:wrap;\n",
              "      gap: 12px;\n",
              "    }\n",
              "\n",
              "    .colab-df-convert {\n",
              "      background-color: #E8F0FE;\n",
              "      border: none;\n",
              "      border-radius: 50%;\n",
              "      cursor: pointer;\n",
              "      display: none;\n",
              "      fill: #1967D2;\n",
              "      height: 32px;\n",
              "      padding: 0 0 0 0;\n",
              "      width: 32px;\n",
              "    }\n",
              "\n",
              "    .colab-df-convert:hover {\n",
              "      background-color: #E2EBFA;\n",
              "      box-shadow: 0px 1px 2px rgba(60, 64, 67, 0.3), 0px 1px 3px 1px rgba(60, 64, 67, 0.15);\n",
              "      fill: #174EA6;\n",
              "    }\n",
              "\n",
              "    [theme=dark] .colab-df-convert {\n",
              "      background-color: #3B4455;\n",
              "      fill: #D2E3FC;\n",
              "    }\n",
              "\n",
              "    [theme=dark] .colab-df-convert:hover {\n",
              "      background-color: #434B5C;\n",
              "      box-shadow: 0px 1px 3px 1px rgba(0, 0, 0, 0.15);\n",
              "      filter: drop-shadow(0px 1px 2px rgba(0, 0, 0, 0.3));\n",
              "      fill: #FFFFFF;\n",
              "    }\n",
              "  </style>\n",
              "\n",
              "      <script>\n",
              "        const buttonEl =\n",
              "          document.querySelector('#df-28242dbb-3435-43e9-8bb7-a39a14d43ad1 button.colab-df-convert');\n",
              "        buttonEl.style.display =\n",
              "          google.colab.kernel.accessAllowed ? 'block' : 'none';\n",
              "\n",
              "        async function convertToInteractive(key) {\n",
              "          const element = document.querySelector('#df-28242dbb-3435-43e9-8bb7-a39a14d43ad1');\n",
              "          const dataTable =\n",
              "            await google.colab.kernel.invokeFunction('convertToInteractive',\n",
              "                                                     [key], {});\n",
              "          if (!dataTable) return;\n",
              "\n",
              "          const docLinkHtml = 'Like what you see? Visit the ' +\n",
              "            '<a target=\"_blank\" href=https://colab.research.google.com/notebooks/data_table.ipynb>data table notebook</a>'\n",
              "            + ' to learn more about interactive tables.';\n",
              "          element.innerHTML = '';\n",
              "          dataTable['output_type'] = 'display_data';\n",
              "          await google.colab.output.renderOutput(dataTable, element);\n",
              "          const docLink = document.createElement('div');\n",
              "          docLink.innerHTML = docLinkHtml;\n",
              "          element.appendChild(docLink);\n",
              "        }\n",
              "      </script>\n",
              "    </div>\n",
              "  </div>\n",
              "  "
            ]
          },
          "metadata": {},
          "execution_count": 57
        }
      ],
      "source": [
        "test_datal91"
      ]
    },
    {
      "cell_type": "code",
      "execution_count": null,
      "metadata": {
        "colab": {
          "base_uri": "https://localhost:8080/"
        },
        "id": "VNMRUSW1oojD",
        "outputId": "23735218-565e-4c76-d40b-10ebcc9a7347"
      },
      "outputs": [
        {
          "output_type": "stream",
          "name": "stdout",
          "text": [
            "MAPE: 5.52%\n",
            "RMSE:  2438809.0023021423\n"
          ]
        }
      ],
      "source": [
        "#9-1 test data\n",
        "# print('R_square train: ', r2_score(test_datal91['Prices'],test_datal91['prediction']))\n",
        "# print('MAE: ',mean_absolute_error(test_datal91['Prices'],test_datal91['prediction']))\n",
        "mape91 = mean_absolute_percentage_error(test_datal91['Prices'],test_datal91['prediction'])\n",
        "print(f\"MAPE: {mape91 * 100:.2f}%\")\n",
        "# print('MSE: ',mean_squared_error(test_datal91['Prices'],test_datal91['prediction']))\n",
        "print('RMSE: ',np.sqrt(mean_squared_error(test_datal91['Prices'],test_datal91['prediction'])))"
      ]
    },
    {
      "cell_type": "markdown",
      "metadata": {
        "id": "JUQV60nrip3E"
      },
      "source": [
        "**PRIDICTION GOLD PRICES NEXT 15 DAYS**\n",
        "---\n",
        "\n",
        "---\n"
      ]
    },
    {
      "cell_type": "code",
      "execution_count": null,
      "metadata": {
        "id": "1qwrTpPM-ot1"
      },
      "outputs": [],
      "source": [
        "sc=MinMaxScaler(feature_range=(0,1))\n",
        "sc_test=sc.fit_transform(test_data)"
      ]
    },
    {
      "cell_type": "code",
      "execution_count": null,
      "metadata": {
        "colab": {
          "base_uri": "https://localhost:8080/"
        },
        "id": "bodjCAsALlPV",
        "outputId": "a1ea91da-ca48-4189-acff-37902d84904e"
      },
      "outputs": [
        {
          "output_type": "execute_result",
          "data": {
            "text/plain": [
              "(1, 15)"
            ]
          },
          "metadata": {},
          "execution_count": 60
        }
      ],
      "source": [
        "x_input=sc_test[(len(test_data)-15):].reshape(1,-1)\n",
        "x_input.shape"
      ]
    },
    {
      "cell_type": "code",
      "execution_count": null,
      "metadata": {
        "id": "KzBPDvVB7TTR"
      },
      "outputs": [],
      "source": [
        "# x_input=sc_test[1028:].reshape(1,-1)\n",
        "# x_input.shape"
      ]
    },
    {
      "cell_type": "code",
      "execution_count": null,
      "metadata": {
        "colab": {
          "base_uri": "https://localhost:8080/"
        },
        "id": "GUi0LNtCs4WR",
        "outputId": "f56bb7c6-e94c-450c-a064-18e2f89815d9"
      },
      "outputs": [
        {
          "output_type": "execute_result",
          "data": {
            "text/plain": [
              "array([[0.82086813, 0.79967346, 0.81831288, 0.85543213, 0.841921  ,\n",
              "        0.82381383, 0.79333594, 0.81895965, 0.82671492, 0.81233614,\n",
              "        0.81414337, 0.83211569, 0.81586292, 0.81776428, 0.82791807]])"
            ]
          },
          "metadata": {},
          "execution_count": 62
        }
      ],
      "source": [
        "x_input"
      ]
    },
    {
      "cell_type": "code",
      "execution_count": null,
      "metadata": {
        "id": "xnBg2J4p7Yon"
      },
      "outputs": [],
      "source": [
        "temp_input=list(x_input)\n",
        "temp_input=temp_input[0].tolist()"
      ]
    },
    {
      "cell_type": "code",
      "execution_count": null,
      "metadata": {
        "colab": {
          "base_uri": "https://localhost:8080/"
        },
        "id": "4a2wQTTGtqI_",
        "outputId": "4ae5aead-bbc8-4307-d4b9-5b2c32d55893"
      },
      "outputs": [
        {
          "output_type": "execute_result",
          "data": {
            "text/plain": [
              "[0.8208681280523751,\n",
              " 0.799673455080389,\n",
              " 0.8183128761723071,\n",
              " 0.8554321347695499,\n",
              " 0.8419210018018684,\n",
              " 0.8238138331846911,\n",
              " 0.7933359387310219,\n",
              " 0.8189596477882588,\n",
              " 0.8267149192507321,\n",
              " 0.8123361423201174,\n",
              " 0.8141433743714519,\n",
              " 0.8321156923646174,\n",
              " 0.8158629249170943,\n",
              " 0.8177642820488755,\n",
              " 0.827918065191074]"
            ]
          },
          "metadata": {},
          "execution_count": 64
        }
      ],
      "source": [
        "temp_input"
      ]
    },
    {
      "cell_type": "code",
      "execution_count": null,
      "metadata": {
        "colab": {
          "base_uri": "https://localhost:8080/"
        },
        "id": "TegS-7y87bbk",
        "outputId": "80782260-ff2f-4cad-d952-1d6008d50c99"
      },
      "outputs": [
        {
          "output_type": "stream",
          "name": "stdout",
          "text": [
            "1/1 - 2s - 2s/epoch - 2s/step\n",
            "[0.7780688]\n",
            "16\n",
            "2 day input [0.79967346 0.81831288 0.85543213 0.841921   0.82381383 0.79333594\n",
            " 0.81895965 0.82671492 0.81233614 0.81414337 0.83211569 0.81586292\n",
            " 0.81776428 0.82791807 0.77806878]\n",
            "1/1 [==============================] - 0s 27ms/step\n",
            "2 day output [[0.77528274]]\n",
            "3 day input [0.81831288 0.85543213 0.841921   0.82381383 0.79333594 0.81895965\n",
            " 0.82671492 0.81233614 0.81414337 0.83211569 0.81586292 0.81776428\n",
            " 0.82791807 0.77806878 0.77528274]\n",
            "1/1 [==============================] - 0s 30ms/step\n",
            "3 day output [[0.77009106]]\n",
            "4 day input [0.85543213 0.841921   0.82381383 0.79333594 0.81895965 0.82671492\n",
            " 0.81233614 0.81414337 0.83211569 0.81586292 0.81776428 0.82791807\n",
            " 0.77806878 0.77528274 0.77009106]\n",
            "1/1 [==============================] - 0s 29ms/step\n",
            "4 day output [[0.7639289]]\n",
            "5 day input [0.841921   0.82381383 0.79333594 0.81895965 0.82671492 0.81233614\n",
            " 0.81414337 0.83211569 0.81586292 0.81776428 0.82791807 0.77806878\n",
            " 0.77528274 0.77009106 0.76392889]\n",
            "1/1 [==============================] - 0s 33ms/step\n",
            "5 day output [[0.75763804]]\n",
            "6 day input [0.82381383 0.79333594 0.81895965 0.82671492 0.81233614 0.81414337\n",
            " 0.83211569 0.81586292 0.81776428 0.82791807 0.77806878 0.77528274\n",
            " 0.77009106 0.76392889 0.75763804]\n",
            "1/1 [==============================] - 0s 29ms/step\n",
            "6 day output [[0.751812]]\n",
            "7 day input [0.79333594 0.81895965 0.82671492 0.81233614 0.81414337 0.83211569\n",
            " 0.81586292 0.81776428 0.82791807 0.77806878 0.77528274 0.77009106\n",
            " 0.76392889 0.75763804 0.75181198]\n",
            "1/1 [==============================] - 0s 24ms/step\n",
            "7 day output [[0.7464162]]\n",
            "8 day input [0.81895965 0.82671492 0.81233614 0.81414337 0.83211569 0.81586292\n",
            " 0.81776428 0.82791807 0.77806878 0.77528274 0.77009106 0.76392889\n",
            " 0.75763804 0.75181198 0.74641621]\n",
            "1/1 [==============================] - 0s 23ms/step\n",
            "8 day output [[0.7414104]]\n",
            "9 day input [0.82671492 0.81233614 0.81414337 0.83211569 0.81586292 0.81776428\n",
            " 0.82791807 0.77806878 0.77528274 0.77009106 0.76392889 0.75763804\n",
            " 0.75181198 0.74641621 0.74141037]\n",
            "1/1 [==============================] - 0s 24ms/step\n",
            "9 day output [[0.73637176]]\n",
            "10 day input [0.81233614 0.81414337 0.83211569 0.81586292 0.81776428 0.82791807\n",
            " 0.77806878 0.77528274 0.77009106 0.76392889 0.75763804 0.75181198\n",
            " 0.74641621 0.74141037 0.73637176]\n",
            "1/1 [==============================] - 0s 26ms/step\n",
            "10 day output [[0.73142135]]\n",
            "11 day input [0.81414337 0.83211569 0.81586292 0.81776428 0.82791807 0.77806878\n",
            " 0.77528274 0.77009106 0.76392889 0.75763804 0.75181198 0.74641621\n",
            " 0.74141037 0.73637176 0.73142135]\n",
            "1/1 [==============================] - 0s 32ms/step\n",
            "11 day output [[0.7266761]]\n",
            "12 day input [0.83211569 0.81586292 0.81776428 0.82791807 0.77806878 0.77528274\n",
            " 0.77009106 0.76392889 0.75763804 0.75181198 0.74641621 0.74141037\n",
            " 0.73637176 0.73142135 0.72667611]\n",
            "1/1 [==============================] - 0s 33ms/step\n",
            "12 day output [[0.7220055]]\n",
            "13 day input [0.81586292 0.81776428 0.82791807 0.77806878 0.77528274 0.77009106\n",
            " 0.76392889 0.75763804 0.75181198 0.74641621 0.74141037 0.73637176\n",
            " 0.73142135 0.72667611 0.72200549]\n",
            "1/1 [==============================] - 0s 35ms/step\n",
            "13 day output [[0.71731925]]\n",
            "14 day input [0.81776428 0.82791807 0.77806878 0.77528274 0.77009106 0.76392889\n",
            " 0.75763804 0.75181198 0.74641621 0.74141037 0.73637176 0.73142135\n",
            " 0.72667611 0.72200549 0.71731925]\n",
            "1/1 [==============================] - 0s 28ms/step\n",
            "14 day output [[0.7128517]]\n",
            "15 day input [0.82791807 0.77806878 0.77528274 0.77009106 0.76392889 0.75763804\n",
            " 0.75181198 0.74641621 0.74141037 0.73637176 0.73142135 0.72667611\n",
            " 0.72200549 0.71731925 0.7128517 ]\n",
            "1/1 [==============================] - 0s 27ms/step\n",
            "15 day output [[0.70846653]]\n"
          ]
        }
      ],
      "source": [
        "# demonstrate prediction for next 30 days\n",
        "from numpy import array\n",
        "\n",
        "lst_output=[]\n",
        "n_steps=15\n",
        "i=0\n",
        "while(i<15):\n",
        "    if(len(temp_input)>15):\n",
        "        x_input=np.array(temp_input[1:])\n",
        "        print(\"{} day input {}\".format(i+1,x_input))\n",
        "        x_input=x_input.reshape(1,-1)\n",
        "        x_input = x_input.reshape((1, n_steps, 1))\n",
        "        yhat = model.predict(x_input, verbose=1)\n",
        "        print(\"{} day output {}\".format(i+1,yhat))\n",
        "        temp_input.extend(yhat[0].tolist())\n",
        "        temp_input=temp_input[1:]\n",
        "        lst_output.extend(yhat.tolist())\n",
        "        i=i+1\n",
        "    else:\n",
        "        x_input = x_input.reshape((1, n_steps,1))\n",
        "        yhat = model.predict(x_input, verbose=2)\n",
        "        print(yhat[0])\n",
        "        temp_input.extend(yhat[0].tolist())\n",
        "        print(len(temp_input))\n",
        "        lst_output.extend(yhat.tolist())\n",
        "        i=i+1\n"
      ]
    },
    {
      "cell_type": "code",
      "execution_count": null,
      "metadata": {
        "id": "NvBuwdVH7n12"
      },
      "outputs": [],
      "source": [
        "day_new=np.arange(1,16)\n",
        "day_pred=np.arange(16,31)"
      ]
    },
    {
      "cell_type": "code",
      "execution_count": null,
      "metadata": {
        "id": "zUwABBHL70L7"
      },
      "outputs": [],
      "source": [
        "lst_output=sc.inverse_transform(lst_output)"
      ]
    },
    {
      "cell_type": "code",
      "execution_count": null,
      "metadata": {
        "colab": {
          "base_uri": "https://localhost:8080/",
          "height": 294
        },
        "id": "n18H2x9H8EUh",
        "outputId": "535af35d-80ef-4490-c105-3733ba65f660"
      },
      "outputs": [
        {
          "output_type": "execute_result",
          "data": {
            "text/plain": [
              "[<matplotlib.lines.Line2D at 0x7ff750257130>]"
            ]
          },
          "metadata": {},
          "execution_count": 68
        },
        {
          "output_type": "display_data",
          "data": {
            "text/plain": [
              "<Figure size 432x288 with 1 Axes>"
            ],
            "image/png": "[encoded data removed]"
          },
          "metadata": {
            "needs_background": "light"
          }
        }
      ],
      "source": [
        "plt.plot(day_new,test_data[(len(test_data)-15):])\n",
        "plt.plot(day_pred,lst_output)"
      ]
    },
    {
      "cell_type": "code",
      "execution_count": null,
      "metadata": {
        "colab": {
          "base_uri": "https://localhost:8080/",
          "height": 349
        },
        "id": "aXc7xf6a8qAN",
        "outputId": "00a3be3f-4d72-40eb-a9df-8bd9a4d1bcc1"
      },
      "outputs": [
        {
          "output_type": "execute_result",
          "data": {
            "text/plain": [
              "[<matplotlib.lines.Line2D at 0x7ff74ffac910>]"
            ]
          },
          "metadata": {},
          "execution_count": 69
        },
        {
          "output_type": "display_data",
          "data": {
            "text/plain": [
              "<Figure size 1008x360 with 1 Axes>"
            ],
            "image/png": "[encoded data removed]"
          },
          "metadata": {
            "needs_background": "light"
          }
        }
      ],
      "source": [
        "df_new=data.tolist()\n",
        "df_new.extend(lst_output)\n",
        "plt.figure(figsize=(14,5))\n",
        "plt.plot(df_new)"
      ]
    },
    {
      "cell_type": "markdown",
      "metadata": {
        "id": "V8mehn3MEdbP"
      },
      "source": [
        "*Prices 15 days next*\n",
        "---\n"
      ]
    },
    {
      "cell_type": "code",
      "execution_count": null,
      "metadata": {
        "colab": {
          "base_uri": "https://localhost:8080/"
        },
        "id": "Q9fFkGC3Ec6r",
        "outputId": "95962cfc-1968-4245-e2f4-fb352a4e82ff"
      },
      "outputs": [
        {
          "output_type": "execute_result",
          "data": {
            "text/plain": [
              "array([[43364643.15661415],\n",
              "       [43307656.13832898],\n",
              "       [43201462.92309052],\n",
              "       [43075418.98191567],\n",
              "       [42946742.82619121],\n",
              "       [42827573.85391178],\n",
              "       [42717206.15853537],\n",
              "       [42614814.35365619],\n",
              "       [42511751.99852121],\n",
              "       [42410494.03316548],\n",
              "       [42313432.49322881],\n",
              "       [42217897.36951081],\n",
              "       [42122042.82003459],\n",
              "       [42030661.45035573],\n",
              "       [41940964.99059238]])"
            ]
          },
          "metadata": {},
          "execution_count": 70
        }
      ],
      "source": [
        "lst_output #pridictions gofld prices"
      ]
    },
    {
      "cell_type": "code",
      "execution_count": null,
      "metadata": {
        "colab": {
          "base_uri": "https://localhost:8080/"
        },
        "id": "T9Kz745u8DNn",
        "outputId": "7bc2ae41-7c27-46c2-9911-5f5b95a1a422"
      },
      "outputs": [
        {
          "output_type": "stream",
          "name": "stdout",
          "text": [
            "Nhập ngày thứ x ban muốn xem kết quả:\n",
            "1\n",
            "Bạn nhập ngày thứ: 1\n",
            "Kết quả là:  [43364643.15661415]\n"
          ]
        }
      ],
      "source": [
        "print(\"Nhập ngày thứ x ban muốn xem kết quả:\")\n",
        "x=int(input())\n",
        "print(\"Bạn nhập ngày thứ:\",x)\n",
        "if x <=0 or x >15:\n",
        "  print(\"Không có kết quả\")\n",
        "else:\n",
        "  result = lst_output[x-1]\n",
        "  print(\"Kết quả là: \",result)"
      ]
    }
  ],
  "metadata": {
    "colab": {
      "provenance": []
    },
    "kernelspec": {
      "display_name": "Python 3",
      "name": "python3"
    },
    "language_info": {
      "name": "python"
    }
  },
  "nbformat": 4,
  "nbformat_minor": 0
}